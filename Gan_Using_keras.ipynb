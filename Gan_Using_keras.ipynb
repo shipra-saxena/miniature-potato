{
  "nbformat": 4,
  "nbformat_minor": 0,
  "metadata": {
    "colab": {
      "name": "Untitled2.ipynb",
      "provenance": [],
      "include_colab_link": true
    },
    "kernelspec": {
      "name": "python3",
      "display_name": "Python 3"
    },
    "accelerator": "TPU"
  },
  "cells": [
    {
      "cell_type": "markdown",
      "metadata": {
        "id": "view-in-github",
        "colab_type": "text"
      },
      "source": [
        "<a href=\"https://colab.research.google.com/github/shipra-saxena/miniature-potato/blob/master/Gan_Using_keras.ipynb\" target=\"_parent\"><img src=\"https://colab.research.google.com/assets/colab-badge.svg\" alt=\"Open In Colab\"/></a>"
      ]
    },
    {
      "cell_type": "code",
      "metadata": {
        "id": "gFVh1nAup6ZW",
        "colab_type": "code",
        "colab": {}
      },
      "source": [
        "\n",
        "import torch\n",
        "from torch import nn,optim\n",
        "from torch.autograd.variable import Variable\n",
        "from torchvision import transforms,datasets"
      ],
      "execution_count": 0,
      "outputs": []
    },
    {
      "cell_type": "code",
      "metadata": {
        "id": "UPIYXQsup_Bj",
        "colab_type": "code",
        "colab": {}
      },
      "source": [
        "\n",
        "\n",
        "from utils import Logger"
      ],
      "execution_count": 0,
      "outputs": []
    },
    {
      "cell_type": "code",
      "metadata": {
        "id": "c6IWj22ZqFWB",
        "colab_type": "code",
        "colab": {}
      },
      "source": [
        "transform = transforms.Compose([\n",
        "                transforms.ToTensor(),\n",
        "                transforms.Normalize((0.1307,), (0.3081,))])"
      ],
      "execution_count": 0,
      "outputs": []
    },
    {
      "cell_type": "code",
      "metadata": {
        "id": "TFOQLmunqM2b",
        "colab_type": "code",
        "colab": {}
      },
      "source": [
        "mnist = torchvision.datasets.MNIST(root='./data/',\n",
        "                                   train=True,\n",
        "                                   transform=transform,\n",
        "                                   download=True)\n",
        "\n",
        "num_batches = len(data_loader)"
      ],
      "execution_count": 0,
      "outputs": []
    },
    {
      "cell_type": "code",
      "metadata": {
        "id": "_WDHL5iNqRrY",
        "colab_type": "code",
        "colab": {}
      },
      "source": [
        "data_loader = torch.utils.data.DataLoader(dataset=mnist,\n",
        "                                          batch_size=batch_size, \n",
        "                                          shuffle=True)\n"
      ],
      "execution_count": 0,
      "outputs": []
    },
    {
      "cell_type": "code",
      "metadata": {
        "id": "MVXYqxD6qUrh",
        "colab_type": "code",
        "colab": {}
      },
      "source": [
        "class DiscriminatorNet(nn.Module):\n",
        "    \n",
        "    def __init__(self):\n",
        "        super(DiscriminatorNet,self).__init__()\n",
        "        n_features = 784\n",
        "        n_out = 1\n",
        "        \n",
        "        self.hidden0 = nn.Sequential(nn.Linear(n_features,1024),\n",
        "                                    nn.LeakyReLU(0.2),\n",
        "                                    nn.Dropout(0.3)\n",
        "                                    )\n",
        "        \n",
        "        self.hidden1 = nn.Sequential(nn.Linear(1024,512),\n",
        "                                    nn.LeakyReLU(0.2),\n",
        "                                    nn.Dropout(0.3),\n",
        "                                    )\n",
        "        \n",
        "        self.hidden2 = nn.Sequential(nn.Linear(512,256),\n",
        "                                    nn.LeakyReLU(0.2),\n",
        "                                    nn.Dropout(0.3),\n",
        "                                    )\n",
        "        \n",
        "        self.out = nn.Sequential(nn.Linear(256,n_out),\n",
        "                                nn.Sigmoid()\n",
        "                                )\n",
        "        \n",
        "    def forward(self,x):\n",
        "        x = self.hidden0(x)\n",
        "        x = self.hidden1(x)\n",
        "        x = self.hidden2(x)\n",
        "        x = self.out(x)\n",
        "        return x\n",
        "    \n",
        "discriminator = DiscriminatorNet()"
      ],
      "execution_count": 0,
      "outputs": []
    },
    {
      "cell_type": "code",
      "metadata": {
        "id": "caoXbFMHqZTA",
        "colab_type": "code",
        "colab": {}
      },
      "source": [
        "def images_to_vectors(images):\n",
        "    return images.view(images.size(0),784)\n",
        "\n",
        "def vectors_to_images(vectors):\n",
        "    return vectors.view(vectors.size(0),1,28,28)\n"
      ],
      "execution_count": 0,
      "outputs": []
    },
    {
      "cell_type": "code",
      "metadata": {
        "id": "bedNdSisqgp_",
        "colab_type": "code",
        "colab": {}
      },
      "source": [
        "class GeneratorNet(nn.Module):\n",
        "    \n",
        "    def __init__(self):\n",
        "        super(GeneratorNet,self).__init__()\n",
        "        n_features = 100\n",
        "        n_out = 784\n",
        "        \n",
        "        self.hidden0 = nn.Sequential(nn.Linear(n_features,256),\n",
        "                                    nn.LeakyReLU(0.2),\n",
        "                                    )\n",
        "        \n",
        "        self.hidden1 = nn.Sequential(nn.Linear(256,512),\n",
        "                                    nn.LeakyReLU(0.2),\n",
        "                                    )\n",
        "        \n",
        "        self.hidden2 = nn.Sequential(nn.Linear(512,1024),\n",
        "                                    nn.LeakyReLU(0.2),\n",
        "                                    )\n",
        "        \n",
        "        self.out = nn.Sequential(nn.Linear(1024,n_out),\n",
        "                                nn.Tanh()\n",
        "                                )\n",
        "        \n",
        "    def forward(self,x):\n",
        "        x = self.hidden0(x)\n",
        "        x = self.hidden1(x)\n",
        "        x = self.hidden2(x)\n",
        "        x = self.out(x)\n",
        "        return x\n",
        "    \n",
        "generator = GeneratorNet()"
      ],
      "execution_count": 0,
      "outputs": []
    },
    {
      "cell_type": "code",
      "metadata": {
        "id": "x16udK9eqj9Q",
        "colab_type": "code",
        "colab": {}
      },
      "source": [
        "def noise(size):\n",
        "    n = Variable(torch.randn(size,100))\n",
        "    return n"
      ],
      "execution_count": 0,
      "outputs": []
    },
    {
      "cell_type": "code",
      "metadata": {
        "id": "xMoK9uvNqn1I",
        "colab_type": "code",
        "colab": {}
      },
      "source": [
        "d_optimizer = optim.Adam(discriminator.parameters(),lr = 0.0002)\n",
        "g_optimizer = optim.Adam(generator.parameters(),lr = 0.0002)\n"
      ],
      "execution_count": 0,
      "outputs": []
    },
    {
      "cell_type": "code",
      "metadata": {
        "id": "1-zuJ0Krqqp0",
        "colab_type": "code",
        "colab": {}
      },
      "source": [
        "loss = nn.BCELoss()"
      ],
      "execution_count": 0,
      "outputs": []
    },
    {
      "cell_type": "code",
      "metadata": {
        "id": "lPnueZfGquXK",
        "colab_type": "code",
        "colab": {}
      },
      "source": [
        "def ones_target(size):\n",
        "    data = Variable(torch.ones(size,1))\n",
        "    return data\n",
        "\n",
        "def zeros_target(size):\n",
        "    data = Variable(torch.zeros(size,1))\n",
        "    return data"
      ],
      "execution_count": 0,
      "outputs": []
    },
    {
      "cell_type": "code",
      "metadata": {
        "id": "Y7tV6r2mqvJG",
        "colab_type": "code",
        "colab": {}
      },
      "source": [
        "def train_discriminator(optimizer,real_data,fake_data):\n",
        "    \n",
        "    N = real_data.size(0)\n",
        "    \n",
        "    #Resetting gradients\n",
        "    optimizer.zero_grad()\n",
        "    \n",
        "    #Training on real data\n",
        "    prediction_real = discriminator(real_data)\n",
        "    #Calculate error and backpropagation\n",
        "    error_real = loss(prediction_real,ones_target(N))\n",
        "    error_real.backward()\n",
        "    \n",
        "    #Training on fake data\n",
        "    prediction_fake = discriminator(fake_data)\n",
        "    #Calculate error and backpropagation\n",
        "    error_fake = loss(prediction_fake,zeros_target(N))\n",
        "    error_fake.backward()\n",
        "    \n",
        "    #Update weights with gradients\n",
        "    optimizer.step()\n",
        "    \n",
        "    # Return error and prediction for real and fake inputs\n",
        "    return error_real + error_fake,prediction_real,prediction_fake"
      ],
      "execution_count": 0,
      "outputs": []
    },
    {
      "cell_type": "code",
      "metadata": {
        "id": "d3N6vx_mq1_I",
        "colab_type": "code",
        "colab": {}
      },
      "source": [
        "def train_generator(optimizer,fake_data):\n",
        "    \n",
        "    N = fake_data.size(0)\n",
        "    \n",
        "    #Resetting gradients\n",
        "    optimizer.zero_grad()\n",
        "    \n",
        "    # Noise generation\n",
        "    prediction = discriminator(fake_data)\n",
        "    \n",
        "    # Calculating error and backpropagation\n",
        "    error = loss(prediction,ones_target(N))\n",
        "    error.backward()\n",
        "    \n",
        "    # Update weights with gradients\n",
        "    optimizer.step()\n",
        "    \n",
        "    return error"
      ],
      "execution_count": 0,
      "outputs": []
    },
    {
      "cell_type": "code",
      "metadata": {
        "id": "tAqeexz7q7Sv",
        "colab_type": "code",
        "colab": {}
      },
      "source": [
        "num_test_samples = 16\n",
        "test_noise = noise(num_test_exanples)"
      ],
      "execution_count": 0,
      "outputs": []
    },
    {
      "cell_type": "code",
      "metadata": {
        "id": "Ec5uCKelq8SX",
        "colab_type": "code",
        "colab": {}
      },
      "source": [
        " Creating Logger instance\n",
        "\n",
        "logger = Logger(model_name = \"VGAN\",data_name = \"MNIST\")\n",
        "\n",
        "# Total number of epochs\n",
        "num_epochs = 200\n",
        "\n",
        "for epoch in range(num_epochs):\n",
        "    for n_batch, (real_batch,_) in enumerate(data_loader):\n",
        "        \n",
        "        N = real_batch.size(0)\n",
        "        \n",
        "        # Training Discriminator\n",
        "        real_data = Variable(images_to_vectors(real_batch))\n",
        "        \n",
        "        # Generate fake data and detach\n",
        "        # So no gradients are calculated for generator\n",
        "        fake_data = generator(noise(N)).detach()\n",
        "        \n",
        "        d_error,d_pred_real,d_pred_fake = train_discriminator(d_optimizer,real_data,fake_data)\n",
        "        \n",
        "        # Training Generator\n",
        "        fake_data = generator(noise(N))\n",
        "        \n",
        "        g_error = train_generator(g_optimizer,fake_data)\n",
        "        \n",
        "        logger.log(d_error,g_error,epoch,n_batch,num_batches)\n",
        "        \n",
        "        if (n_batch) % 100 == 0: \n",
        "            test_images = vectors_to_images(generator(test_noise))\n",
        "            test_images = test_images.data\n",
        "            logger.log_images(\n",
        "                test_images, num_test_samples, \n",
        "                epoch, n_batch, num_batches\n",
        "            );\n",
        "            \n",
        "            # Display status Logs\n",
        "            logger.display_status(\n",
        "                epoch, num_epochs, n_batch, num_batches,\n",
        "                d_error, g_error, d_pred_real, d_pred_fake\n",
        "            )\n",
        "\n"
      ],
      "execution_count": 0,
      "outputs": []
    }
  ]
}