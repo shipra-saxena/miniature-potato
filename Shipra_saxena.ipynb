{
  "nbformat": 4,
  "nbformat_minor": 0,
  "metadata": {
    "colab": {
      "name": "Shipra_saxena.ipynb",
      "provenance": [],
      "collapsed_sections": [],
      "include_colab_link": true
    },
    "kernelspec": {
      "name": "python3",
      "display_name": "Python 3"
    }
  },
  "cells": [
    {
      "cell_type": "markdown",
      "metadata": {
        "id": "view-in-github",
        "colab_type": "text"
      },
      "source": [
        "<a href=\"https://colab.research.google.com/github/shipra-saxena/miniature-potato/blob/master/Shipra_saxena.ipynb\" target=\"_parent\"><img src=\"https://colab.research.google.com/assets/colab-badge.svg\" alt=\"Open In Colab\"/></a>"
      ]
    },
    {
      "cell_type": "markdown",
      "metadata": {
        "id": "i2HKPNbmPl4X",
        "colab_type": "text"
      },
      "source": [
        "Important liberary imports"
      ]
    },
    {
      "cell_type": "code",
      "metadata": {
        "id": "YUvbNWMWYg0a",
        "colab_type": "code",
        "colab": {}
      },
      "source": [
        "import numpy as np\n",
        "import pandas as pd\n",
        "from sklearn.model_selection import train_test_split\n",
        "from sklearn import preprocessing\n",
        "from keras.models import Sequential\n",
        "from keras.layers import Dense , Activation\n",
        "from sklearn.metrics import accuracy_score\n",
        "from sklearn.metrics import precision_score\n",
        "from sklearn.metrics import recall_score\n",
        "from sklearn.metrics import f1_score\n",
        "from sklearn.metrics import cohen_kappa_score\n",
        "from sklearn.metrics import roc_auc_score\n",
        "from sklearn.metrics import confusion_matrix\n",
        "import matplotlib.pyplot as plt "
      ],
      "execution_count": 0,
      "outputs": []
    },
    {
      "cell_type": "markdown",
      "metadata": {
        "id": "X8PP3DZ-P3dB",
        "colab_type": "text"
      },
      "source": [
        "Reading and understanding data"
      ]
    },
    {
      "cell_type": "code",
      "metadata": {
        "id": "rbPbu6AqajqD",
        "colab_type": "code",
        "colab": {}
      },
      "source": [
        "df=pd.read_csv('musk_csv.csv')"
      ],
      "execution_count": 0,
      "outputs": []
    },
    {
      "cell_type": "code",
      "metadata": {
        "id": "yGSAb8ckasGG",
        "colab_type": "code",
        "colab": {}
      },
      "source": [
        "df.shape"
      ],
      "execution_count": 0,
      "outputs": []
    },
    {
      "cell_type": "code",
      "metadata": {
        "id": "Foax2zLxbH_b",
        "colab_type": "code",
        "colab": {}
      },
      "source": [
        "df.columns"
      ],
      "execution_count": 0,
      "outputs": []
    },
    {
      "cell_type": "code",
      "metadata": {
        "id": "qQtocuzqeAvc",
        "colab_type": "code",
        "colab": {
          "base_uri": "https://localhost:8080/",
          "height": 187
        },
        "outputId": "c1792fd0-1625-42b5-89a5-e9531c1e6cbb"
      },
      "source": [
        "df.groupby('class').agg('count') #understanding class distribution of data\n"
      ],
      "execution_count": 5,
      "outputs": [
        {
          "output_type": "execute_result",
          "data": {
            "text/html": [
              "<div>\n",
              "<style scoped>\n",
              "    .dataframe tbody tr th:only-of-type {\n",
              "        vertical-align: middle;\n",
              "    }\n",
              "\n",
              "    .dataframe tbody tr th {\n",
              "        vertical-align: top;\n",
              "    }\n",
              "\n",
              "    .dataframe thead th {\n",
              "        text-align: right;\n",
              "    }\n",
              "</style>\n",
              "<table border=\"1\" class=\"dataframe\">\n",
              "  <thead>\n",
              "    <tr style=\"text-align: right;\">\n",
              "      <th></th>\n",
              "      <th>ID</th>\n",
              "      <th>molecule_name</th>\n",
              "      <th>conformation_name</th>\n",
              "      <th>f1</th>\n",
              "      <th>f2</th>\n",
              "      <th>f3</th>\n",
              "      <th>f4</th>\n",
              "      <th>f5</th>\n",
              "      <th>f6</th>\n",
              "      <th>f7</th>\n",
              "      <th>f8</th>\n",
              "      <th>f9</th>\n",
              "      <th>f10</th>\n",
              "      <th>f11</th>\n",
              "      <th>f12</th>\n",
              "      <th>f13</th>\n",
              "      <th>f14</th>\n",
              "      <th>f15</th>\n",
              "      <th>f16</th>\n",
              "      <th>f17</th>\n",
              "      <th>f18</th>\n",
              "      <th>f19</th>\n",
              "      <th>f20</th>\n",
              "      <th>f21</th>\n",
              "      <th>f22</th>\n",
              "      <th>f23</th>\n",
              "      <th>f24</th>\n",
              "      <th>f25</th>\n",
              "      <th>f26</th>\n",
              "      <th>f27</th>\n",
              "      <th>f28</th>\n",
              "      <th>f29</th>\n",
              "      <th>f30</th>\n",
              "      <th>f31</th>\n",
              "      <th>f32</th>\n",
              "      <th>f33</th>\n",
              "      <th>f34</th>\n",
              "      <th>f35</th>\n",
              "      <th>f36</th>\n",
              "      <th>f37</th>\n",
              "      <th>...</th>\n",
              "      <th>f127</th>\n",
              "      <th>f128</th>\n",
              "      <th>f129</th>\n",
              "      <th>f130</th>\n",
              "      <th>f131</th>\n",
              "      <th>f132</th>\n",
              "      <th>f133</th>\n",
              "      <th>f134</th>\n",
              "      <th>f135</th>\n",
              "      <th>f136</th>\n",
              "      <th>f137</th>\n",
              "      <th>f138</th>\n",
              "      <th>f139</th>\n",
              "      <th>f140</th>\n",
              "      <th>f141</th>\n",
              "      <th>f142</th>\n",
              "      <th>f143</th>\n",
              "      <th>f144</th>\n",
              "      <th>f145</th>\n",
              "      <th>f146</th>\n",
              "      <th>f147</th>\n",
              "      <th>f148</th>\n",
              "      <th>f149</th>\n",
              "      <th>f150</th>\n",
              "      <th>f151</th>\n",
              "      <th>f152</th>\n",
              "      <th>f153</th>\n",
              "      <th>f154</th>\n",
              "      <th>f155</th>\n",
              "      <th>f156</th>\n",
              "      <th>f157</th>\n",
              "      <th>f158</th>\n",
              "      <th>f159</th>\n",
              "      <th>f160</th>\n",
              "      <th>f161</th>\n",
              "      <th>f162</th>\n",
              "      <th>f163</th>\n",
              "      <th>f164</th>\n",
              "      <th>f165</th>\n",
              "      <th>f166</th>\n",
              "    </tr>\n",
              "    <tr>\n",
              "      <th>class</th>\n",
              "      <th></th>\n",
              "      <th></th>\n",
              "      <th></th>\n",
              "      <th></th>\n",
              "      <th></th>\n",
              "      <th></th>\n",
              "      <th></th>\n",
              "      <th></th>\n",
              "      <th></th>\n",
              "      <th></th>\n",
              "      <th></th>\n",
              "      <th></th>\n",
              "      <th></th>\n",
              "      <th></th>\n",
              "      <th></th>\n",
              "      <th></th>\n",
              "      <th></th>\n",
              "      <th></th>\n",
              "      <th></th>\n",
              "      <th></th>\n",
              "      <th></th>\n",
              "      <th></th>\n",
              "      <th></th>\n",
              "      <th></th>\n",
              "      <th></th>\n",
              "      <th></th>\n",
              "      <th></th>\n",
              "      <th></th>\n",
              "      <th></th>\n",
              "      <th></th>\n",
              "      <th></th>\n",
              "      <th></th>\n",
              "      <th></th>\n",
              "      <th></th>\n",
              "      <th></th>\n",
              "      <th></th>\n",
              "      <th></th>\n",
              "      <th></th>\n",
              "      <th></th>\n",
              "      <th></th>\n",
              "      <th></th>\n",
              "      <th></th>\n",
              "      <th></th>\n",
              "      <th></th>\n",
              "      <th></th>\n",
              "      <th></th>\n",
              "      <th></th>\n",
              "      <th></th>\n",
              "      <th></th>\n",
              "      <th></th>\n",
              "      <th></th>\n",
              "      <th></th>\n",
              "      <th></th>\n",
              "      <th></th>\n",
              "      <th></th>\n",
              "      <th></th>\n",
              "      <th></th>\n",
              "      <th></th>\n",
              "      <th></th>\n",
              "      <th></th>\n",
              "      <th></th>\n",
              "      <th></th>\n",
              "      <th></th>\n",
              "      <th></th>\n",
              "      <th></th>\n",
              "      <th></th>\n",
              "      <th></th>\n",
              "      <th></th>\n",
              "      <th></th>\n",
              "      <th></th>\n",
              "      <th></th>\n",
              "      <th></th>\n",
              "      <th></th>\n",
              "      <th></th>\n",
              "      <th></th>\n",
              "      <th></th>\n",
              "      <th></th>\n",
              "      <th></th>\n",
              "      <th></th>\n",
              "      <th></th>\n",
              "      <th></th>\n",
              "    </tr>\n",
              "  </thead>\n",
              "  <tbody>\n",
              "    <tr>\n",
              "      <th>0</th>\n",
              "      <td>5581</td>\n",
              "      <td>5581</td>\n",
              "      <td>5581</td>\n",
              "      <td>5581</td>\n",
              "      <td>5581</td>\n",
              "      <td>5581</td>\n",
              "      <td>5581</td>\n",
              "      <td>5581</td>\n",
              "      <td>5581</td>\n",
              "      <td>5581</td>\n",
              "      <td>5581</td>\n",
              "      <td>5581</td>\n",
              "      <td>5581</td>\n",
              "      <td>5581</td>\n",
              "      <td>5581</td>\n",
              "      <td>5581</td>\n",
              "      <td>5581</td>\n",
              "      <td>5581</td>\n",
              "      <td>5581</td>\n",
              "      <td>5581</td>\n",
              "      <td>5581</td>\n",
              "      <td>5581</td>\n",
              "      <td>5581</td>\n",
              "      <td>5581</td>\n",
              "      <td>5581</td>\n",
              "      <td>5581</td>\n",
              "      <td>5581</td>\n",
              "      <td>5581</td>\n",
              "      <td>5581</td>\n",
              "      <td>5581</td>\n",
              "      <td>5581</td>\n",
              "      <td>5581</td>\n",
              "      <td>5581</td>\n",
              "      <td>5581</td>\n",
              "      <td>5581</td>\n",
              "      <td>5581</td>\n",
              "      <td>5581</td>\n",
              "      <td>5581</td>\n",
              "      <td>5581</td>\n",
              "      <td>5581</td>\n",
              "      <td>...</td>\n",
              "      <td>5581</td>\n",
              "      <td>5581</td>\n",
              "      <td>5581</td>\n",
              "      <td>5581</td>\n",
              "      <td>5581</td>\n",
              "      <td>5581</td>\n",
              "      <td>5581</td>\n",
              "      <td>5581</td>\n",
              "      <td>5581</td>\n",
              "      <td>5581</td>\n",
              "      <td>5581</td>\n",
              "      <td>5581</td>\n",
              "      <td>5581</td>\n",
              "      <td>5581</td>\n",
              "      <td>5581</td>\n",
              "      <td>5581</td>\n",
              "      <td>5581</td>\n",
              "      <td>5581</td>\n",
              "      <td>5581</td>\n",
              "      <td>5581</td>\n",
              "      <td>5581</td>\n",
              "      <td>5581</td>\n",
              "      <td>5581</td>\n",
              "      <td>5581</td>\n",
              "      <td>5581</td>\n",
              "      <td>5581</td>\n",
              "      <td>5581</td>\n",
              "      <td>5581</td>\n",
              "      <td>5581</td>\n",
              "      <td>5581</td>\n",
              "      <td>5581</td>\n",
              "      <td>5581</td>\n",
              "      <td>5581</td>\n",
              "      <td>5581</td>\n",
              "      <td>5581</td>\n",
              "      <td>5581</td>\n",
              "      <td>5581</td>\n",
              "      <td>5581</td>\n",
              "      <td>5581</td>\n",
              "      <td>5581</td>\n",
              "    </tr>\n",
              "    <tr>\n",
              "      <th>1</th>\n",
              "      <td>1017</td>\n",
              "      <td>1017</td>\n",
              "      <td>1017</td>\n",
              "      <td>1017</td>\n",
              "      <td>1017</td>\n",
              "      <td>1017</td>\n",
              "      <td>1017</td>\n",
              "      <td>1017</td>\n",
              "      <td>1017</td>\n",
              "      <td>1017</td>\n",
              "      <td>1017</td>\n",
              "      <td>1017</td>\n",
              "      <td>1017</td>\n",
              "      <td>1017</td>\n",
              "      <td>1017</td>\n",
              "      <td>1017</td>\n",
              "      <td>1017</td>\n",
              "      <td>1017</td>\n",
              "      <td>1017</td>\n",
              "      <td>1017</td>\n",
              "      <td>1017</td>\n",
              "      <td>1017</td>\n",
              "      <td>1017</td>\n",
              "      <td>1017</td>\n",
              "      <td>1017</td>\n",
              "      <td>1017</td>\n",
              "      <td>1017</td>\n",
              "      <td>1017</td>\n",
              "      <td>1017</td>\n",
              "      <td>1017</td>\n",
              "      <td>1017</td>\n",
              "      <td>1017</td>\n",
              "      <td>1017</td>\n",
              "      <td>1017</td>\n",
              "      <td>1017</td>\n",
              "      <td>1017</td>\n",
              "      <td>1017</td>\n",
              "      <td>1017</td>\n",
              "      <td>1017</td>\n",
              "      <td>1017</td>\n",
              "      <td>...</td>\n",
              "      <td>1017</td>\n",
              "      <td>1017</td>\n",
              "      <td>1017</td>\n",
              "      <td>1017</td>\n",
              "      <td>1017</td>\n",
              "      <td>1017</td>\n",
              "      <td>1017</td>\n",
              "      <td>1017</td>\n",
              "      <td>1017</td>\n",
              "      <td>1017</td>\n",
              "      <td>1017</td>\n",
              "      <td>1017</td>\n",
              "      <td>1017</td>\n",
              "      <td>1017</td>\n",
              "      <td>1017</td>\n",
              "      <td>1017</td>\n",
              "      <td>1017</td>\n",
              "      <td>1017</td>\n",
              "      <td>1017</td>\n",
              "      <td>1017</td>\n",
              "      <td>1017</td>\n",
              "      <td>1017</td>\n",
              "      <td>1017</td>\n",
              "      <td>1017</td>\n",
              "      <td>1017</td>\n",
              "      <td>1017</td>\n",
              "      <td>1017</td>\n",
              "      <td>1017</td>\n",
              "      <td>1017</td>\n",
              "      <td>1017</td>\n",
              "      <td>1017</td>\n",
              "      <td>1017</td>\n",
              "      <td>1017</td>\n",
              "      <td>1017</td>\n",
              "      <td>1017</td>\n",
              "      <td>1017</td>\n",
              "      <td>1017</td>\n",
              "      <td>1017</td>\n",
              "      <td>1017</td>\n",
              "      <td>1017</td>\n",
              "    </tr>\n",
              "  </tbody>\n",
              "</table>\n",
              "<p>2 rows × 169 columns</p>\n",
              "</div>"
            ],
            "text/plain": [
              "         ID  molecule_name  conformation_name    f1  ...  f163  f164  f165  f166\n",
              "class                                                ...                        \n",
              "0      5581           5581               5581  5581  ...  5581  5581  5581  5581\n",
              "1      1017           1017               1017  1017  ...  1017  1017  1017  1017\n",
              "\n",
              "[2 rows x 169 columns]"
            ]
          },
          "metadata": {
            "tags": []
          },
          "execution_count": 5
        }
      ]
    },
    {
      "cell_type": "code",
      "metadata": {
        "id": "3aaLWPEQzQw2",
        "colab_type": "code",
        "colab": {
          "base_uri": "https://localhost:8080/",
          "height": 235
        },
        "outputId": "b1757fc5-cf67-429a-cb93-ad6c2cd19520"
      },
      "source": [
        "df.isna().count()   #looking for any missing value but no missing values found"
      ],
      "execution_count": 6,
      "outputs": [
        {
          "output_type": "execute_result",
          "data": {
            "text/plain": [
              "ID                   6598\n",
              "molecule_name        6598\n",
              "conformation_name    6598\n",
              "f1                   6598\n",
              "f2                   6598\n",
              "                     ... \n",
              "f163                 6598\n",
              "f164                 6598\n",
              "f165                 6598\n",
              "f166                 6598\n",
              "class                6598\n",
              "Length: 170, dtype: int64"
            ]
          },
          "metadata": {
            "tags": []
          },
          "execution_count": 6
        }
      ]
    },
    {
      "cell_type": "markdown",
      "metadata": {
        "id": "7THkm760QXHL",
        "colab_type": "text"
      },
      "source": [
        "Removing unwanted columns"
      ]
    },
    {
      "cell_type": "code",
      "metadata": {
        "id": "zeLG-4Doy6mF",
        "colab_type": "code",
        "colab": {}
      },
      "source": [
        "df=df.drop(['ID',\t'molecule_name',\t'conformation_name'\t],axis=1)"
      ],
      "execution_count": 0,
      "outputs": []
    },
    {
      "cell_type": "code",
      "metadata": {
        "id": "MCz736-LuRXk",
        "colab_type": "code",
        "colab": {
          "base_uri": "https://localhost:8080/",
          "height": 35
        },
        "outputId": "db0f67fc-7a76-4424-8baf-fb76f038a03f"
      },
      "source": [
        "df.shape"
      ],
      "execution_count": 8,
      "outputs": [
        {
          "output_type": "execute_result",
          "data": {
            "text/plain": [
              "(6598, 167)"
            ]
          },
          "metadata": {
            "tags": []
          },
          "execution_count": 8
        }
      ]
    },
    {
      "cell_type": "code",
      "metadata": {
        "id": "UMGgyd2y1C7a",
        "colab_type": "code",
        "colab": {}
      },
      "source": [
        "df.head"
      ],
      "execution_count": 0,
      "outputs": []
    },
    {
      "cell_type": "markdown",
      "metadata": {
        "id": "jIkpd5_QQfAz",
        "colab_type": "text"
      },
      "source": [
        "Dividing data in 80:20 train test split"
      ]
    },
    {
      "cell_type": "code",
      "metadata": {
        "id": "rZn9vTEr1Ppt",
        "colab_type": "code",
        "colab": {}
      },
      "source": [
        "\n",
        "train,test=train_test_split(df,test_size=0.2)"
      ],
      "execution_count": 0,
      "outputs": []
    },
    {
      "cell_type": "code",
      "metadata": {
        "id": "NRINF66L1Cvt",
        "colab_type": "code",
        "colab": {
          "base_uri": "https://localhost:8080/",
          "height": 35
        },
        "outputId": "c54eb479-6b86-494f-c791-f0c824f4a104"
      },
      "source": [
        "train.shape"
      ],
      "execution_count": 11,
      "outputs": [
        {
          "output_type": "execute_result",
          "data": {
            "text/plain": [
              "(5278, 167)"
            ]
          },
          "metadata": {
            "tags": []
          },
          "execution_count": 11
        }
      ]
    },
    {
      "cell_type": "markdown",
      "metadata": {
        "id": "RFcevk6GQoUk",
        "colab_type": "text"
      },
      "source": [
        "Seperating labels from features"
      ]
    },
    {
      "cell_type": "code",
      "metadata": {
        "id": "D9yKL_mv2XMP",
        "colab_type": "code",
        "colab": {}
      },
      "source": [
        "train_label=train['class']\n",
        "test_label=test['class']"
      ],
      "execution_count": 0,
      "outputs": []
    },
    {
      "cell_type": "code",
      "metadata": {
        "id": "D0jMgb0R2iy6",
        "colab_type": "code",
        "colab": {}
      },
      "source": [
        "train=train.drop(['class'],axis=1)\n",
        "test=test.drop(['class'],axis=1)"
      ],
      "execution_count": 0,
      "outputs": []
    },
    {
      "cell_type": "code",
      "metadata": {
        "id": "Ey3rN3yA5s1K",
        "colab_type": "code",
        "colab": {
          "base_uri": "https://localhost:8080/",
          "height": 35
        },
        "outputId": "6a574d65-b61d-47cf-9ed6-8a906751bb22"
      },
      "source": [
        "train.shape"
      ],
      "execution_count": 14,
      "outputs": [
        {
          "output_type": "execute_result",
          "data": {
            "text/plain": [
              "(5278, 166)"
            ]
          },
          "metadata": {
            "tags": []
          },
          "execution_count": 14
        }
      ]
    },
    {
      "cell_type": "markdown",
      "metadata": {
        "id": "MnMGe6NJQwq9",
        "colab_type": "text"
      },
      "source": [
        "Normalizing data i.e scale data in range of 0 to 1"
      ]
    },
    {
      "cell_type": "code",
      "metadata": {
        "id": "2BZnwoJt9Ow4",
        "colab_type": "code",
        "colab": {}
      },
      "source": [
        "\n",
        "train = pd.DataFrame(preprocessing.normalize(train, norm='l2'))\n",
        "test=pd.DataFrame(preprocessing.normalize(test,norm='l2'))\n"
      ],
      "execution_count": 0,
      "outputs": []
    },
    {
      "cell_type": "code",
      "metadata": {
        "id": "UHsqJFBx9uKN",
        "colab_type": "code",
        "colab": {
          "base_uri": "https://localhost:8080/",
          "height": 247
        },
        "outputId": "25c133c9-fd5b-437d-c3e8-a623cee7e938"
      },
      "source": [
        "train.head()"
      ],
      "execution_count": 16,
      "outputs": [
        {
          "output_type": "execute_result",
          "data": {
            "text/html": [
              "<div>\n",
              "<style scoped>\n",
              "    .dataframe tbody tr th:only-of-type {\n",
              "        vertical-align: middle;\n",
              "    }\n",
              "\n",
              "    .dataframe tbody tr th {\n",
              "        vertical-align: top;\n",
              "    }\n",
              "\n",
              "    .dataframe thead th {\n",
              "        text-align: right;\n",
              "    }\n",
              "</style>\n",
              "<table border=\"1\" class=\"dataframe\">\n",
              "  <thead>\n",
              "    <tr style=\"text-align: right;\">\n",
              "      <th></th>\n",
              "      <th>0</th>\n",
              "      <th>1</th>\n",
              "      <th>2</th>\n",
              "      <th>3</th>\n",
              "      <th>4</th>\n",
              "      <th>5</th>\n",
              "      <th>6</th>\n",
              "      <th>7</th>\n",
              "      <th>8</th>\n",
              "      <th>9</th>\n",
              "      <th>10</th>\n",
              "      <th>11</th>\n",
              "      <th>12</th>\n",
              "      <th>13</th>\n",
              "      <th>14</th>\n",
              "      <th>15</th>\n",
              "      <th>16</th>\n",
              "      <th>17</th>\n",
              "      <th>18</th>\n",
              "      <th>19</th>\n",
              "      <th>20</th>\n",
              "      <th>21</th>\n",
              "      <th>22</th>\n",
              "      <th>23</th>\n",
              "      <th>24</th>\n",
              "      <th>25</th>\n",
              "      <th>26</th>\n",
              "      <th>27</th>\n",
              "      <th>28</th>\n",
              "      <th>29</th>\n",
              "      <th>30</th>\n",
              "      <th>31</th>\n",
              "      <th>32</th>\n",
              "      <th>33</th>\n",
              "      <th>34</th>\n",
              "      <th>35</th>\n",
              "      <th>36</th>\n",
              "      <th>37</th>\n",
              "      <th>38</th>\n",
              "      <th>39</th>\n",
              "      <th>...</th>\n",
              "      <th>126</th>\n",
              "      <th>127</th>\n",
              "      <th>128</th>\n",
              "      <th>129</th>\n",
              "      <th>130</th>\n",
              "      <th>131</th>\n",
              "      <th>132</th>\n",
              "      <th>133</th>\n",
              "      <th>134</th>\n",
              "      <th>135</th>\n",
              "      <th>136</th>\n",
              "      <th>137</th>\n",
              "      <th>138</th>\n",
              "      <th>139</th>\n",
              "      <th>140</th>\n",
              "      <th>141</th>\n",
              "      <th>142</th>\n",
              "      <th>143</th>\n",
              "      <th>144</th>\n",
              "      <th>145</th>\n",
              "      <th>146</th>\n",
              "      <th>147</th>\n",
              "      <th>148</th>\n",
              "      <th>149</th>\n",
              "      <th>150</th>\n",
              "      <th>151</th>\n",
              "      <th>152</th>\n",
              "      <th>153</th>\n",
              "      <th>154</th>\n",
              "      <th>155</th>\n",
              "      <th>156</th>\n",
              "      <th>157</th>\n",
              "      <th>158</th>\n",
              "      <th>159</th>\n",
              "      <th>160</th>\n",
              "      <th>161</th>\n",
              "      <th>162</th>\n",
              "      <th>163</th>\n",
              "      <th>164</th>\n",
              "      <th>165</th>\n",
              "    </tr>\n",
              "  </thead>\n",
              "  <tbody>\n",
              "    <tr>\n",
              "      <th>0</th>\n",
              "      <td>0.026757</td>\n",
              "      <td>-0.091473</td>\n",
              "      <td>0.020535</td>\n",
              "      <td>-0.060982</td>\n",
              "      <td>-0.072805</td>\n",
              "      <td>0.077161</td>\n",
              "      <td>-0.092095</td>\n",
              "      <td>0.034847</td>\n",
              "      <td>-0.142499</td>\n",
              "      <td>0.044803</td>\n",
              "      <td>-0.069071</td>\n",
              "      <td>-0.053515</td>\n",
              "      <td>0.001245</td>\n",
              "      <td>-0.042314</td>\n",
              "      <td>0.051026</td>\n",
              "      <td>-0.177968</td>\n",
              "      <td>-0.132543</td>\n",
              "      <td>-0.028002</td>\n",
              "      <td>-0.049159</td>\n",
              "      <td>0.117608</td>\n",
              "      <td>-0.102674</td>\n",
              "      <td>-0.112008</td>\n",
              "      <td>-0.137521</td>\n",
              "      <td>-0.041070</td>\n",
              "      <td>0.089606</td>\n",
              "      <td>-0.138143</td>\n",
              "      <td>0.027380</td>\n",
              "      <td>-0.099562</td>\n",
              "      <td>0.065338</td>\n",
              "      <td>0.079028</td>\n",
              "      <td>-0.072805</td>\n",
              "      <td>-0.057248</td>\n",
              "      <td>-0.010579</td>\n",
              "      <td>0.033602</td>\n",
              "      <td>-0.097696</td>\n",
              "      <td>0.090229</td>\n",
              "      <td>-0.046670</td>\n",
              "      <td>0.026757</td>\n",
              "      <td>-0.019912</td>\n",
              "      <td>0.059115</td>\n",
              "      <td>...</td>\n",
              "      <td>-0.001867</td>\n",
              "      <td>0.057248</td>\n",
              "      <td>-0.036714</td>\n",
              "      <td>-0.113875</td>\n",
              "      <td>-0.053515</td>\n",
              "      <td>-0.064093</td>\n",
              "      <td>-0.064716</td>\n",
              "      <td>-0.042314</td>\n",
              "      <td>-0.021157</td>\n",
              "      <td>0.034847</td>\n",
              "      <td>-0.035469</td>\n",
              "      <td>-0.028624</td>\n",
              "      <td>-0.138765</td>\n",
              "      <td>-0.112008</td>\n",
              "      <td>-0.118230</td>\n",
              "      <td>0.049159</td>\n",
              "      <td>-0.016801</td>\n",
              "      <td>-0.069071</td>\n",
              "      <td>-0.110763</td>\n",
              "      <td>-0.064716</td>\n",
              "      <td>-0.076539</td>\n",
              "      <td>0.055382</td>\n",
              "      <td>0.031736</td>\n",
              "      <td>0.052270</td>\n",
              "      <td>-0.062227</td>\n",
              "      <td>-0.070938</td>\n",
              "      <td>-0.069694</td>\n",
              "      <td>-0.025513</td>\n",
              "      <td>-0.026757</td>\n",
              "      <td>-0.030491</td>\n",
              "      <td>0.069071</td>\n",
              "      <td>0.002489</td>\n",
              "      <td>0.092718</td>\n",
              "      <td>-0.019912</td>\n",
              "      <td>0.091473</td>\n",
              "      <td>0.077783</td>\n",
              "      <td>0.098940</td>\n",
              "      <td>-0.041070</td>\n",
              "      <td>-0.090229</td>\n",
              "      <td>-0.003734</td>\n",
              "    </tr>\n",
              "    <tr>\n",
              "      <th>1</th>\n",
              "      <td>0.028842</td>\n",
              "      <td>-0.124983</td>\n",
              "      <td>-0.094859</td>\n",
              "      <td>-0.004487</td>\n",
              "      <td>-0.074990</td>\n",
              "      <td>-0.023715</td>\n",
              "      <td>0.135879</td>\n",
              "      <td>0.024356</td>\n",
              "      <td>0.008332</td>\n",
              "      <td>-0.077553</td>\n",
              "      <td>-0.032688</td>\n",
              "      <td>0.023074</td>\n",
              "      <td>-0.035252</td>\n",
              "      <td>-0.062812</td>\n",
              "      <td>-0.048070</td>\n",
              "      <td>-0.189717</td>\n",
              "      <td>-0.073067</td>\n",
              "      <td>-0.046147</td>\n",
              "      <td>0.030765</td>\n",
              "      <td>-0.050634</td>\n",
              "      <td>0.123701</td>\n",
              "      <td>0.083963</td>\n",
              "      <td>0.099986</td>\n",
              "      <td>-0.040379</td>\n",
              "      <td>-0.060889</td>\n",
              "      <td>0.058325</td>\n",
              "      <td>0.009614</td>\n",
              "      <td>0.046147</td>\n",
              "      <td>0.008973</td>\n",
              "      <td>-0.092295</td>\n",
              "      <td>-0.074349</td>\n",
              "      <td>-0.066657</td>\n",
              "      <td>-0.007050</td>\n",
              "      <td>-0.149338</td>\n",
              "      <td>0.041020</td>\n",
              "      <td>0.073708</td>\n",
              "      <td>0.087167</td>\n",
              "      <td>-0.064735</td>\n",
              "      <td>-0.087167</td>\n",
              "      <td>0.014101</td>\n",
              "      <td>...</td>\n",
              "      <td>-0.098063</td>\n",
              "      <td>-0.121778</td>\n",
              "      <td>-0.082040</td>\n",
              "      <td>0.071785</td>\n",
              "      <td>0.003205</td>\n",
              "      <td>0.049993</td>\n",
              "      <td>0.083963</td>\n",
              "      <td>0.003846</td>\n",
              "      <td>-0.049352</td>\n",
              "      <td>-0.103191</td>\n",
              "      <td>-0.057684</td>\n",
              "      <td>-0.112164</td>\n",
              "      <td>0.047429</td>\n",
              "      <td>0.041661</td>\n",
              "      <td>0.067298</td>\n",
              "      <td>-0.022433</td>\n",
              "      <td>0.110241</td>\n",
              "      <td>0.071144</td>\n",
              "      <td>-0.102550</td>\n",
              "      <td>-0.064735</td>\n",
              "      <td>-0.053839</td>\n",
              "      <td>-0.046147</td>\n",
              "      <td>-0.053839</td>\n",
              "      <td>0.020510</td>\n",
              "      <td>-0.003205</td>\n",
              "      <td>0.041020</td>\n",
              "      <td>0.003205</td>\n",
              "      <td>-0.108318</td>\n",
              "      <td>-0.024997</td>\n",
              "      <td>-0.125624</td>\n",
              "      <td>-0.152543</td>\n",
              "      <td>-0.171130</td>\n",
              "      <td>-0.132674</td>\n",
              "      <td>-0.017305</td>\n",
              "      <td>0.097422</td>\n",
              "      <td>0.078194</td>\n",
              "      <td>0.131392</td>\n",
              "      <td>-0.046788</td>\n",
              "      <td>-0.123060</td>\n",
              "      <td>0.001282</td>\n",
              "    </tr>\n",
              "    <tr>\n",
              "      <th>2</th>\n",
              "      <td>0.026910</td>\n",
              "      <td>-0.051429</td>\n",
              "      <td>-0.037675</td>\n",
              "      <td>-0.038871</td>\n",
              "      <td>-0.069369</td>\n",
              "      <td>0.035881</td>\n",
              "      <td>0.037077</td>\n",
              "      <td>0.020930</td>\n",
              "      <td>-0.007774</td>\n",
              "      <td>0.004784</td>\n",
              "      <td>-0.190765</td>\n",
              "      <td>-0.119004</td>\n",
              "      <td>-0.062193</td>\n",
              "      <td>-0.173422</td>\n",
              "      <td>-0.168040</td>\n",
              "      <td>-0.180001</td>\n",
              "      <td>-0.018538</td>\n",
              "      <td>-0.059801</td>\n",
              "      <td>-0.110632</td>\n",
              "      <td>-0.030498</td>\n",
              "      <td>-0.029302</td>\n",
              "      <td>-0.012558</td>\n",
              "      <td>-0.033488</td>\n",
              "      <td>0.112426</td>\n",
              "      <td>0.044253</td>\n",
              "      <td>0.008970</td>\n",
              "      <td>-0.015548</td>\n",
              "      <td>-0.016744</td>\n",
              "      <td>-0.036479</td>\n",
              "      <td>0.058605</td>\n",
              "      <td>-0.069967</td>\n",
              "      <td>-0.064585</td>\n",
              "      <td>-0.005382</td>\n",
              "      <td>0.001196</td>\n",
              "      <td>-0.091495</td>\n",
              "      <td>0.082525</td>\n",
              "      <td>-0.095083</td>\n",
              "      <td>0.036479</td>\n",
              "      <td>-0.010166</td>\n",
              "      <td>0.025116</td>\n",
              "      <td>...</td>\n",
              "      <td>-0.013156</td>\n",
              "      <td>0.045449</td>\n",
              "      <td>-0.060997</td>\n",
              "      <td>-0.112426</td>\n",
              "      <td>-0.053821</td>\n",
              "      <td>-0.073555</td>\n",
              "      <td>-0.040067</td>\n",
              "      <td>-0.097475</td>\n",
              "      <td>-0.132758</td>\n",
              "      <td>-0.011362</td>\n",
              "      <td>-0.000598</td>\n",
              "      <td>-0.012558</td>\n",
              "      <td>-0.031096</td>\n",
              "      <td>-0.022724</td>\n",
              "      <td>-0.061595</td>\n",
              "      <td>0.039469</td>\n",
              "      <td>0.016146</td>\n",
              "      <td>-0.008970</td>\n",
              "      <td>-0.105847</td>\n",
              "      <td>-0.060399</td>\n",
              "      <td>-0.066379</td>\n",
              "      <td>-0.016146</td>\n",
              "      <td>-0.023920</td>\n",
              "      <td>-0.004186</td>\n",
              "      <td>-0.055017</td>\n",
              "      <td>-0.074153</td>\n",
              "      <td>-0.066379</td>\n",
              "      <td>-0.053223</td>\n",
              "      <td>-0.019136</td>\n",
              "      <td>-0.062791</td>\n",
              "      <td>-0.141728</td>\n",
              "      <td>-0.178805</td>\n",
              "      <td>0.038273</td>\n",
              "      <td>-0.013156</td>\n",
              "      <td>0.090299</td>\n",
              "      <td>0.080133</td>\n",
              "      <td>0.091495</td>\n",
              "      <td>-0.038871</td>\n",
              "      <td>-0.083123</td>\n",
              "      <td>-0.000598</td>\n",
              "    </tr>\n",
              "    <tr>\n",
              "      <th>3</th>\n",
              "      <td>0.034752</td>\n",
              "      <td>-0.145807</td>\n",
              "      <td>-0.108034</td>\n",
              "      <td>0.114833</td>\n",
              "      <td>-0.067238</td>\n",
              "      <td>-0.018887</td>\n",
              "      <td>0.040796</td>\n",
              "      <td>-0.000755</td>\n",
              "      <td>-0.030219</td>\n",
              "      <td>-0.099723</td>\n",
              "      <td>0.006044</td>\n",
              "      <td>-0.044573</td>\n",
              "      <td>-0.048351</td>\n",
              "      <td>0.049862</td>\n",
              "      <td>0.037774</td>\n",
              "      <td>-0.211534</td>\n",
              "      <td>0.080081</td>\n",
              "      <td>-0.049862</td>\n",
              "      <td>0.011332</td>\n",
              "      <td>-0.008310</td>\n",
              "      <td>-0.046840</td>\n",
              "      <td>-0.007555</td>\n",
              "      <td>0.015110</td>\n",
              "      <td>-0.039285</td>\n",
              "      <td>-0.073281</td>\n",
              "      <td>-0.021909</td>\n",
              "      <td>0.032486</td>\n",
              "      <td>-0.049106</td>\n",
              "      <td>0.006799</td>\n",
              "      <td>-0.109544</td>\n",
              "      <td>-0.087636</td>\n",
              "      <td>-0.081592</td>\n",
              "      <td>0.005288</td>\n",
              "      <td>-0.171494</td>\n",
              "      <td>-0.010577</td>\n",
              "      <td>0.086125</td>\n",
              "      <td>-0.132209</td>\n",
              "      <td>0.000755</td>\n",
              "      <td>-0.083103</td>\n",
              "      <td>0.020398</td>\n",
              "      <td>...</td>\n",
              "      <td>-0.108034</td>\n",
              "      <td>-0.139764</td>\n",
              "      <td>-0.080836</td>\n",
              "      <td>-0.036263</td>\n",
              "      <td>-0.029464</td>\n",
              "      <td>-0.087636</td>\n",
              "      <td>-0.052128</td>\n",
              "      <td>-0.061949</td>\n",
              "      <td>0.029464</td>\n",
              "      <td>-0.016621</td>\n",
              "      <td>0.027197</td>\n",
              "      <td>-0.030219</td>\n",
              "      <td>-0.006799</td>\n",
              "      <td>-0.042307</td>\n",
              "      <td>-0.026442</td>\n",
              "      <td>0.000755</td>\n",
              "      <td>0.031730</td>\n",
              "      <td>0.021153</td>\n",
              "      <td>-0.134475</td>\n",
              "      <td>-0.077814</td>\n",
              "      <td>-0.088391</td>\n",
              "      <td>-0.056661</td>\n",
              "      <td>-0.065727</td>\n",
              "      <td>0.033241</td>\n",
              "      <td>-0.019642</td>\n",
              "      <td>-0.025686</td>\n",
              "      <td>0.027197</td>\n",
              "      <td>-0.127676</td>\n",
              "      <td>-0.025686</td>\n",
              "      <td>-0.148074</td>\n",
              "      <td>-0.176027</td>\n",
              "      <td>-0.216823</td>\n",
              "      <td>-0.160917</td>\n",
              "      <td>-0.015865</td>\n",
              "      <td>0.115588</td>\n",
              "      <td>0.092924</td>\n",
              "      <td>0.151096</td>\n",
              "      <td>-0.055150</td>\n",
              "      <td>-0.140519</td>\n",
              "      <td>0.004533</td>\n",
              "    </tr>\n",
              "    <tr>\n",
              "      <th>4</th>\n",
              "      <td>0.032436</td>\n",
              "      <td>-0.061129</td>\n",
              "      <td>0.001871</td>\n",
              "      <td>-0.069238</td>\n",
              "      <td>-0.072981</td>\n",
              "      <td>0.099179</td>\n",
              "      <td>-0.097931</td>\n",
              "      <td>0.044911</td>\n",
              "      <td>-0.146585</td>\n",
              "      <td>0.076100</td>\n",
              "      <td>-0.075476</td>\n",
              "      <td>-0.053020</td>\n",
              "      <td>-0.036178</td>\n",
              "      <td>-0.042416</td>\n",
              "      <td>-0.058634</td>\n",
              "      <td>-0.176526</td>\n",
              "      <td>-0.110407</td>\n",
              "      <td>-0.041169</td>\n",
              "      <td>-0.046782</td>\n",
              "      <td>0.070486</td>\n",
              "      <td>-0.112278</td>\n",
              "      <td>-0.112278</td>\n",
              "      <td>-0.136605</td>\n",
              "      <td>-0.037426</td>\n",
              "      <td>0.084208</td>\n",
              "      <td>-0.132239</td>\n",
              "      <td>-0.093565</td>\n",
              "      <td>-0.095436</td>\n",
              "      <td>0.059882</td>\n",
              "      <td>0.078595</td>\n",
              "      <td>-0.063624</td>\n",
              "      <td>0.085456</td>\n",
              "      <td>-0.074852</td>\n",
              "      <td>0.039297</td>\n",
              "      <td>-0.076723</td>\n",
              "      <td>0.046782</td>\n",
              "      <td>-0.053020</td>\n",
              "      <td>0.039921</td>\n",
              "      <td>-0.016842</td>\n",
              "      <td>0.021208</td>\n",
              "      <td>...</td>\n",
              "      <td>-0.003119</td>\n",
              "      <td>0.054268</td>\n",
              "      <td>-0.034931</td>\n",
              "      <td>-0.102921</td>\n",
              "      <td>0.025574</td>\n",
              "      <td>-0.000624</td>\n",
              "      <td>-0.076100</td>\n",
              "      <td>-0.046782</td>\n",
              "      <td>-0.026198</td>\n",
              "      <td>0.055515</td>\n",
              "      <td>0.029317</td>\n",
              "      <td>0.037426</td>\n",
              "      <td>-0.135357</td>\n",
              "      <td>-0.099803</td>\n",
              "      <td>-0.114149</td>\n",
              "      <td>0.034307</td>\n",
              "      <td>-0.051773</td>\n",
              "      <td>-0.061129</td>\n",
              "      <td>-0.111030</td>\n",
              "      <td>-0.064872</td>\n",
              "      <td>-0.071109</td>\n",
              "      <td>0.007485</td>\n",
              "      <td>-0.037426</td>\n",
              "      <td>-0.011852</td>\n",
              "      <td>-0.061129</td>\n",
              "      <td>-0.067991</td>\n",
              "      <td>-0.069862</td>\n",
              "      <td>-0.029317</td>\n",
              "      <td>0.075476</td>\n",
              "      <td>-0.005614</td>\n",
              "      <td>0.059258</td>\n",
              "      <td>0.026822</td>\n",
              "      <td>0.072357</td>\n",
              "      <td>-0.018089</td>\n",
              "      <td>-0.011852</td>\n",
              "      <td>0.062377</td>\n",
              "      <td>0.106664</td>\n",
              "      <td>-0.027446</td>\n",
              "      <td>-0.072357</td>\n",
              "      <td>0.073604</td>\n",
              "    </tr>\n",
              "  </tbody>\n",
              "</table>\n",
              "<p>5 rows × 166 columns</p>\n",
              "</div>"
            ],
            "text/plain": [
              "        0         1         2    ...       163       164       165\n",
              "0  0.026757 -0.091473  0.020535  ... -0.041070 -0.090229 -0.003734\n",
              "1  0.028842 -0.124983 -0.094859  ... -0.046788 -0.123060  0.001282\n",
              "2  0.026910 -0.051429 -0.037675  ... -0.038871 -0.083123 -0.000598\n",
              "3  0.034752 -0.145807 -0.108034  ... -0.055150 -0.140519  0.004533\n",
              "4  0.032436 -0.061129  0.001871  ... -0.027446 -0.072357  0.073604\n",
              "\n",
              "[5 rows x 166 columns]"
            ]
          },
          "metadata": {
            "tags": []
          },
          "execution_count": 16
        }
      ]
    },
    {
      "cell_type": "markdown",
      "metadata": {
        "id": "7Eh9aJP9CVOt",
        "colab_type": "text"
      },
      "source": [
        "Deep learning solution Using MLPClassifier "
      ]
    },
    {
      "cell_type": "code",
      "metadata": {
        "id": "5adEhekKCjZz",
        "colab_type": "code",
        "colab": {}
      },
      "source": [
        "from sklearn.neural_network import MLPClassifier\n",
        "num_epoch=10\n",
        "train_score=[]\n",
        " \n",
        "mlp = MLPClassifier(hidden_layer_sizes=(10,10),solver='sgd',\n",
        "                      learning_rate_init=0.01,max_iter=500)\n",
        "\n",
        "mlp.fit(train,train_label)\n",
        " "
      ],
      "execution_count": 0,
      "outputs": []
    },
    {
      "cell_type": "code",
      "metadata": {
        "id": "AR-WZIq2tyL_",
        "colab_type": "code",
        "colab": {
          "base_uri": "https://localhost:8080/",
          "height": 35
        },
        "outputId": "5b6b20ca-9869-4788-c46e-ee5c233aeed9"
      },
      "source": [
        "print(mlp.score(test,test_label))"
      ],
      "execution_count": 18,
      "outputs": [
        {
          "output_type": "stream",
          "text": [
            "0.990909090909091\n"
          ],
          "name": "stdout"
        }
      ]
    },
    {
      "cell_type": "markdown",
      "metadata": {
        "id": "NdbPgmoARRT2",
        "colab_type": "text"
      },
      "source": [
        "Deep learning solution using Sequential MLP model of keras"
      ]
    },
    {
      "cell_type": "code",
      "metadata": {
        "id": "AstCizz-xJrF",
        "colab_type": "code",
        "colab": {}
      },
      "source": [
        "model=Sequential()\n",
        "model.add(Dense(20,input_dim=(166),activation='relu'))\n",
        "model.add(Dense(20,activation='relu'))\n",
        "model.add(Dense(10,activation='relu'))\n",
        "model.add(Dense(10,activation='relu'))\n",
        "model.add(Dense(1,activation='sigmoid'))\n",
        "\n",
        "model.compile(optimizer='rmsprop',\n",
        "              loss='binary_crossentropy',\n",
        "              metrics=['accuracy'])"
      ],
      "execution_count": 0,
      "outputs": []
    },
    {
      "cell_type": "code",
      "metadata": {
        "id": "7iPNgtqSyToE",
        "colab_type": "code",
        "colab": {
          "base_uri": "https://localhost:8080/",
          "height": 345
        },
        "outputId": "9061d4a6-2c7d-4e97-effe-ab8326d8d146"
      },
      "source": [
        "model.summary()"
      ],
      "execution_count": 20,
      "outputs": [
        {
          "output_type": "stream",
          "text": [
            "Model: \"sequential_1\"\n",
            "_________________________________________________________________\n",
            "Layer (type)                 Output Shape              Param #   \n",
            "=================================================================\n",
            "dense_1 (Dense)              (None, 20)                3340      \n",
            "_________________________________________________________________\n",
            "dense_2 (Dense)              (None, 20)                420       \n",
            "_________________________________________________________________\n",
            "dense_3 (Dense)              (None, 10)                210       \n",
            "_________________________________________________________________\n",
            "dense_4 (Dense)              (None, 10)                110       \n",
            "_________________________________________________________________\n",
            "dense_5 (Dense)              (None, 1)                 11        \n",
            "=================================================================\n",
            "Total params: 4,091\n",
            "Trainable params: 4,091\n",
            "Non-trainable params: 0\n",
            "_________________________________________________________________\n"
          ],
          "name": "stdout"
        }
      ]
    },
    {
      "cell_type": "markdown",
      "metadata": {
        "id": "BlHg_1c4RixX",
        "colab_type": "text"
      },
      "source": [
        "Training the model with 80% training and 20% validation"
      ]
    },
    {
      "cell_type": "code",
      "metadata": {
        "id": "gwIjApWUxtyx",
        "colab_type": "code",
        "colab": {
          "base_uri": "https://localhost:8080/",
          "height": 1000
        },
        "outputId": "7cdd7c7e-41b0-4183-bdf1-06cffde22728"
      },
      "source": [
        "history=model.fit(train,train_label,epochs=25,batch_size=100,validation_split=0.2)"
      ],
      "execution_count": 21,
      "outputs": [
        {
          "output_type": "stream",
          "text": [
            "WARNING:tensorflow:From /usr/local/lib/python3.6/dist-packages/keras/backend/tensorflow_backend.py:1033: The name tf.assign_add is deprecated. Please use tf.compat.v1.assign_add instead.\n",
            "\n",
            "WARNING:tensorflow:From /usr/local/lib/python3.6/dist-packages/keras/backend/tensorflow_backend.py:1020: The name tf.assign is deprecated. Please use tf.compat.v1.assign instead.\n",
            "\n",
            "WARNING:tensorflow:From /usr/local/lib/python3.6/dist-packages/keras/backend/tensorflow_backend.py:3005: The name tf.Session is deprecated. Please use tf.compat.v1.Session instead.\n",
            "\n",
            "Train on 4222 samples, validate on 1056 samples\n",
            "Epoch 1/25\n",
            "WARNING:tensorflow:From /usr/local/lib/python3.6/dist-packages/keras/backend/tensorflow_backend.py:190: The name tf.get_default_session is deprecated. Please use tf.compat.v1.get_default_session instead.\n",
            "\n",
            "WARNING:tensorflow:From /usr/local/lib/python3.6/dist-packages/keras/backend/tensorflow_backend.py:197: The name tf.ConfigProto is deprecated. Please use tf.compat.v1.ConfigProto instead.\n",
            "\n",
            "WARNING:tensorflow:From /usr/local/lib/python3.6/dist-packages/keras/backend/tensorflow_backend.py:207: The name tf.global_variables is deprecated. Please use tf.compat.v1.global_variables instead.\n",
            "\n",
            "WARNING:tensorflow:From /usr/local/lib/python3.6/dist-packages/keras/backend/tensorflow_backend.py:216: The name tf.is_variable_initialized is deprecated. Please use tf.compat.v1.is_variable_initialized instead.\n",
            "\n",
            "WARNING:tensorflow:From /usr/local/lib/python3.6/dist-packages/keras/backend/tensorflow_backend.py:223: The name tf.variables_initializer is deprecated. Please use tf.compat.v1.variables_initializer instead.\n",
            "\n",
            "4222/4222 [==============================] - 0s 84us/step - loss: 0.5024 - acc: 0.8451 - val_loss: 0.4075 - val_acc: 0.8494\n",
            "Epoch 2/25\n",
            "4222/4222 [==============================] - 0s 19us/step - loss: 0.3875 - acc: 0.8451 - val_loss: 0.3392 - val_acc: 0.8494\n",
            "Epoch 3/25\n",
            "4222/4222 [==============================] - 0s 19us/step - loss: 0.3284 - acc: 0.8451 - val_loss: 0.2980 - val_acc: 0.8494\n",
            "Epoch 4/25\n",
            "4222/4222 [==============================] - 0s 20us/step - loss: 0.2817 - acc: 0.8451 - val_loss: 0.2637 - val_acc: 0.8494\n",
            "Epoch 5/25\n",
            "4222/4222 [==============================] - 0s 20us/step - loss: 0.2552 - acc: 0.8837 - val_loss: 0.2438 - val_acc: 0.9195\n",
            "Epoch 6/25\n",
            "4222/4222 [==============================] - 0s 21us/step - loss: 0.2356 - acc: 0.9135 - val_loss: 0.2345 - val_acc: 0.9271\n",
            "Epoch 7/25\n",
            "4222/4222 [==============================] - 0s 21us/step - loss: 0.2238 - acc: 0.9235 - val_loss: 0.2257 - val_acc: 0.9347\n",
            "Epoch 8/25\n",
            "4222/4222 [==============================] - 0s 20us/step - loss: 0.2114 - acc: 0.9268 - val_loss: 0.2108 - val_acc: 0.9328\n",
            "Epoch 9/25\n",
            "4222/4222 [==============================] - 0s 21us/step - loss: 0.1994 - acc: 0.9287 - val_loss: 0.2470 - val_acc: 0.9337\n",
            "Epoch 10/25\n",
            "4222/4222 [==============================] - 0s 22us/step - loss: 0.1883 - acc: 0.9313 - val_loss: 0.2441 - val_acc: 0.9205\n",
            "Epoch 11/25\n",
            "4222/4222 [==============================] - 0s 23us/step - loss: 0.1788 - acc: 0.9353 - val_loss: 0.1987 - val_acc: 0.9394\n",
            "Epoch 12/25\n",
            "4222/4222 [==============================] - 0s 21us/step - loss: 0.1672 - acc: 0.9403 - val_loss: 0.1774 - val_acc: 0.9394\n",
            "Epoch 13/25\n",
            "4222/4222 [==============================] - 0s 21us/step - loss: 0.1587 - acc: 0.9432 - val_loss: 0.2027 - val_acc: 0.9356\n",
            "Epoch 14/25\n",
            "4222/4222 [==============================] - 0s 20us/step - loss: 0.1491 - acc: 0.9462 - val_loss: 0.1674 - val_acc: 0.9470\n",
            "Epoch 15/25\n",
            "4222/4222 [==============================] - 0s 19us/step - loss: 0.1355 - acc: 0.9517 - val_loss: 0.1693 - val_acc: 0.9366\n",
            "Epoch 16/25\n",
            "4222/4222 [==============================] - 0s 20us/step - loss: 0.1275 - acc: 0.9550 - val_loss: 0.1410 - val_acc: 0.9508\n",
            "Epoch 17/25\n",
            "4222/4222 [==============================] - 0s 21us/step - loss: 0.1185 - acc: 0.9569 - val_loss: 0.1373 - val_acc: 0.9583\n",
            "Epoch 18/25\n",
            "4222/4222 [==============================] - 0s 21us/step - loss: 0.1139 - acc: 0.9576 - val_loss: 0.1282 - val_acc: 0.9517\n",
            "Epoch 19/25\n",
            "4222/4222 [==============================] - 0s 21us/step - loss: 0.1043 - acc: 0.9612 - val_loss: 0.1308 - val_acc: 0.9621\n",
            "Epoch 20/25\n",
            "4222/4222 [==============================] - 0s 21us/step - loss: 0.0976 - acc: 0.9645 - val_loss: 0.1263 - val_acc: 0.9612\n",
            "Epoch 21/25\n",
            "4222/4222 [==============================] - 0s 21us/step - loss: 0.0921 - acc: 0.9668 - val_loss: 0.1190 - val_acc: 0.9574\n",
            "Epoch 22/25\n",
            "4222/4222 [==============================] - 0s 19us/step - loss: 0.0819 - acc: 0.9687 - val_loss: 0.2371 - val_acc: 0.9394\n",
            "Epoch 23/25\n",
            "4222/4222 [==============================] - 0s 19us/step - loss: 0.0842 - acc: 0.9680 - val_loss: 0.1042 - val_acc: 0.9669\n",
            "Epoch 24/25\n",
            "4222/4222 [==============================] - 0s 20us/step - loss: 0.0776 - acc: 0.9709 - val_loss: 0.0997 - val_acc: 0.9659\n",
            "Epoch 25/25\n",
            "4222/4222 [==============================] - 0s 24us/step - loss: 0.0754 - acc: 0.9709 - val_loss: 0.1161 - val_acc: 0.9631\n"
          ],
          "name": "stdout"
        }
      ]
    },
    {
      "cell_type": "code",
      "metadata": {
        "id": "SPrwPBlLTkuB",
        "colab_type": "code",
        "colab": {
          "base_uri": "https://localhost:8080/",
          "height": 171
        },
        "outputId": "1f8cd098-935f-4f0b-8625-c0778f66a5d1"
      },
      "source": [
        "history.history[accuracy]"
      ],
      "execution_count": 35,
      "outputs": [
        {
          "output_type": "error",
          "ename": "KeyError",
          "evalue": "ignored",
          "traceback": [
            "\u001b[0;31m---------------------------------------------------------------------------\u001b[0m",
            "\u001b[0;31mKeyError\u001b[0m                                  Traceback (most recent call last)",
            "\u001b[0;32m<ipython-input-35-98f9c42f7c44>\u001b[0m in \u001b[0;36m<module>\u001b[0;34m()\u001b[0m\n\u001b[0;32m----> 1\u001b[0;31m \u001b[0mhistory\u001b[0m\u001b[0;34m.\u001b[0m\u001b[0mhistory\u001b[0m\u001b[0;34m[\u001b[0m\u001b[0maccuracy\u001b[0m\u001b[0;34m]\u001b[0m\u001b[0;34m\u001b[0m\u001b[0;34m\u001b[0m\u001b[0m\n\u001b[0m",
            "\u001b[0;31mKeyError\u001b[0m: 0.9621212121212122"
          ]
        }
      ]
    },
    {
      "cell_type": "markdown",
      "metadata": {
        "id": "40qBueZnRvCE",
        "colab_type": "text"
      },
      "source": [
        "Plotting train validation loss"
      ]
    },
    {
      "cell_type": "code",
      "metadata": {
        "id": "aOvRy3S20Nw_",
        "colab_type": "code",
        "colab": {
          "base_uri": "https://localhost:8080/",
          "height": 295
        },
        "outputId": "c7117e2b-e238-4ea2-be7c-c671ab0a54b6"
      },
      "source": [
        "plt.plot(history.history['loss'])\n",
        "plt.plot(history.history['val_loss'])\n",
        "plt.title('model loss')\n",
        "plt.ylabel('loss')\n",
        "plt.xlabel('epoch')\n",
        "plt.legend(['train', 'validation'], loc='upper left')\n",
        "plt.show()"
      ],
      "execution_count": 22,
      "outputs": [
        {
          "output_type": "display_data",
          "data": {
            "image/png": "[encoded data removed]",
            "text/plain": [
              "<Figure size 432x288 with 1 Axes>"
            ]
          },
          "metadata": {
            "tags": []
          }
        }
      ]
    },
    {
      "cell_type": "code",
      "metadata": {
        "id": "cvMvDW-oTQzj",
        "colab_type": "code",
        "colab": {
          "base_uri": "https://localhost:8080/",
          "height": 295
        },
        "outputId": "7e046605-8e4e-4a90-8862-43c7821a6615"
      },
      "source": [
        "plt.plot(history.history['acc'])\n",
        "plt.plot(history.history['val_acc'])\n",
        "plt.title('model accuracy')\n",
        "plt.ylabel('accuracy')\n",
        "plt.xlabel('epoch')\n",
        "plt.legend(['train', 'validation'], loc='upper left')\n",
        "plt.show()"
      ],
      "execution_count": 38,
      "outputs": [
        {
          "output_type": "display_data",
          "data": {
            "image/png": "[encoded data removed]",
            "text/plain": [
              "<Figure size 432x288 with 1 Axes>"
            ]
          },
          "metadata": {
            "tags": []
          }
        }
      ]
    },
    {
      "cell_type": "markdown",
      "metadata": {
        "id": "86R1ykfeR2I6",
        "colab_type": "text"
      },
      "source": [
        "Using trained model to predict test data"
      ]
    },
    {
      "cell_type": "code",
      "metadata": {
        "id": "P2IH6NQqyKiF",
        "colab_type": "code",
        "colab": {}
      },
      "source": [
        "\n",
        "\n",
        "y_pred=model.predict_classes(test)\n",
        "y_pred=y_pred[:,0]\n"
      ],
      "execution_count": 0,
      "outputs": []
    },
    {
      "cell_type": "markdown",
      "metadata": {
        "id": "SvuRKuuLzc3A",
        "colab_type": "text"
      },
      "source": [
        "calculating accuracy_score"
      ]
    },
    {
      "cell_type": "code",
      "metadata": {
        "id": "6MJSZF80zVyv",
        "colab_type": "code",
        "colab": {
          "base_uri": "https://localhost:8080/",
          "height": 35
        },
        "outputId": "0da89617-8cf4-4961-9ca4-6e26a711c229"
      },
      "source": [
        "accuracy = accuracy_score(test_label, y_pred)\n",
        "print('Accuracy: %f' % accuracy)"
      ],
      "execution_count": 24,
      "outputs": [
        {
          "output_type": "stream",
          "text": [
            "Accuracy: 0.962121\n"
          ],
          "name": "stdout"
        }
      ]
    },
    {
      "cell_type": "markdown",
      "metadata": {
        "id": "sQ8cdzuPGxiw",
        "colab_type": "text"
      },
      "source": [
        "calculating precision"
      ]
    },
    {
      "cell_type": "code",
      "metadata": {
        "id": "nZ1vOmQ7G29y",
        "colab_type": "code",
        "colab": {
          "base_uri": "https://localhost:8080/",
          "height": 35
        },
        "outputId": "319e0acd-5e25-468a-e308-99785e80a506"
      },
      "source": [
        "precision = precision_score(test_label, y_pred)\n",
        "print('Precision: %f' % precision)"
      ],
      "execution_count": 25,
      "outputs": [
        {
          "output_type": "stream",
          "text": [
            "Precision: 0.952941\n"
          ],
          "name": "stdout"
        }
      ]
    },
    {
      "cell_type": "markdown",
      "metadata": {
        "id": "UCoRApk0HBY8",
        "colab_type": "text"
      },
      "source": [
        "calculating Recall"
      ]
    },
    {
      "cell_type": "code",
      "metadata": {
        "id": "3mCciIMgHAQQ",
        "colab_type": "code",
        "colab": {
          "base_uri": "https://localhost:8080/",
          "height": 35
        },
        "outputId": "228cea9a-48e8-4db7-83cc-e88e344df5d1"
      },
      "source": [
        "recall = recall_score(test_label, y_pred)\n",
        "print('Recall: %f' % recall)"
      ],
      "execution_count": 26,
      "outputs": [
        {
          "output_type": "stream",
          "text": [
            "Recall: 0.794118\n"
          ],
          "name": "stdout"
        }
      ]
    },
    {
      "cell_type": "markdown",
      "metadata": {
        "id": "13zqQPuOHQBQ",
        "colab_type": "text"
      },
      "source": [
        "calculating f1 score"
      ]
    },
    {
      "cell_type": "code",
      "metadata": {
        "id": "BPbdHAW4HX8N",
        "colab_type": "code",
        "colab": {
          "base_uri": "https://localhost:8080/",
          "height": 35
        },
        "outputId": "21b9cb99-44c5-4e00-a69f-9e2bd80dd8a6"
      },
      "source": [
        "f1 = f1_score(test_label, y_pred)\n",
        "print('F1 score: %f' % f1)"
      ],
      "execution_count": 27,
      "outputs": [
        {
          "output_type": "stream",
          "text": [
            "F1 score: 0.866310\n"
          ],
          "name": "stdout"
        }
      ]
    },
    {
      "cell_type": "markdown",
      "metadata": {
        "id": "7qStb0f6Hdyz",
        "colab_type": "text"
      },
      "source": [
        "confusion matrix"
      ]
    },
    {
      "cell_type": "code",
      "metadata": {
        "id": "zYpH9iWGHoaB",
        "colab_type": "code",
        "colab": {
          "base_uri": "https://localhost:8080/",
          "height": 54
        },
        "outputId": "b9c62623-18fc-4745-ffca-def30ace0c1b"
      },
      "source": [
        "matrix = confusion_matrix(test_label, y_pred)\n",
        "print(matrix)"
      ],
      "execution_count": 28,
      "outputs": [
        {
          "output_type": "stream",
          "text": [
            "[[1108    8]\n",
            " [  42  162]]\n"
          ],
          "name": "stdout"
        }
      ]
    },
    {
      "cell_type": "markdown",
      "metadata": {
        "id": "xJ2FiBc7HwW0",
        "colab_type": "text"
      },
      "source": [
        "saving the model in h5"
      ]
    },
    {
      "cell_type": "code",
      "metadata": {
        "id": "gxTvLpSLHvd2",
        "colab_type": "code",
        "colab": {}
      },
      "source": [
        "model.save(\"model.h5\")"
      ],
      "execution_count": 0,
      "outputs": []
    },
    {
      "cell_type": "code",
      "metadata": {
        "id": "XXwAJG-CJBJc",
        "colab_type": "code",
        "colab": {
          "base_uri": "https://localhost:8080/",
          "height": 35
        },
        "outputId": "69456fed-7c0a-4086-caf7-3617a8a91c01"
      },
      "source": [
        "score = model1.evaluate(test,test_label, verbose=0)\n",
        "print(\"%s: %.2f%%\" % (model.metrics_names[1], score[1]*100))"
      ],
      "execution_count": 33,
      "outputs": [
        {
          "output_type": "stream",
          "text": [
            "acc: 96.06%\n"
          ],
          "name": "stdout"
        }
      ]
    }
  ]
}