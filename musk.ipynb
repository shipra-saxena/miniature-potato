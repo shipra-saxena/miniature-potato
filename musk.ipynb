{
  "nbformat": 4,
  "nbformat_minor": 0,
  "metadata": {
    "colab": {
      "name": "Untitled20.ipynb",
      "provenance": [],
      "include_colab_link": true
    },
    "kernelspec": {
      "name": "python3",
      "display_name": "Python 3"
    }
  },
  "cells": [
    {
      "cell_type": "markdown",
      "metadata": {
        "id": "view-in-github",
        "colab_type": "text"
      },
      "source": [
        "<a href=\"https://colab.research.google.com/github/shipra-saxena/miniature-potato/blob/master/musk.ipynb\" target=\"_parent\"><img src=\"https://colab.research.google.com/assets/colab-badge.svg\" alt=\"Open In Colab\"/></a>"
      ]
    },
    {
      "cell_type": "code",
      "metadata": {
        "id": "YUvbNWMWYg0a",
        "colab_type": "code",
        "colab": {}
      },
      "source": [
        "import numpy as np\n",
        "import pandas as pd\n",
        "from sklearn.model_selection import train_test_split\n",
        "from sklearn import preprocessing"
      ],
      "execution_count": 0,
      "outputs": []
    },
    {
      "cell_type": "code",
      "metadata": {
        "id": "rbPbu6AqajqD",
        "colab_type": "code",
        "colab": {}
      },
      "source": [
        "df=pd.read_csv('/content/musk_csv.csv')"
      ],
      "execution_count": 0,
      "outputs": []
    },
    {
      "cell_type": "code",
      "metadata": {
        "id": "yGSAb8ckasGG",
        "colab_type": "code",
        "colab": {
          "base_uri": "https://localhost:8080/",
          "height": 34
        },
        "outputId": "9dacfe0d-2271-48eb-a8ca-54ea419e10b3"
      },
      "source": [
        "df.shape"
      ],
      "execution_count": 139,
      "outputs": [
        {
          "output_type": "execute_result",
          "data": {
            "text/plain": [
              "(6598, 170)"
            ]
          },
          "metadata": {
            "tags": []
          },
          "execution_count": 139
        }
      ]
    },
    {
      "cell_type": "code",
      "metadata": {
        "id": "Foax2zLxbH_b",
        "colab_type": "code",
        "colab": {
          "base_uri": "https://localhost:8080/",
          "height": 119
        },
        "outputId": "a90d6929-8cf0-443c-db4f-7da5d92c62c4"
      },
      "source": [
        "df.columns"
      ],
      "execution_count": 140,
      "outputs": [
        {
          "output_type": "execute_result",
          "data": {
            "text/plain": [
              "Index(['ID', 'molecule_name', 'conformation_name', 'f1', 'f2', 'f3', 'f4',\n",
              "       'f5', 'f6', 'f7',\n",
              "       ...\n",
              "       'f158', 'f159', 'f160', 'f161', 'f162', 'f163', 'f164', 'f165', 'f166',\n",
              "       'class'],\n",
              "      dtype='object', length=170)"
            ]
          },
          "metadata": {
            "tags": []
          },
          "execution_count": 140
        }
      ]
    },
    {
      "cell_type": "code",
      "metadata": {
        "id": "qQtocuzqeAvc",
        "colab_type": "code",
        "colab": {
          "base_uri": "https://localhost:8080/",
          "height": 191
        },
        "outputId": "3d917567-6aba-458c-8886-df40db9183aa"
      },
      "source": [
        "df.groupby('class').agg('count')\n"
      ],
      "execution_count": 141,
      "outputs": [
        {
          "output_type": "execute_result",
          "data": {
            "text/html": [
              "<div>\n",
              "<style scoped>\n",
              "    .dataframe tbody tr th:only-of-type {\n",
              "        vertical-align: middle;\n",
              "    }\n",
              "\n",
              "    .dataframe tbody tr th {\n",
              "        vertical-align: top;\n",
              "    }\n",
              "\n",
              "    .dataframe thead th {\n",
              "        text-align: right;\n",
              "    }\n",
              "</style>\n",
              "<table border=\"1\" class=\"dataframe\">\n",
              "  <thead>\n",
              "    <tr style=\"text-align: right;\">\n",
              "      <th></th>\n",
              "      <th>ID</th>\n",
              "      <th>molecule_name</th>\n",
              "      <th>conformation_name</th>\n",
              "      <th>f1</th>\n",
              "      <th>f2</th>\n",
              "      <th>f3</th>\n",
              "      <th>f4</th>\n",
              "      <th>f5</th>\n",
              "      <th>f6</th>\n",
              "      <th>f7</th>\n",
              "      <th>f8</th>\n",
              "      <th>f9</th>\n",
              "      <th>f10</th>\n",
              "      <th>f11</th>\n",
              "      <th>f12</th>\n",
              "      <th>f13</th>\n",
              "      <th>f14</th>\n",
              "      <th>f15</th>\n",
              "      <th>f16</th>\n",
              "      <th>f17</th>\n",
              "      <th>f18</th>\n",
              "      <th>f19</th>\n",
              "      <th>f20</th>\n",
              "      <th>f21</th>\n",
              "      <th>f22</th>\n",
              "      <th>f23</th>\n",
              "      <th>f24</th>\n",
              "      <th>f25</th>\n",
              "      <th>f26</th>\n",
              "      <th>f27</th>\n",
              "      <th>f28</th>\n",
              "      <th>f29</th>\n",
              "      <th>f30</th>\n",
              "      <th>f31</th>\n",
              "      <th>f32</th>\n",
              "      <th>f33</th>\n",
              "      <th>f34</th>\n",
              "      <th>f35</th>\n",
              "      <th>f36</th>\n",
              "      <th>f37</th>\n",
              "      <th>...</th>\n",
              "      <th>f127</th>\n",
              "      <th>f128</th>\n",
              "      <th>f129</th>\n",
              "      <th>f130</th>\n",
              "      <th>f131</th>\n",
              "      <th>f132</th>\n",
              "      <th>f133</th>\n",
              "      <th>f134</th>\n",
              "      <th>f135</th>\n",
              "      <th>f136</th>\n",
              "      <th>f137</th>\n",
              "      <th>f138</th>\n",
              "      <th>f139</th>\n",
              "      <th>f140</th>\n",
              "      <th>f141</th>\n",
              "      <th>f142</th>\n",
              "      <th>f143</th>\n",
              "      <th>f144</th>\n",
              "      <th>f145</th>\n",
              "      <th>f146</th>\n",
              "      <th>f147</th>\n",
              "      <th>f148</th>\n",
              "      <th>f149</th>\n",
              "      <th>f150</th>\n",
              "      <th>f151</th>\n",
              "      <th>f152</th>\n",
              "      <th>f153</th>\n",
              "      <th>f154</th>\n",
              "      <th>f155</th>\n",
              "      <th>f156</th>\n",
              "      <th>f157</th>\n",
              "      <th>f158</th>\n",
              "      <th>f159</th>\n",
              "      <th>f160</th>\n",
              "      <th>f161</th>\n",
              "      <th>f162</th>\n",
              "      <th>f163</th>\n",
              "      <th>f164</th>\n",
              "      <th>f165</th>\n",
              "      <th>f166</th>\n",
              "    </tr>\n",
              "    <tr>\n",
              "      <th>class</th>\n",
              "      <th></th>\n",
              "      <th></th>\n",
              "      <th></th>\n",
              "      <th></th>\n",
              "      <th></th>\n",
              "      <th></th>\n",
              "      <th></th>\n",
              "      <th></th>\n",
              "      <th></th>\n",
              "      <th></th>\n",
              "      <th></th>\n",
              "      <th></th>\n",
              "      <th></th>\n",
              "      <th></th>\n",
              "      <th></th>\n",
              "      <th></th>\n",
              "      <th></th>\n",
              "      <th></th>\n",
              "      <th></th>\n",
              "      <th></th>\n",
              "      <th></th>\n",
              "      <th></th>\n",
              "      <th></th>\n",
              "      <th></th>\n",
              "      <th></th>\n",
              "      <th></th>\n",
              "      <th></th>\n",
              "      <th></th>\n",
              "      <th></th>\n",
              "      <th></th>\n",
              "      <th></th>\n",
              "      <th></th>\n",
              "      <th></th>\n",
              "      <th></th>\n",
              "      <th></th>\n",
              "      <th></th>\n",
              "      <th></th>\n",
              "      <th></th>\n",
              "      <th></th>\n",
              "      <th></th>\n",
              "      <th></th>\n",
              "      <th></th>\n",
              "      <th></th>\n",
              "      <th></th>\n",
              "      <th></th>\n",
              "      <th></th>\n",
              "      <th></th>\n",
              "      <th></th>\n",
              "      <th></th>\n",
              "      <th></th>\n",
              "      <th></th>\n",
              "      <th></th>\n",
              "      <th></th>\n",
              "      <th></th>\n",
              "      <th></th>\n",
              "      <th></th>\n",
              "      <th></th>\n",
              "      <th></th>\n",
              "      <th></th>\n",
              "      <th></th>\n",
              "      <th></th>\n",
              "      <th></th>\n",
              "      <th></th>\n",
              "      <th></th>\n",
              "      <th></th>\n",
              "      <th></th>\n",
              "      <th></th>\n",
              "      <th></th>\n",
              "      <th></th>\n",
              "      <th></th>\n",
              "      <th></th>\n",
              "      <th></th>\n",
              "      <th></th>\n",
              "      <th></th>\n",
              "      <th></th>\n",
              "      <th></th>\n",
              "      <th></th>\n",
              "      <th></th>\n",
              "      <th></th>\n",
              "      <th></th>\n",
              "      <th></th>\n",
              "    </tr>\n",
              "  </thead>\n",
              "  <tbody>\n",
              "    <tr>\n",
              "      <th>0</th>\n",
              "      <td>5581</td>\n",
              "      <td>5581</td>\n",
              "      <td>5581</td>\n",
              "      <td>5581</td>\n",
              "      <td>5581</td>\n",
              "      <td>5581</td>\n",
              "      <td>5581</td>\n",
              "      <td>5581</td>\n",
              "      <td>5581</td>\n",
              "      <td>5581</td>\n",
              "      <td>5581</td>\n",
              "      <td>5581</td>\n",
              "      <td>5581</td>\n",
              "      <td>5581</td>\n",
              "      <td>5581</td>\n",
              "      <td>5581</td>\n",
              "      <td>5581</td>\n",
              "      <td>5581</td>\n",
              "      <td>5581</td>\n",
              "      <td>5581</td>\n",
              "      <td>5581</td>\n",
              "      <td>5581</td>\n",
              "      <td>5581</td>\n",
              "      <td>5581</td>\n",
              "      <td>5581</td>\n",
              "      <td>5581</td>\n",
              "      <td>5581</td>\n",
              "      <td>5581</td>\n",
              "      <td>5581</td>\n",
              "      <td>5581</td>\n",
              "      <td>5581</td>\n",
              "      <td>5581</td>\n",
              "      <td>5581</td>\n",
              "      <td>5581</td>\n",
              "      <td>5581</td>\n",
              "      <td>5581</td>\n",
              "      <td>5581</td>\n",
              "      <td>5581</td>\n",
              "      <td>5581</td>\n",
              "      <td>5581</td>\n",
              "      <td>...</td>\n",
              "      <td>5581</td>\n",
              "      <td>5581</td>\n",
              "      <td>5581</td>\n",
              "      <td>5581</td>\n",
              "      <td>5581</td>\n",
              "      <td>5581</td>\n",
              "      <td>5581</td>\n",
              "      <td>5581</td>\n",
              "      <td>5581</td>\n",
              "      <td>5581</td>\n",
              "      <td>5581</td>\n",
              "      <td>5581</td>\n",
              "      <td>5581</td>\n",
              "      <td>5581</td>\n",
              "      <td>5581</td>\n",
              "      <td>5581</td>\n",
              "      <td>5581</td>\n",
              "      <td>5581</td>\n",
              "      <td>5581</td>\n",
              "      <td>5581</td>\n",
              "      <td>5581</td>\n",
              "      <td>5581</td>\n",
              "      <td>5581</td>\n",
              "      <td>5581</td>\n",
              "      <td>5581</td>\n",
              "      <td>5581</td>\n",
              "      <td>5581</td>\n",
              "      <td>5581</td>\n",
              "      <td>5581</td>\n",
              "      <td>5581</td>\n",
              "      <td>5581</td>\n",
              "      <td>5581</td>\n",
              "      <td>5581</td>\n",
              "      <td>5581</td>\n",
              "      <td>5581</td>\n",
              "      <td>5581</td>\n",
              "      <td>5581</td>\n",
              "      <td>5581</td>\n",
              "      <td>5581</td>\n",
              "      <td>5581</td>\n",
              "    </tr>\n",
              "    <tr>\n",
              "      <th>1</th>\n",
              "      <td>1017</td>\n",
              "      <td>1017</td>\n",
              "      <td>1017</td>\n",
              "      <td>1017</td>\n",
              "      <td>1017</td>\n",
              "      <td>1017</td>\n",
              "      <td>1017</td>\n",
              "      <td>1017</td>\n",
              "      <td>1017</td>\n",
              "      <td>1017</td>\n",
              "      <td>1017</td>\n",
              "      <td>1017</td>\n",
              "      <td>1017</td>\n",
              "      <td>1017</td>\n",
              "      <td>1017</td>\n",
              "      <td>1017</td>\n",
              "      <td>1017</td>\n",
              "      <td>1017</td>\n",
              "      <td>1017</td>\n",
              "      <td>1017</td>\n",
              "      <td>1017</td>\n",
              "      <td>1017</td>\n",
              "      <td>1017</td>\n",
              "      <td>1017</td>\n",
              "      <td>1017</td>\n",
              "      <td>1017</td>\n",
              "      <td>1017</td>\n",
              "      <td>1017</td>\n",
              "      <td>1017</td>\n",
              "      <td>1017</td>\n",
              "      <td>1017</td>\n",
              "      <td>1017</td>\n",
              "      <td>1017</td>\n",
              "      <td>1017</td>\n",
              "      <td>1017</td>\n",
              "      <td>1017</td>\n",
              "      <td>1017</td>\n",
              "      <td>1017</td>\n",
              "      <td>1017</td>\n",
              "      <td>1017</td>\n",
              "      <td>...</td>\n",
              "      <td>1017</td>\n",
              "      <td>1017</td>\n",
              "      <td>1017</td>\n",
              "      <td>1017</td>\n",
              "      <td>1017</td>\n",
              "      <td>1017</td>\n",
              "      <td>1017</td>\n",
              "      <td>1017</td>\n",
              "      <td>1017</td>\n",
              "      <td>1017</td>\n",
              "      <td>1017</td>\n",
              "      <td>1017</td>\n",
              "      <td>1017</td>\n",
              "      <td>1017</td>\n",
              "      <td>1017</td>\n",
              "      <td>1017</td>\n",
              "      <td>1017</td>\n",
              "      <td>1017</td>\n",
              "      <td>1017</td>\n",
              "      <td>1017</td>\n",
              "      <td>1017</td>\n",
              "      <td>1017</td>\n",
              "      <td>1017</td>\n",
              "      <td>1017</td>\n",
              "      <td>1017</td>\n",
              "      <td>1017</td>\n",
              "      <td>1017</td>\n",
              "      <td>1017</td>\n",
              "      <td>1017</td>\n",
              "      <td>1017</td>\n",
              "      <td>1017</td>\n",
              "      <td>1017</td>\n",
              "      <td>1017</td>\n",
              "      <td>1017</td>\n",
              "      <td>1017</td>\n",
              "      <td>1017</td>\n",
              "      <td>1017</td>\n",
              "      <td>1017</td>\n",
              "      <td>1017</td>\n",
              "      <td>1017</td>\n",
              "    </tr>\n",
              "  </tbody>\n",
              "</table>\n",
              "<p>2 rows × 169 columns</p>\n",
              "</div>"
            ],
            "text/plain": [
              "         ID  molecule_name  conformation_name    f1  ...  f163  f164  f165  f166\n",
              "class                                                ...                        \n",
              "0      5581           5581               5581  5581  ...  5581  5581  5581  5581\n",
              "1      1017           1017               1017  1017  ...  1017  1017  1017  1017\n",
              "\n",
              "[2 rows x 169 columns]"
            ]
          },
          "metadata": {
            "tags": []
          },
          "execution_count": 141
        }
      ]
    },
    {
      "cell_type": "code",
      "metadata": {
        "id": "3aaLWPEQzQw2",
        "colab_type": "code",
        "colab": {
          "base_uri": "https://localhost:8080/",
          "height": 221
        },
        "outputId": "bf5fc5a6-13b2-4508-a9a3-1cc573053bfa"
      },
      "source": [
        "df.isna().count()"
      ],
      "execution_count": 142,
      "outputs": [
        {
          "output_type": "execute_result",
          "data": {
            "text/plain": [
              "ID                   6598\n",
              "molecule_name        6598\n",
              "conformation_name    6598\n",
              "f1                   6598\n",
              "f2                   6598\n",
              "                     ... \n",
              "f163                 6598\n",
              "f164                 6598\n",
              "f165                 6598\n",
              "f166                 6598\n",
              "class                6598\n",
              "Length: 170, dtype: int64"
            ]
          },
          "metadata": {
            "tags": []
          },
          "execution_count": 142
        }
      ]
    },
    {
      "cell_type": "code",
      "metadata": {
        "id": "zeLG-4Doy6mF",
        "colab_type": "code",
        "colab": {}
      },
      "source": [
        "df=df.drop(['ID',\t'molecule_name',\t'conformation_name'\t],axis=1)"
      ],
      "execution_count": 0,
      "outputs": []
    },
    {
      "cell_type": "code",
      "metadata": {
        "id": "MCz736-LuRXk",
        "colab_type": "code",
        "colab": {
          "base_uri": "https://localhost:8080/",
          "height": 34
        },
        "outputId": "3896de20-6d6e-4005-9291-aeab4fb477c2"
      },
      "source": [
        "df.shape"
      ],
      "execution_count": 145,
      "outputs": [
        {
          "output_type": "execute_result",
          "data": {
            "text/plain": [
              "(6598, 167)"
            ]
          },
          "metadata": {
            "tags": []
          },
          "execution_count": 145
        }
      ]
    },
    {
      "cell_type": "code",
      "metadata": {
        "id": "UMGgyd2y1C7a",
        "colab_type": "code",
        "colab": {
          "base_uri": "https://localhost:8080/",
          "height": 255
        },
        "outputId": "7de16bc1-6801-4534-ce43-da631e172b1c"
      },
      "source": [
        "df.head"
      ],
      "execution_count": 146,
      "outputs": [
        {
          "output_type": "execute_result",
          "data": {
            "text/plain": [
              "<bound method NDFrame.head of       f1   f2   f3   f4   f5   f6  ...  f162  f163  f164  f165  f166  class\n",
              "0     46 -108  -60  -69 -117   49  ...   126   156   -50  -112    96      1\n",
              "1     41 -188 -145   22 -117   -6  ...   136   169   -61  -136    79      1\n",
              "2     46 -194 -145   28 -117   73  ...   142   165   -67  -145    39      1\n",
              "3     41 -188 -145   22 -117   -7  ...   136   168   -60  -135    80      1\n",
              "4     41 -188 -145   22 -117   -7  ...   137   168   -60  -135    80      1\n",
              "...   ..  ...  ...  ...  ...  ...  ...   ...   ...   ...   ...   ...    ...\n",
              "6593  51 -123  -23 -108 -117  134  ...   107   171   -44  -115   118      0\n",
              "6594  44 -104  -19 -105 -117  142  ...   129   158   -66  -144    -5      0\n",
              "6595  44 -102  -19 -104 -117   72  ...   130   159   -66  -144    -6      0\n",
              "6596  51 -121  -23 -106 -117   63  ...   106   171   -44  -116   117      0\n",
              "6597  51 -122  -23 -106 -117  190  ...   107   171   -44  -115   118      0\n",
              "\n",
              "[6598 rows x 167 columns]>"
            ]
          },
          "metadata": {
            "tags": []
          },
          "execution_count": 146
        }
      ]
    },
    {
      "cell_type": "code",
      "metadata": {
        "id": "rZn9vTEr1Ppt",
        "colab_type": "code",
        "colab": {}
      },
      "source": [
        "\n",
        "train,test=train_test_split(df,test_size=0.2)"
      ],
      "execution_count": 0,
      "outputs": []
    },
    {
      "cell_type": "code",
      "metadata": {
        "id": "NRINF66L1Cvt",
        "colab_type": "code",
        "colab": {
          "base_uri": "https://localhost:8080/",
          "height": 34
        },
        "outputId": "536e3c76-d89e-46be-eb4c-36648644c461"
      },
      "source": [
        "train.shape"
      ],
      "execution_count": 148,
      "outputs": [
        {
          "output_type": "execute_result",
          "data": {
            "text/plain": [
              "(5278, 167)"
            ]
          },
          "metadata": {
            "tags": []
          },
          "execution_count": 148
        }
      ]
    },
    {
      "cell_type": "code",
      "metadata": {
        "id": "D9yKL_mv2XMP",
        "colab_type": "code",
        "colab": {}
      },
      "source": [
        "train_label=train['class']\n",
        "test_label=test['class']"
      ],
      "execution_count": 0,
      "outputs": []
    },
    {
      "cell_type": "code",
      "metadata": {
        "id": "D0jMgb0R2iy6",
        "colab_type": "code",
        "colab": {}
      },
      "source": [
        "train=train.drop(['class'],axis=1)\n",
        "test=test.drop(['class'],axis=1)"
      ],
      "execution_count": 0,
      "outputs": []
    },
    {
      "cell_type": "code",
      "metadata": {
        "id": "Ey3rN3yA5s1K",
        "colab_type": "code",
        "colab": {
          "base_uri": "https://localhost:8080/",
          "height": 34
        },
        "outputId": "bf0b6a8d-8382-4c78-87ca-5716a6b44ce9"
      },
      "source": [
        "train.shape"
      ],
      "execution_count": 152,
      "outputs": [
        {
          "output_type": "execute_result",
          "data": {
            "text/plain": [
              "(5278, 166)"
            ]
          },
          "metadata": {
            "tags": []
          },
          "execution_count": 152
        }
      ]
    },
    {
      "cell_type": "code",
      "metadata": {
        "id": "2BZnwoJt9Ow4",
        "colab_type": "code",
        "colab": {}
      },
      "source": [
        "\n",
        "train = pd.DataFrame(preprocessing.normalize(train, norm='l2'))\n",
        "test=pd.DataFrame(preprocessing.normalize(test,norm='l2'))\n"
      ],
      "execution_count": 0,
      "outputs": []
    },
    {
      "cell_type": "code",
      "metadata": {
        "id": "UHsqJFBx9uKN",
        "colab_type": "code",
        "colab": {
          "base_uri": "https://localhost:8080/",
          "height": 253
        },
        "outputId": "48102a81-fcaa-43ba-a28d-9f736dc40759"
      },
      "source": [
        "train.head()"
      ],
      "execution_count": 19,
      "outputs": [
        {
          "output_type": "execute_result",
          "data": {
            "text/html": [
              "<div>\n",
              "<style scoped>\n",
              "    .dataframe tbody tr th:only-of-type {\n",
              "        vertical-align: middle;\n",
              "    }\n",
              "\n",
              "    .dataframe tbody tr th {\n",
              "        vertical-align: top;\n",
              "    }\n",
              "\n",
              "    .dataframe thead th {\n",
              "        text-align: right;\n",
              "    }\n",
              "</style>\n",
              "<table border=\"1\" class=\"dataframe\">\n",
              "  <thead>\n",
              "    <tr style=\"text-align: right;\">\n",
              "      <th></th>\n",
              "      <th>0</th>\n",
              "      <th>1</th>\n",
              "      <th>2</th>\n",
              "      <th>3</th>\n",
              "      <th>4</th>\n",
              "      <th>5</th>\n",
              "      <th>6</th>\n",
              "      <th>7</th>\n",
              "      <th>8</th>\n",
              "      <th>9</th>\n",
              "      <th>10</th>\n",
              "      <th>11</th>\n",
              "      <th>12</th>\n",
              "      <th>13</th>\n",
              "      <th>14</th>\n",
              "      <th>15</th>\n",
              "      <th>16</th>\n",
              "      <th>17</th>\n",
              "      <th>18</th>\n",
              "      <th>19</th>\n",
              "      <th>20</th>\n",
              "      <th>21</th>\n",
              "      <th>22</th>\n",
              "      <th>23</th>\n",
              "      <th>24</th>\n",
              "      <th>25</th>\n",
              "      <th>26</th>\n",
              "      <th>27</th>\n",
              "      <th>28</th>\n",
              "      <th>29</th>\n",
              "      <th>30</th>\n",
              "      <th>31</th>\n",
              "      <th>32</th>\n",
              "      <th>33</th>\n",
              "      <th>34</th>\n",
              "      <th>35</th>\n",
              "      <th>36</th>\n",
              "      <th>37</th>\n",
              "      <th>38</th>\n",
              "      <th>39</th>\n",
              "      <th>...</th>\n",
              "      <th>126</th>\n",
              "      <th>127</th>\n",
              "      <th>128</th>\n",
              "      <th>129</th>\n",
              "      <th>130</th>\n",
              "      <th>131</th>\n",
              "      <th>132</th>\n",
              "      <th>133</th>\n",
              "      <th>134</th>\n",
              "      <th>135</th>\n",
              "      <th>136</th>\n",
              "      <th>137</th>\n",
              "      <th>138</th>\n",
              "      <th>139</th>\n",
              "      <th>140</th>\n",
              "      <th>141</th>\n",
              "      <th>142</th>\n",
              "      <th>143</th>\n",
              "      <th>144</th>\n",
              "      <th>145</th>\n",
              "      <th>146</th>\n",
              "      <th>147</th>\n",
              "      <th>148</th>\n",
              "      <th>149</th>\n",
              "      <th>150</th>\n",
              "      <th>151</th>\n",
              "      <th>152</th>\n",
              "      <th>153</th>\n",
              "      <th>154</th>\n",
              "      <th>155</th>\n",
              "      <th>156</th>\n",
              "      <th>157</th>\n",
              "      <th>158</th>\n",
              "      <th>159</th>\n",
              "      <th>160</th>\n",
              "      <th>161</th>\n",
              "      <th>162</th>\n",
              "      <th>163</th>\n",
              "      <th>164</th>\n",
              "      <th>165</th>\n",
              "    </tr>\n",
              "  </thead>\n",
              "  <tbody>\n",
              "    <tr>\n",
              "      <th>0</th>\n",
              "      <td>0.037052</td>\n",
              "      <td>-0.107906</td>\n",
              "      <td>-0.042252</td>\n",
              "      <td>-0.029252</td>\n",
              "      <td>-0.072154</td>\n",
              "      <td>0.081905</td>\n",
              "      <td>-0.105956</td>\n",
              "      <td>0.073454</td>\n",
              "      <td>-0.149509</td>\n",
              "      <td>-0.033152</td>\n",
              "      <td>-0.084505</td>\n",
              "      <td>-0.054603</td>\n",
              "      <td>-0.033152</td>\n",
              "      <td>-0.050053</td>\n",
              "      <td>-0.072154</td>\n",
              "      <td>-0.194361</td>\n",
              "      <td>-0.143008</td>\n",
              "      <td>-0.022751</td>\n",
              "      <td>-0.017551</td>\n",
              "      <td>0.005200</td>\n",
              "      <td>-0.088405</td>\n",
              "      <td>-0.119607</td>\n",
              "      <td>-0.117007</td>\n",
              "      <td>0.048103</td>\n",
              "      <td>0.062404</td>\n",
              "      <td>-0.107256</td>\n",
              "      <td>-0.119607</td>\n",
              "      <td>-0.099456</td>\n",
              "      <td>-0.014301</td>\n",
              "      <td>0.080605</td>\n",
              "      <td>-0.063704</td>\n",
              "      <td>0.089705</td>\n",
              "      <td>-0.079305</td>\n",
              "      <td>0.011051</td>\n",
              "      <td>-0.079955</td>\n",
              "      <td>0.051353</td>\n",
              "      <td>0.000000</td>\n",
              "      <td>-0.079955</td>\n",
              "      <td>0.046153</td>\n",
              "      <td>-0.059153</td>\n",
              "      <td>...</td>\n",
              "      <td>-0.011701</td>\n",
              "      <td>0.063054</td>\n",
              "      <td>-0.043553</td>\n",
              "      <td>-0.074104</td>\n",
              "      <td>0.024701</td>\n",
              "      <td>0.009751</td>\n",
              "      <td>-0.056553</td>\n",
              "      <td>-0.041602</td>\n",
              "      <td>-0.023401</td>\n",
              "      <td>-0.009751</td>\n",
              "      <td>-0.115707</td>\n",
              "      <td>0.063054</td>\n",
              "      <td>-0.103356</td>\n",
              "      <td>-0.050053</td>\n",
              "      <td>-0.080605</td>\n",
              "      <td>-0.057853</td>\n",
              "      <td>-0.097506</td>\n",
              "      <td>-0.109206</td>\n",
              "      <td>-0.115057</td>\n",
              "      <td>-0.064354</td>\n",
              "      <td>-0.052003</td>\n",
              "      <td>-0.038352</td>\n",
              "      <td>-0.081905</td>\n",
              "      <td>-0.087755</td>\n",
              "      <td>-0.067604</td>\n",
              "      <td>-0.076704</td>\n",
              "      <td>-0.073454</td>\n",
              "      <td>-0.026652</td>\n",
              "      <td>0.076054</td>\n",
              "      <td>-0.009751</td>\n",
              "      <td>0.053953</td>\n",
              "      <td>-0.045503</td>\n",
              "      <td>0.113757</td>\n",
              "      <td>0.010401</td>\n",
              "      <td>0.019501</td>\n",
              "      <td>0.062404</td>\n",
              "      <td>0.117007</td>\n",
              "      <td>-0.026001</td>\n",
              "      <td>-0.076054</td>\n",
              "      <td>0.085155</td>\n",
              "    </tr>\n",
              "    <tr>\n",
              "      <th>1</th>\n",
              "      <td>0.153033</td>\n",
              "      <td>-0.105210</td>\n",
              "      <td>-0.059513</td>\n",
              "      <td>-0.040384</td>\n",
              "      <td>-0.062170</td>\n",
              "      <td>0.006376</td>\n",
              "      <td>0.013815</td>\n",
              "      <td>-0.051011</td>\n",
              "      <td>-0.011159</td>\n",
              "      <td>-0.012753</td>\n",
              "      <td>-0.128059</td>\n",
              "      <td>-0.114243</td>\n",
              "      <td>-0.036133</td>\n",
              "      <td>-0.151970</td>\n",
              "      <td>-0.150376</td>\n",
              "      <td>-0.158347</td>\n",
              "      <td>-0.028162</td>\n",
              "      <td>-0.040384</td>\n",
              "      <td>-0.100428</td>\n",
              "      <td>-0.095646</td>\n",
              "      <td>-0.034007</td>\n",
              "      <td>-0.007439</td>\n",
              "      <td>-0.021786</td>\n",
              "      <td>0.051011</td>\n",
              "      <td>0.059513</td>\n",
              "      <td>0.011690</td>\n",
              "      <td>-0.010627</td>\n",
              "      <td>-0.072266</td>\n",
              "      <td>0.013284</td>\n",
              "      <td>0.036664</td>\n",
              "      <td>-0.061638</td>\n",
              "      <td>-0.010096</td>\n",
              "      <td>-0.046229</td>\n",
              "      <td>0.008502</td>\n",
              "      <td>-0.018598</td>\n",
              "      <td>0.160472</td>\n",
              "      <td>-0.092989</td>\n",
              "      <td>0.038790</td>\n",
              "      <td>-0.077048</td>\n",
              "      <td>0.037196</td>\n",
              "      <td>...</td>\n",
              "      <td>0.021786</td>\n",
              "      <td>0.030819</td>\n",
              "      <td>0.008502</td>\n",
              "      <td>-0.079705</td>\n",
              "      <td>0.148782</td>\n",
              "      <td>0.039852</td>\n",
              "      <td>-0.034539</td>\n",
              "      <td>-0.088738</td>\n",
              "      <td>-0.111055</td>\n",
              "      <td>-0.011159</td>\n",
              "      <td>0.024443</td>\n",
              "      <td>-0.061638</td>\n",
              "      <td>-0.001063</td>\n",
              "      <td>-0.017004</td>\n",
              "      <td>-0.048886</td>\n",
              "      <td>0.040384</td>\n",
              "      <td>0.041978</td>\n",
              "      <td>0.032413</td>\n",
              "      <td>-0.094583</td>\n",
              "      <td>-0.054731</td>\n",
              "      <td>-0.064826</td>\n",
              "      <td>-0.018598</td>\n",
              "      <td>-0.056856</td>\n",
              "      <td>0.021255</td>\n",
              "      <td>-0.029225</td>\n",
              "      <td>-0.055262</td>\n",
              "      <td>-0.060044</td>\n",
              "      <td>-0.089269</td>\n",
              "      <td>-0.005845</td>\n",
              "      <td>-0.100428</td>\n",
              "      <td>-0.125402</td>\n",
              "      <td>-0.038790</td>\n",
              "      <td>-0.068546</td>\n",
              "      <td>-0.068015</td>\n",
              "      <td>-0.063232</td>\n",
              "      <td>0.168443</td>\n",
              "      <td>0.115306</td>\n",
              "      <td>0.002657</td>\n",
              "      <td>0.072266</td>\n",
              "      <td>0.089801</td>\n",
              "    </tr>\n",
              "    <tr>\n",
              "      <th>2</th>\n",
              "      <td>0.028822</td>\n",
              "      <td>-0.024704</td>\n",
              "      <td>-0.032115</td>\n",
              "      <td>0.107875</td>\n",
              "      <td>-0.096346</td>\n",
              "      <td>0.071642</td>\n",
              "      <td>0.075760</td>\n",
              "      <td>0.029645</td>\n",
              "      <td>-0.021410</td>\n",
              "      <td>-0.055173</td>\n",
              "      <td>-0.033762</td>\n",
              "      <td>-0.031292</td>\n",
              "      <td>-0.015646</td>\n",
              "      <td>-0.080700</td>\n",
              "      <td>-0.046115</td>\n",
              "      <td>-0.234690</td>\n",
              "      <td>0.042821</td>\n",
              "      <td>-0.051879</td>\n",
              "      <td>0.007411</td>\n",
              "      <td>-0.023057</td>\n",
              "      <td>-0.027175</td>\n",
              "      <td>-0.004941</td>\n",
              "      <td>-0.012352</td>\n",
              "      <td>-0.062584</td>\n",
              "      <td>-0.078230</td>\n",
              "      <td>-0.032115</td>\n",
              "      <td>0.127639</td>\n",
              "      <td>-0.092229</td>\n",
              "      <td>0.065878</td>\n",
              "      <td>-0.104581</td>\n",
              "      <td>-0.083171</td>\n",
              "      <td>0.109522</td>\n",
              "      <td>-0.017293</td>\n",
              "      <td>-0.135873</td>\n",
              "      <td>0.011529</td>\n",
              "      <td>0.079877</td>\n",
              "      <td>0.109522</td>\n",
              "      <td>0.023057</td>\n",
              "      <td>-0.118580</td>\n",
              "      <td>0.098817</td>\n",
              "      <td>...</td>\n",
              "      <td>-0.066701</td>\n",
              "      <td>-0.114463</td>\n",
              "      <td>-0.051879</td>\n",
              "      <td>0.068348</td>\n",
              "      <td>0.020587</td>\n",
              "      <td>0.034586</td>\n",
              "      <td>-0.060937</td>\n",
              "      <td>-0.025528</td>\n",
              "      <td>-0.051055</td>\n",
              "      <td>-0.046115</td>\n",
              "      <td>0.051879</td>\n",
              "      <td>-0.057643</td>\n",
              "      <td>-0.037880</td>\n",
              "      <td>-0.025528</td>\n",
              "      <td>-0.055173</td>\n",
              "      <td>0.046115</td>\n",
              "      <td>0.039527</td>\n",
              "      <td>0.020587</td>\n",
              "      <td>-0.146578</td>\n",
              "      <td>-0.085641</td>\n",
              "      <td>-0.103758</td>\n",
              "      <td>0.088112</td>\n",
              "      <td>0.088112</td>\n",
              "      <td>0.123521</td>\n",
              "      <td>-0.018940</td>\n",
              "      <td>0.055173</td>\n",
              "      <td>0.005764</td>\n",
              "      <td>-0.044468</td>\n",
              "      <td>0.101287</td>\n",
              "      <td>0.018940</td>\n",
              "      <td>-0.183635</td>\n",
              "      <td>-0.177047</td>\n",
              "      <td>-0.116110</td>\n",
              "      <td>-0.071642</td>\n",
              "      <td>-0.085641</td>\n",
              "      <td>0.074936</td>\n",
              "      <td>0.180341</td>\n",
              "      <td>-0.040350</td>\n",
              "      <td>-0.135050</td>\n",
              "      <td>0.112816</td>\n",
              "    </tr>\n",
              "    <tr>\n",
              "      <th>3</th>\n",
              "      <td>0.000672</td>\n",
              "      <td>-0.073197</td>\n",
              "      <td>-0.013431</td>\n",
              "      <td>0.015445</td>\n",
              "      <td>-0.078569</td>\n",
              "      <td>0.006715</td>\n",
              "      <td>-0.110803</td>\n",
              "      <td>0.041635</td>\n",
              "      <td>-0.142365</td>\n",
              "      <td>-0.016788</td>\n",
              "      <td>-0.072526</td>\n",
              "      <td>-0.054394</td>\n",
              "      <td>-0.040964</td>\n",
              "      <td>-0.061110</td>\n",
              "      <td>-0.036934</td>\n",
              "      <td>-0.192730</td>\n",
              "      <td>-0.142365</td>\n",
              "      <td>-0.007387</td>\n",
              "      <td>-0.024175</td>\n",
              "      <td>-0.026190</td>\n",
              "      <td>-0.063124</td>\n",
              "      <td>-0.122219</td>\n",
              "      <td>-0.126248</td>\n",
              "      <td>0.144380</td>\n",
              "      <td>0.059767</td>\n",
              "      <td>-0.137664</td>\n",
              "      <td>-0.115504</td>\n",
              "      <td>-0.107445</td>\n",
              "      <td>0.000672</td>\n",
              "      <td>0.083270</td>\n",
              "      <td>-0.078569</td>\n",
              "      <td>-0.001343</td>\n",
              "      <td>-0.028876</td>\n",
              "      <td>0.010745</td>\n",
              "      <td>-0.012759</td>\n",
              "      <td>0.067153</td>\n",
              "      <td>-0.113489</td>\n",
              "      <td>-0.102745</td>\n",
              "      <td>-0.014102</td>\n",
              "      <td>-0.088642</td>\n",
              "      <td>...</td>\n",
              "      <td>-0.016117</td>\n",
              "      <td>0.064467</td>\n",
              "      <td>-0.042978</td>\n",
              "      <td>-0.024847</td>\n",
              "      <td>0.012088</td>\n",
              "      <td>-0.012088</td>\n",
              "      <td>-0.036263</td>\n",
              "      <td>-0.036263</td>\n",
              "      <td>-0.022832</td>\n",
              "      <td>-0.018803</td>\n",
              "      <td>-0.115504</td>\n",
              "      <td>-0.030219</td>\n",
              "      <td>-0.133635</td>\n",
              "      <td>-0.051037</td>\n",
              "      <td>-0.073869</td>\n",
              "      <td>-0.094686</td>\n",
              "      <td>-0.102073</td>\n",
              "      <td>-0.110803</td>\n",
              "      <td>-0.119533</td>\n",
              "      <td>-0.069840</td>\n",
              "      <td>-0.082599</td>\n",
              "      <td>-0.025518</td>\n",
              "      <td>-0.039621</td>\n",
              "      <td>-0.096029</td>\n",
              "      <td>-0.010745</td>\n",
              "      <td>0.003358</td>\n",
              "      <td>0.008730</td>\n",
              "      <td>-0.036263</td>\n",
              "      <td>-0.007387</td>\n",
              "      <td>-0.055066</td>\n",
              "      <td>-0.161840</td>\n",
              "      <td>-0.194073</td>\n",
              "      <td>0.002015</td>\n",
              "      <td>-0.018803</td>\n",
              "      <td>-0.040292</td>\n",
              "      <td>-0.005372</td>\n",
              "      <td>0.158482</td>\n",
              "      <td>-0.030891</td>\n",
              "      <td>-0.119533</td>\n",
              "      <td>0.099387</td>\n",
              "    </tr>\n",
              "    <tr>\n",
              "      <th>4</th>\n",
              "      <td>0.028681</td>\n",
              "      <td>0.055406</td>\n",
              "      <td>0.009778</td>\n",
              "      <td>-0.047584</td>\n",
              "      <td>-0.076265</td>\n",
              "      <td>0.046280</td>\n",
              "      <td>-0.108205</td>\n",
              "      <td>0.026725</td>\n",
              "      <td>-0.125805</td>\n",
              "      <td>-0.013689</td>\n",
              "      <td>-0.058665</td>\n",
              "      <td>-0.060621</td>\n",
              "      <td>-0.048888</td>\n",
              "      <td>-0.029985</td>\n",
              "      <td>-0.048888</td>\n",
              "      <td>-0.175996</td>\n",
              "      <td>-0.116679</td>\n",
              "      <td>0.028029</td>\n",
              "      <td>-0.009778</td>\n",
              "      <td>0.003259</td>\n",
              "      <td>-0.061273</td>\n",
              "      <td>-0.119938</td>\n",
              "      <td>-0.096472</td>\n",
              "      <td>0.131019</td>\n",
              "      <td>0.123197</td>\n",
              "      <td>-0.122545</td>\n",
              "      <td>-0.103642</td>\n",
              "      <td>-0.102339</td>\n",
              "      <td>0.003911</td>\n",
              "      <td>0.170130</td>\n",
              "      <td>-0.076265</td>\n",
              "      <td>-0.022814</td>\n",
              "      <td>-0.015644</td>\n",
              "      <td>-0.020207</td>\n",
              "      <td>-0.101687</td>\n",
              "      <td>0.098427</td>\n",
              "      <td>-0.107553</td>\n",
              "      <td>-0.076265</td>\n",
              "      <td>-0.014992</td>\n",
              "      <td>-0.071050</td>\n",
              "      <td>...</td>\n",
              "      <td>0.003911</td>\n",
              "      <td>0.137538</td>\n",
              "      <td>-0.021511</td>\n",
              "      <td>-0.122545</td>\n",
              "      <td>-0.056710</td>\n",
              "      <td>-0.067791</td>\n",
              "      <td>-0.017600</td>\n",
              "      <td>-0.048888</td>\n",
              "      <td>-0.018251</td>\n",
              "      <td>-0.024770</td>\n",
              "      <td>-0.097776</td>\n",
              "      <td>-0.080828</td>\n",
              "      <td>-0.106250</td>\n",
              "      <td>-0.025422</td>\n",
              "      <td>-0.041718</td>\n",
              "      <td>-0.061925</td>\n",
              "      <td>-0.099079</td>\n",
              "      <td>-0.109509</td>\n",
              "      <td>-0.116027</td>\n",
              "      <td>-0.067139</td>\n",
              "      <td>-0.079524</td>\n",
              "      <td>0.017600</td>\n",
              "      <td>0.043673</td>\n",
              "      <td>-0.093213</td>\n",
              "      <td>-0.069095</td>\n",
              "      <td>-0.075613</td>\n",
              "      <td>-0.073006</td>\n",
              "      <td>0.033244</td>\n",
              "      <td>0.001304</td>\n",
              "      <td>0.033896</td>\n",
              "      <td>-0.153182</td>\n",
              "      <td>-0.097124</td>\n",
              "      <td>0.026725</td>\n",
              "      <td>0.005215</td>\n",
              "      <td>0.093213</td>\n",
              "      <td>0.079524</td>\n",
              "      <td>0.108205</td>\n",
              "      <td>-0.043021</td>\n",
              "      <td>-0.098427</td>\n",
              "      <td>-0.010429</td>\n",
              "    </tr>\n",
              "  </tbody>\n",
              "</table>\n",
              "<p>5 rows × 166 columns</p>\n",
              "</div>"
            ],
            "text/plain": [
              "        0         1         2    ...       163       164       165\n",
              "0  0.037052 -0.107906 -0.042252  ... -0.026001 -0.076054  0.085155\n",
              "1  0.153033 -0.105210 -0.059513  ...  0.002657  0.072266  0.089801\n",
              "2  0.028822 -0.024704 -0.032115  ... -0.040350 -0.135050  0.112816\n",
              "3  0.000672 -0.073197 -0.013431  ... -0.030891 -0.119533  0.099387\n",
              "4  0.028681  0.055406  0.009778  ... -0.043021 -0.098427 -0.010429\n",
              "\n",
              "[5 rows x 166 columns]"
            ]
          },
          "metadata": {
            "tags": []
          },
          "execution_count": 19
        }
      ]
    },
    {
      "cell_type": "code",
      "metadata": {
        "id": "ydVKr5iA-67A",
        "colab_type": "code",
        "colab": {
          "base_uri": "https://localhost:8080/",
          "height": 85
        },
        "outputId": "eba7c931-0dc7-4caa-f4a0-9c5459e0517f"
      },
      "source": [
        "from sklearn.svm import SVC\n",
        "svclassifier = SVC(kernel='linear',verbose=True,random_state=1)\n",
        "svclassifier.fit(train,train_label)"
      ],
      "execution_count": 154,
      "outputs": [
        {
          "output_type": "stream",
          "text": [
            "[LibSVM]"
          ],
          "name": "stdout"
        },
        {
          "output_type": "execute_result",
          "data": {
            "text/plain": [
              "SVC(C=1.0, cache_size=200, class_weight=None, coef0=0.0,\n",
              "    decision_function_shape='ovr', degree=3, gamma='auto_deprecated',\n",
              "    kernel='linear', max_iter=-1, probability=False, random_state=1,\n",
              "    shrinking=True, tol=0.001, verbose=True)"
            ]
          },
          "metadata": {
            "tags": []
          },
          "execution_count": 154
        }
      ]
    },
    {
      "cell_type": "code",
      "metadata": {
        "id": "c08U-FOK_Tgk",
        "colab_type": "code",
        "colab": {}
      },
      "source": [
        "y_pred=svclassifier.predict(test)\n"
      ],
      "execution_count": 0,
      "outputs": []
    },
    {
      "cell_type": "code",
      "metadata": {
        "id": "Y7D4XKLzAdnN",
        "colab_type": "code",
        "colab": {
          "base_uri": "https://localhost:8080/",
          "height": 34
        },
        "outputId": "59f7b2b5-323a-4a5c-8af9-4e72a62ab8bc"
      },
      "source": [
        "from sklearn.metrics import accuracy_score\n",
        "print (accuracy_score(test_label, y_pred))"
      ],
      "execution_count": 156,
      "outputs": [
        {
          "output_type": "stream",
          "text": [
            "0.9363636363636364\n"
          ],
          "name": "stdout"
        }
      ]
    },
    {
      "cell_type": "code",
      "metadata": {
        "id": "dL5jrClL_upR",
        "colab_type": "code",
        "colab": {
          "base_uri": "https://localhost:8080/",
          "height": 204
        },
        "outputId": "b011031b-7bd2-4bb2-ea33-7c5a7cb66511"
      },
      "source": [
        "from sklearn.metrics import classification_report, confusion_matrix\n",
        "print(confusion_matrix(test_label,y_pred))\n",
        "print(classification_report(test_label,y_pred))\n"
      ],
      "execution_count": 157,
      "outputs": [
        {
          "output_type": "stream",
          "text": [
            "[[1111    4]\n",
            " [  80  125]]\n",
            "              precision    recall  f1-score   support\n",
            "\n",
            "           0       0.93      1.00      0.96      1115\n",
            "           1       0.97      0.61      0.75       205\n",
            "\n",
            "    accuracy                           0.94      1320\n",
            "   macro avg       0.95      0.80      0.86      1320\n",
            "weighted avg       0.94      0.94      0.93      1320\n",
            "\n"
          ],
          "name": "stdout"
        }
      ]
    },
    {
      "cell_type": "code",
      "metadata": {
        "id": "xZZ8ORH83J3E",
        "colab_type": "code",
        "colab": {}
      },
      "source": [
        "from keras.models import Sequential\n",
        "from keras.layers import Dense , Activation\n"
      ],
      "execution_count": 0,
      "outputs": []
    },
    {
      "cell_type": "code",
      "metadata": {
        "id": "2EuGeRCS4Xj7",
        "colab_type": "code",
        "colab": {}
      },
      "source": [
        "from keras.optimizers import SGD\n",
        "opt = SGD(lr=0.001)"
      ],
      "execution_count": 0,
      "outputs": []
    },
    {
      "cell_type": "markdown",
      "metadata": {
        "id": "7Eh9aJP9CVOt",
        "colab_type": "text"
      },
      "source": [
        "Deep learning solution"
      ]
    },
    {
      "cell_type": "code",
      "metadata": {
        "id": "gs-5KpfCr0yV",
        "colab_type": "code",
        "colab": {}
      },
      "source": [
        "import matplotlib.pyplot as plt "
      ],
      "execution_count": 0,
      "outputs": []
    },
    {
      "cell_type": "code",
      "metadata": {
        "id": "5adEhekKCjZz",
        "colab_type": "code",
        "colab": {
          "base_uri": "https://localhost:8080/",
          "height": 136
        },
        "outputId": "d98337b6-49dd-4627-839b-5c9784d56822"
      },
      "source": [
        "from sklearn.neural_network import MLPClassifier\n",
        "num_epoch=10\n",
        "train_score=[]\n",
        " \n",
        "mlp = MLPClassifier(hidden_layer_sizes=(10,10),solver='sgd',\n",
        "                      learning_rate_init=0.01,max_iter=500)\n",
        "\n",
        "mlp.fit(train,train_label)\n",
        " "
      ],
      "execution_count": 161,
      "outputs": [
        {
          "output_type": "execute_result",
          "data": {
            "text/plain": [
              "MLPClassifier(activation='relu', alpha=0.0001, batch_size='auto', beta_1=0.9,\n",
              "              beta_2=0.999, early_stopping=False, epsilon=1e-08,\n",
              "              hidden_layer_sizes=(10, 10), learning_rate='constant',\n",
              "              learning_rate_init=0.01, max_iter=500, momentum=0.9,\n",
              "              n_iter_no_change=10, nesterovs_momentum=True, power_t=0.5,\n",
              "              random_state=None, shuffle=True, solver='sgd', tol=0.0001,\n",
              "              validation_fraction=0.1, verbose=False, warm_start=False)"
            ]
          },
          "metadata": {
            "tags": []
          },
          "execution_count": 161
        }
      ]
    },
    {
      "cell_type": "code",
      "metadata": {
        "id": "AR-WZIq2tyL_",
        "colab_type": "code",
        "colab": {
          "base_uri": "https://localhost:8080/",
          "height": 34
        },
        "outputId": "bcfb0692-c517-4a92-b9a9-4e5a0a729981"
      },
      "source": [
        "print(mlp.score(test,test_label))"
      ],
      "execution_count": 162,
      "outputs": [
        {
          "output_type": "stream",
          "text": [
            "0.9931818181818182\n"
          ],
          "name": "stdout"
        }
      ]
    },
    {
      "cell_type": "code",
      "metadata": {
        "id": "zC8IevPQq3Sx",
        "colab_type": "code",
        "colab": {}
      },
      "source": [
        ""
      ],
      "execution_count": 0,
      "outputs": []
    },
    {
      "cell_type": "code",
      "metadata": {
        "id": "AstCizz-xJrF",
        "colab_type": "code",
        "colab": {}
      },
      "source": [
        "model=Sequential()\n",
        "model.add(Dense(20,input_dim=(166),activation='relu'))\n",
        "model.add(Dense(20,activation='relu'))\n",
        "model.add(Dense(10,activation='relu'))\n",
        "model.add(Dense(10,activation='relu'))\n",
        "model.add(Dense(1,activation='sigmoid'))\n",
        "\n",
        "model.compile(optimizer='rmsprop',\n",
        "              loss='binary_crossentropy',\n",
        "              metrics=['accuracy'])"
      ],
      "execution_count": 0,
      "outputs": []
    },
    {
      "cell_type": "code",
      "metadata": {
        "id": "7iPNgtqSyToE",
        "colab_type": "code",
        "colab": {
          "base_uri": "https://localhost:8080/",
          "height": 323
        },
        "outputId": "9327bcf1-feef-40e7-e370-9d93e7b01210"
      },
      "source": [
        "model.summary()"
      ],
      "execution_count": 164,
      "outputs": [
        {
          "output_type": "stream",
          "text": [
            "Model: \"sequential_10\"\n",
            "_________________________________________________________________\n",
            "Layer (type)                 Output Shape              Param #   \n",
            "=================================================================\n",
            "dense_34 (Dense)             (None, 20)                3340      \n",
            "_________________________________________________________________\n",
            "dense_35 (Dense)             (None, 20)                420       \n",
            "_________________________________________________________________\n",
            "dense_36 (Dense)             (None, 10)                210       \n",
            "_________________________________________________________________\n",
            "dense_37 (Dense)             (None, 10)                110       \n",
            "_________________________________________________________________\n",
            "dense_38 (Dense)             (None, 1)                 11        \n",
            "=================================================================\n",
            "Total params: 4,091\n",
            "Trainable params: 4,091\n",
            "Non-trainable params: 0\n",
            "_________________________________________________________________\n"
          ],
          "name": "stdout"
        }
      ]
    },
    {
      "cell_type": "code",
      "metadata": {
        "id": "gwIjApWUxtyx",
        "colab_type": "code",
        "colab": {
          "base_uri": "https://localhost:8080/",
          "height": 904
        },
        "outputId": "1206c341-1151-4cb6-ea19-3363e366d8f2"
      },
      "source": [
        "history=model.fit(train,train_label,epochs=25,batch_size=100,validation_split=0.2)"
      ],
      "execution_count": 165,
      "outputs": [
        {
          "output_type": "stream",
          "text": [
            "Train on 4222 samples, validate on 1056 samples\n",
            "Epoch 1/25\n",
            "4222/4222 [==============================] - 1s 222us/step - loss: 0.4742 - acc: 0.8494 - val_loss: 0.4264 - val_acc: 0.8333\n",
            "Epoch 2/25\n",
            "4222/4222 [==============================] - 0s 23us/step - loss: 0.3860 - acc: 0.8494 - val_loss: 0.3867 - val_acc: 0.8333\n",
            "Epoch 3/25\n",
            "4222/4222 [==============================] - 0s 22us/step - loss: 0.3456 - acc: 0.8494 - val_loss: 0.3451 - val_acc: 0.8333\n",
            "Epoch 4/25\n",
            "4222/4222 [==============================] - 0s 25us/step - loss: 0.2996 - acc: 0.8508 - val_loss: 0.3019 - val_acc: 0.8475\n",
            "Epoch 5/25\n",
            "4222/4222 [==============================] - 0s 23us/step - loss: 0.2606 - acc: 0.8899 - val_loss: 0.2647 - val_acc: 0.8968\n",
            "Epoch 6/25\n",
            "4222/4222 [==============================] - 0s 20us/step - loss: 0.2326 - acc: 0.9150 - val_loss: 0.2427 - val_acc: 0.9157\n",
            "Epoch 7/25\n",
            "4222/4222 [==============================] - 0s 20us/step - loss: 0.2111 - acc: 0.9240 - val_loss: 0.2494 - val_acc: 0.9062\n",
            "Epoch 8/25\n",
            "4222/4222 [==============================] - 0s 21us/step - loss: 0.1949 - acc: 0.9311 - val_loss: 0.2095 - val_acc: 0.9186\n",
            "Epoch 9/25\n",
            "4222/4222 [==============================] - 0s 21us/step - loss: 0.1813 - acc: 0.9315 - val_loss: 0.2162 - val_acc: 0.9186\n",
            "Epoch 10/25\n",
            "4222/4222 [==============================] - 0s 20us/step - loss: 0.1665 - acc: 0.9413 - val_loss: 0.2010 - val_acc: 0.9242\n",
            "Epoch 11/25\n",
            "4222/4222 [==============================] - 0s 22us/step - loss: 0.1565 - acc: 0.9415 - val_loss: 0.1620 - val_acc: 0.9318\n",
            "Epoch 12/25\n",
            "4222/4222 [==============================] - 0s 22us/step - loss: 0.1450 - acc: 0.9462 - val_loss: 0.1700 - val_acc: 0.9299\n",
            "Epoch 13/25\n",
            "4222/4222 [==============================] - 0s 22us/step - loss: 0.1360 - acc: 0.9507 - val_loss: 0.1815 - val_acc: 0.9252\n",
            "Epoch 14/25\n",
            "4222/4222 [==============================] - 0s 20us/step - loss: 0.1257 - acc: 0.9536 - val_loss: 0.1768 - val_acc: 0.9280\n",
            "Epoch 15/25\n",
            "4222/4222 [==============================] - 0s 20us/step - loss: 0.1169 - acc: 0.9583 - val_loss: 0.1525 - val_acc: 0.9347\n",
            "Epoch 16/25\n",
            "4222/4222 [==============================] - 0s 19us/step - loss: 0.1102 - acc: 0.9574 - val_loss: 0.1334 - val_acc: 0.9479\n",
            "Epoch 17/25\n",
            "4222/4222 [==============================] - 0s 20us/step - loss: 0.1028 - acc: 0.9635 - val_loss: 0.1295 - val_acc: 0.9470\n",
            "Epoch 18/25\n",
            "4222/4222 [==============================] - 0s 20us/step - loss: 0.0972 - acc: 0.9647 - val_loss: 0.1088 - val_acc: 0.9612\n",
            "Epoch 19/25\n",
            "4222/4222 [==============================] - 0s 20us/step - loss: 0.0904 - acc: 0.9659 - val_loss: 0.1396 - val_acc: 0.9489\n",
            "Epoch 20/25\n",
            "4222/4222 [==============================] - 0s 20us/step - loss: 0.0881 - acc: 0.9671 - val_loss: 0.1225 - val_acc: 0.9489\n",
            "Epoch 21/25\n",
            "4222/4222 [==============================] - 0s 21us/step - loss: 0.0822 - acc: 0.9704 - val_loss: 0.0966 - val_acc: 0.9631\n",
            "Epoch 22/25\n",
            "4222/4222 [==============================] - 0s 21us/step - loss: 0.0768 - acc: 0.9721 - val_loss: 0.1612 - val_acc: 0.9394\n",
            "Epoch 23/25\n",
            "4222/4222 [==============================] - 0s 21us/step - loss: 0.0760 - acc: 0.9716 - val_loss: 0.1017 - val_acc: 0.9612\n",
            "Epoch 24/25\n",
            "4222/4222 [==============================] - 0s 21us/step - loss: 0.0712 - acc: 0.9730 - val_loss: 0.0973 - val_acc: 0.9650\n",
            "Epoch 25/25\n",
            "4222/4222 [==============================] - 0s 21us/step - loss: 0.0689 - acc: 0.9747 - val_loss: 0.0883 - val_acc: 0.9716\n"
          ],
          "name": "stdout"
        }
      ]
    },
    {
      "cell_type": "code",
      "metadata": {
        "id": "aOvRy3S20Nw_",
        "colab_type": "code",
        "colab": {
          "base_uri": "https://localhost:8080/",
          "height": 295
        },
        "outputId": "4eff7cae-0e3f-4683-eaa6-5256505bab0b"
      },
      "source": [
        "plt.plot(history.history['loss'])\n",
        "plt.plot(history.history['val_loss'])\n",
        "plt.title('model loss')\n",
        "plt.ylabel('loss')\n",
        "plt.xlabel('epoch')\n",
        "plt.legend(['train', 'validation'], loc='upper left')\n",
        "plt.show()"
      ],
      "execution_count": 166,
      "outputs": [
        {
          "output_type": "display_data",
          "data": {
            "image/png": "[encoded data removed]",
            "text/plain": [
              "<Figure size 432x288 with 1 Axes>"
            ]
          },
          "metadata": {
            "tags": []
          }
        }
      ]
    },
    {
      "cell_type": "code",
      "metadata": {
        "id": "P2IH6NQqyKiF",
        "colab_type": "code",
        "colab": {}
      },
      "source": [
        "from sklearn.metrics import accuracy_score\n",
        "from sklearn.metrics import precision_score\n",
        "from sklearn.metrics import recall_score\n",
        "from sklearn.metrics import f1_score\n",
        "from sklearn.metrics import cohen_kappa_score\n",
        "from sklearn.metrics import roc_auc_score\n",
        "from sklearn.metrics import confusion_matrix\n",
        "\n",
        "y_pred=model.predict_classes(test)\n",
        "y_pred=y_pred[:,0]\n"
      ],
      "execution_count": 0,
      "outputs": []
    },
    {
      "cell_type": "markdown",
      "metadata": {
        "id": "SvuRKuuLzc3A",
        "colab_type": "text"
      },
      "source": [
        "calculating accuracy_score"
      ]
    },
    {
      "cell_type": "code",
      "metadata": {
        "id": "6MJSZF80zVyv",
        "colab_type": "code",
        "colab": {
          "base_uri": "https://localhost:8080/",
          "height": 34
        },
        "outputId": "2bd2c685-a9db-4de3-812c-450c548c6f03"
      },
      "source": [
        "accuracy = accuracy_score(test_label, y_pred)\n",
        "print('Accuracy: %f' % accuracy)"
      ],
      "execution_count": 174,
      "outputs": [
        {
          "output_type": "stream",
          "text": [
            "Accuracy: 0.976515\n"
          ],
          "name": "stdout"
        }
      ]
    },
    {
      "cell_type": "markdown",
      "metadata": {
        "id": "sQ8cdzuPGxiw",
        "colab_type": "text"
      },
      "source": [
        "calculating precision"
      ]
    },
    {
      "cell_type": "code",
      "metadata": {
        "id": "nZ1vOmQ7G29y",
        "colab_type": "code",
        "colab": {
          "base_uri": "https://localhost:8080/",
          "height": 34
        },
        "outputId": "604dfe94-8c89-4d16-ac57-7dd0d4791df4"
      },
      "source": [
        "precision = precision_score(test_label, y_pred)\n",
        "print('Precision: %f' % precision)"
      ],
      "execution_count": 176,
      "outputs": [
        {
          "output_type": "stream",
          "text": [
            "Precision: 0.926471\n"
          ],
          "name": "stdout"
        }
      ]
    },
    {
      "cell_type": "markdown",
      "metadata": {
        "id": "UCoRApk0HBY8",
        "colab_type": "text"
      },
      "source": [
        "calculating Recall"
      ]
    },
    {
      "cell_type": "code",
      "metadata": {
        "id": "3mCciIMgHAQQ",
        "colab_type": "code",
        "colab": {
          "base_uri": "https://localhost:8080/",
          "height": 34
        },
        "outputId": "3aa2ea79-5ae3-4b44-ffa9-c6e440b5b1f4"
      },
      "source": [
        "recall = recall_score(test_label, y_pred)\n",
        "print('Recall: %f' % recall)"
      ],
      "execution_count": 177,
      "outputs": [
        {
          "output_type": "stream",
          "text": [
            "Recall: 0.921951\n"
          ],
          "name": "stdout"
        }
      ]
    },
    {
      "cell_type": "markdown",
      "metadata": {
        "id": "13zqQPuOHQBQ",
        "colab_type": "text"
      },
      "source": [
        "calculating f1 score"
      ]
    },
    {
      "cell_type": "code",
      "metadata": {
        "id": "BPbdHAW4HX8N",
        "colab_type": "code",
        "colab": {
          "base_uri": "https://localhost:8080/",
          "height": 34
        },
        "outputId": "28c0ecfe-646d-4cab-83e0-483cdb1bd166"
      },
      "source": [
        "f1 = f1_score(test_label, y_pred)\n",
        "print('F1 score: %f' % f1)"
      ],
      "execution_count": 178,
      "outputs": [
        {
          "output_type": "stream",
          "text": [
            "F1 score: 0.924205\n"
          ],
          "name": "stdout"
        }
      ]
    },
    {
      "cell_type": "markdown",
      "metadata": {
        "id": "7qStb0f6Hdyz",
        "colab_type": "text"
      },
      "source": [
        "confusion matrix"
      ]
    },
    {
      "cell_type": "code",
      "metadata": {
        "id": "zYpH9iWGHoaB",
        "colab_type": "code",
        "colab": {
          "base_uri": "https://localhost:8080/",
          "height": 51
        },
        "outputId": "658fddc8-4701-405e-fdb5-cad81404da7f"
      },
      "source": [
        "matrix = confusion_matrix(test_label, y_pred)\n",
        "print(matrix)"
      ],
      "execution_count": 179,
      "outputs": [
        {
          "output_type": "stream",
          "text": [
            "[[1100   15]\n",
            " [  16  189]]\n"
          ],
          "name": "stdout"
        }
      ]
    },
    {
      "cell_type": "markdown",
      "metadata": {
        "id": "xJ2FiBc7HwW0",
        "colab_type": "text"
      },
      "source": [
        "saving the model in h5"
      ]
    },
    {
      "cell_type": "code",
      "metadata": {
        "id": "gxTvLpSLHvd2",
        "colab_type": "code",
        "colab": {}
      },
      "source": [
        "model.save(\"model.h5\")"
      ],
      "execution_count": 0,
      "outputs": []
    },
    {
      "cell_type": "code",
      "metadata": {
        "id": "5RlaQn8VImop",
        "colab_type": "code",
        "colab": {
          "base_uri": "https://localhost:8080/",
          "height": 323
        },
        "outputId": "f19c670b-9c5b-4f25-9dfe-e8798fb25756"
      },
      "source": [
        "from keras.models import load_model\n",
        "model1 = load_model('model.h5')\n",
        "model1.summary()\n"
      ],
      "execution_count": 183,
      "outputs": [
        {
          "output_type": "stream",
          "text": [
            "Model: \"sequential_10\"\n",
            "_________________________________________________________________\n",
            "Layer (type)                 Output Shape              Param #   \n",
            "=================================================================\n",
            "dense_34 (Dense)             (None, 20)                3340      \n",
            "_________________________________________________________________\n",
            "dense_35 (Dense)             (None, 20)                420       \n",
            "_________________________________________________________________\n",
            "dense_36 (Dense)             (None, 10)                210       \n",
            "_________________________________________________________________\n",
            "dense_37 (Dense)             (None, 10)                110       \n",
            "_________________________________________________________________\n",
            "dense_38 (Dense)             (None, 1)                 11        \n",
            "=================================================================\n",
            "Total params: 4,091\n",
            "Trainable params: 4,091\n",
            "Non-trainable params: 0\n",
            "_________________________________________________________________\n"
          ],
          "name": "stdout"
        }
      ]
    },
    {
      "cell_type": "code",
      "metadata": {
        "id": "XXwAJG-CJBJc",
        "colab_type": "code",
        "colab": {
          "base_uri": "https://localhost:8080/",
          "height": 34
        },
        "outputId": "5a8fd120-6c6f-460d-e68c-398778815bb4"
      },
      "source": [
        "score = model1.evaluate(test,test_label, verbose=0)\n",
        "print(\"%s: %.2f%%\" % (model.metrics_names[1], score[1]*100))"
      ],
      "execution_count": 184,
      "outputs": [
        {
          "output_type": "stream",
          "text": [
            "acc: 97.65%\n"
          ],
          "name": "stdout"
        }
      ]
    }
  ]
}