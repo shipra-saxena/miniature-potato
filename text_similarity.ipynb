{
  "nbformat": 4,
  "nbformat_minor": 0,
  "metadata": {
    "colab": {
      "name": "text_similarity.ipynb",
      "provenance": [],
      "include_colab_link": true
    },
    "kernelspec": {
      "name": "python3",
      "display_name": "Python 3"
    },
    "accelerator": "TPU"
  },
  "cells": [
    {
      "cell_type": "markdown",
      "metadata": {
        "id": "view-in-github",
        "colab_type": "text"
      },
      "source": [
        "<a href=\"https://colab.research.google.com/github/shipra-saxena/miniature-potato/blob/master/text_similarity.ipynb\" target=\"_parent\"><img src=\"https://colab.research.google.com/assets/colab-badge.svg\" alt=\"Open In Colab\"/></a>"
      ]
    },
    {
      "cell_type": "code",
      "metadata": {
        "id": "kQfc0XdcCyW8",
        "colab_type": "code",
        "outputId": "7a6464c9-53f4-42a6-ca35-cfe1e41685cd",
        "colab": {
          "base_uri": "https://localhost:8080/",
          "height": 241
        }
      },
      "source": [
        "!python -m spacy download en_core_web_md"
      ],
      "execution_count": 0,
      "outputs": [
        {
          "output_type": "stream",
          "text": [
            "Collecting en_core_web_md==2.1.0\n",
            "\u001b[?25l  Downloading https://github.com/explosion/spacy-models/releases/download/en_core_web_md-2.1.0/en_core_web_md-2.1.0.tar.gz (95.4MB)\n",
            "\u001b[K     |████████████████████████████████| 95.4MB 2.6MB/s \n",
            "\u001b[?25hBuilding wheels for collected packages: en-core-web-md\n",
            "  Building wheel for en-core-web-md (setup.py) ... \u001b[?25l\u001b[?25hdone\n",
            "  Created wheel for en-core-web-md: filename=en_core_web_md-2.1.0-cp36-none-any.whl size=97126237 sha256=204c3e1cfc35216be80cd20735fa460b00b3db79878531f1ee2888a32c553a6c\n",
            "  Stored in directory: /tmp/pip-ephem-wheel-cache-8mjtaaiy/wheels/c1/2c/5f/fd7f3ec336bf97b0809c86264d2831c5dfb00fc2e239d1bb01\n",
            "Successfully built en-core-web-md\n",
            "Installing collected packages: en-core-web-md\n",
            "Successfully installed en-core-web-md-2.1.0\n",
            "\u001b[38;5;2m✔ Download and installation successful\u001b[0m\n",
            "You can now load the model via spacy.load('en_core_web_md')\n"
          ],
          "name": "stdout"
        }
      ]
    },
    {
      "cell_type": "code",
      "metadata": {
        "id": "bJEPRQScDCUw",
        "colab_type": "code",
        "colab": {}
      },
      "source": [
        ""
      ],
      "execution_count": 0,
      "outputs": []
    },
    {
      "cell_type": "code",
      "metadata": {
        "id": "VBO5TVUdDFHa",
        "colab_type": "code",
        "colab": {}
      },
      "source": [
        "import pandas as pd\n",
        "import numpy as np\n",
        "import spacy\n",
        "from pandas import DataFrame\n",
        "import spacy \n",
        "import en_core_web_md\n",
        "nlp = spacy.load(\"en\")\n",
        "#spacy_nlp = spacy.load('en_core_web_sm')\n",
        "nlp1=spacy.load('en_core_web_md')"
      ],
      "execution_count": 0,
      "outputs": []
    },
    {
      "cell_type": "code",
      "metadata": {
        "id": "k50H1C4TDGKd",
        "colab_type": "code",
        "outputId": "2c324ec4-a10c-4a83-abb2-048f29523f5c",
        "colab": {
          "base_uri": "https://localhost:8080/",
          "height": 34
        }
      },
      "source": [
        "df=pd.read_csv(\"Text_Similarity_Dataset.csv\")\n",
        "df.shape,df.columns"
      ],
      "execution_count": 0,
      "outputs": [
        {
          "output_type": "execute_result",
          "data": {
            "text/plain": [
              "((4023, 3), Index(['Unique_ID', 'text1', 'text2'], dtype='object'))"
            ]
          },
          "metadata": {
            "tags": []
          },
          "execution_count": 3
        }
      ]
    },
    {
      "cell_type": "code",
      "metadata": {
        "id": "5LIihiHeDJFS",
        "colab_type": "code",
        "colab": {}
      },
      "source": [
        "def preprocess(para):\n",
        "  # all text is already in lower case so we need not to convert that\n",
        "  #remove punctuation and stop words\n",
        "  doc = nlp1(para)\n",
        "  tokens = [token.text for token in doc if not token.is_stop and not token.is_punct and not token.is_digit]\n",
        "  #Lemmatization\n",
        "  tokens=[token.lemma_ for token in tokens]\n",
        "  return \" \".join(tokens)"
      ],
      "execution_count": 0,
      "outputs": []
    },
    {
      "cell_type": "code",
      "metadata": {
        "id": "Am1epnvTDNqQ",
        "colab_type": "code",
        "colab": {}
      },
      "source": [
        "def find_simila(para1,para2):\n",
        "  doc1=nlp1(para1)\n",
        "  doc2=nlp1(para2)\n",
        "  return(1-doc1.similarity(doc2))"
      ],
      "execution_count": 0,
      "outputs": []
    },
    {
      "cell_type": "code",
      "metadata": {
        "id": "8a5M4lwVIGMd",
        "colab_type": "code",
        "colab": {}
      },
      "source": [
        "df_new=DataFrame(columns=['unique_id','similarity'])"
      ],
      "execution_count": 0,
      "outputs": []
    },
    {
      "cell_type": "code",
      "metadata": {
        "id": "Ul6KWaIPDQf0",
        "colab_type": "code",
        "outputId": "9235986b-d10a-48e9-da64-d152646b0931",
        "colab": {
          "base_uri": "https://localhost:8080/"
        }
      },
      "source": [
        "import time\n",
        "import progressbar\n",
        "\n",
        "for i in progressbar.progressbar(range(100)):\n",
        "    time.sleep(0.02)\n",
        "\n",
        "    for i in range(1000):\n",
        "      para1=(df.iloc[0:i+1,1:2]).to_string()\n",
        "      para2=df.iloc[0:i+1,2:3].to_string()\n",
        "      para1=preprocess(para1)\n",
        "      para2=preprocess(para2)\n",
        "      df_new.loc[i:i+1,1:2]=(find_simila(para1,para2))\n",
        "    time.sleep(0.02)\n",
        "\n",
        "\n",
        "df_new['unique_id']=df['Unique_ID']"
      ],
      "execution_count": 0,
      "outputs": [
        {
          "output_type": "stream",
          "text": [
            "\r                                                                               \r\rN/A% (0 of 100) |                        | Elapsed Time: 0:00:00 ETA:  --:--:--"
          ],
          "name": "stderr"
        }
      ]
    },
    {
      "cell_type": "code",
      "metadata": {
        "id": "Qmyqk-DSM5Dq",
        "colab_type": "code",
        "outputId": "0b22b05b-eeb1-40ed-9ded-2dd6f870106f",
        "colab": {
          "base_uri": "https://localhost:8080/",
          "height": 419
        }
      },
      "source": [
        "df_new"
      ],
      "execution_count": 0,
      "outputs": [
        {
          "output_type": "execute_result",
          "data": {
            "text/html": [
              "<div>\n",
              "<style scoped>\n",
              "    .dataframe tbody tr th:only-of-type {\n",
              "        vertical-align: middle;\n",
              "    }\n",
              "\n",
              "    .dataframe tbody tr th {\n",
              "        vertical-align: top;\n",
              "    }\n",
              "\n",
              "    .dataframe thead th {\n",
              "        text-align: right;\n",
              "    }\n",
              "</style>\n",
              "<table border=\"1\" class=\"dataframe\">\n",
              "  <thead>\n",
              "    <tr style=\"text-align: right;\">\n",
              "      <th></th>\n",
              "      <th>unique_id</th>\n",
              "      <th>similarity</th>\n",
              "    </tr>\n",
              "  </thead>\n",
              "  <tbody>\n",
              "    <tr>\n",
              "      <th>0</th>\n",
              "      <td>0</td>\n",
              "      <td>0.720118</td>\n",
              "    </tr>\n",
              "    <tr>\n",
              "      <th>1</th>\n",
              "      <td>1</td>\n",
              "      <td>0.38125</td>\n",
              "    </tr>\n",
              "    <tr>\n",
              "      <th>2</th>\n",
              "      <td>2</td>\n",
              "      <td>0.332324</td>\n",
              "    </tr>\n",
              "    <tr>\n",
              "      <th>3</th>\n",
              "      <td>3</td>\n",
              "      <td>0.276325</td>\n",
              "    </tr>\n",
              "    <tr>\n",
              "      <th>4</th>\n",
              "      <td>4</td>\n",
              "      <td>0.208672</td>\n",
              "    </tr>\n",
              "    <tr>\n",
              "      <th>...</th>\n",
              "      <td>...</td>\n",
              "      <td>...</td>\n",
              "    </tr>\n",
              "    <tr>\n",
              "      <th>4018</th>\n",
              "      <td>4018</td>\n",
              "      <td>NaN</td>\n",
              "    </tr>\n",
              "    <tr>\n",
              "      <th>4019</th>\n",
              "      <td>4019</td>\n",
              "      <td>NaN</td>\n",
              "    </tr>\n",
              "    <tr>\n",
              "      <th>4020</th>\n",
              "      <td>4020</td>\n",
              "      <td>NaN</td>\n",
              "    </tr>\n",
              "    <tr>\n",
              "      <th>4021</th>\n",
              "      <td>4021</td>\n",
              "      <td>NaN</td>\n",
              "    </tr>\n",
              "    <tr>\n",
              "      <th>4022</th>\n",
              "      <td>4022</td>\n",
              "      <td>NaN</td>\n",
              "    </tr>\n",
              "  </tbody>\n",
              "</table>\n",
              "<p>4023 rows × 2 columns</p>\n",
              "</div>"
            ],
            "text/plain": [
              "      unique_id similarity\n",
              "0             0   0.720118\n",
              "1             1    0.38125\n",
              "2             2   0.332324\n",
              "3             3   0.276325\n",
              "4             4   0.208672\n",
              "...         ...        ...\n",
              "4018       4018        NaN\n",
              "4019       4019        NaN\n",
              "4020       4020        NaN\n",
              "4021       4021        NaN\n",
              "4022       4022        NaN\n",
              "\n",
              "[4023 rows x 2 columns]"
            ]
          },
          "metadata": {
            "tags": []
          },
          "execution_count": 21
        }
      ]
    },
    {
      "cell_type": "code",
      "metadata": {
        "id": "0ylS7kRpDTxR",
        "colab_type": "code",
        "colab": {}
      },
      "source": [
        "df_new.to_csv(r'/content/result.csv')"
      ],
      "execution_count": 0,
      "outputs": []
    }
  ]
}