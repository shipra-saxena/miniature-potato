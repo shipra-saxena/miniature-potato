{
  "nbformat": 4,
  "nbformat_minor": 0,
  "metadata": {
    "kernelspec": {
      "display_name": "Python 3",
      "language": "python",
      "name": "python3"
    },
    "language_info": {
      "codemirror_mode": {
        "name": "ipython",
        "version": 3
      },
      "file_extension": ".py",
      "mimetype": "text/x-python",
      "name": "python",
      "nbconvert_exporter": "python",
      "pygments_lexer": "ipython3",
      "version": "3.6.5"
    },
    "colab": {
      "name": "using mlp.ipynb",
      "provenance": [],
      "include_colab_link": true
    }
  },
  "cells": [
    {
      "cell_type": "markdown",
      "metadata": {
        "id": "view-in-github",
        "colab_type": "text"
      },
      "source": [
        "<a href=\"https://colab.research.google.com/github/shipra-saxena/miniature-potato/blob/master/Cifar-10using_mlp.ipynb\" target=\"_parent\"><img src=\"https://colab.research.google.com/assets/colab-badge.svg\" alt=\"Open In Colab\"/></a>"
      ]
    },
    {
      "cell_type": "code",
      "metadata": {
        "id": "6Tek-aFtmADc",
        "colab_type": "code",
        "colab": {}
      },
      "source": [
        "from IPython.display import Image, SVG\n",
        "import matplotlib.pyplot as plt\n",
        "\n",
        "%matplotlib inline\n",
        "import time\n",
        "import matplotlib.pyplot as plt\n",
        "import numpy as np\n",
        "from keras.models import Sequential\n",
        "from keras.layers.core import Dense, Activation\n",
        "from keras.optimizers import SGD\n",
        "from keras.utils import np_utils\n",
        "% matplotlib inline\n",
        "np.random.seed(2019) \n",
        "import numpy as np\n",
        "import keras\n",
        "from keras.datasets import cifar10\n",
        "from keras.utils import np_utils\n",
        "from keras.models import Sequential\n",
        "from keras.layers import Dense\n",
        "\n",
        "from keras.utils.vis_utils import model_to_dot"
      ],
      "execution_count": 0,
      "outputs": []
    },
    {
      "cell_type": "code",
      "metadata": {
        "scrolled": true,
        "id": "4Vd8F_rXmADm",
        "colab_type": "code",
        "colab": {}
      },
      "source": [
        "(X_train, Y_train), (X_test, Y_test) = cifar10.load_data()\n"
      ],
      "execution_count": 0,
      "outputs": []
    },
    {
      "cell_type": "code",
      "metadata": {
        "id": "vptPU-hVmADr",
        "colab_type": "code",
        "colab": {}
      },
      "source": [
        "from tensorflow.image import rgb_to_grayscale\n",
        "X_train=rgb_to_grayscale(X_train)\n",
        "X_test=rgb_to_grayscale(X_test)"
      ],
      "execution_count": 0,
      "outputs": []
    },
    {
      "cell_type": "code",
      "metadata": {
        "id": "2RKBLEE-mADv",
        "colab_type": "code",
        "colab": {}
      },
      "source": [
        "X_train = X_train.eval()\n",
        "X_test = X_test.eval()\n"
      ],
      "execution_count": 0,
      "outputs": []
    },
    {
      "cell_type": "code",
      "metadata": {
        "id": "9YW7yWQDmAD0",
        "colab_type": "code",
        "colab": {}
      },
      "source": [
        "img_rows, img_cols=  X_train.shape[1],X_train.shape[2]"
      ],
      "execution_count": 0,
      "outputs": []
    },
    {
      "cell_type": "code",
      "metadata": {
        "id": "P10g6aaumAD4",
        "colab_type": "code",
        "colab": {}
      },
      "source": [
        "X_train = X_train.reshape(X_train.shape[0],img_rows*img_cols)\n",
        "X_test = X_test.reshape(X_test.shape[0],img_rows*img_cols)\n",
        "\n",
        "\n",
        "#hotone encoding\n",
        "Y_train = np_utils.to_categorical(Y_train)\n",
        "Y_test = np_utils.to_categorical(Y_test)\n",
        "\n",
        "X_train = X_train.astype('float32')\n",
        "X_test = X_test.astype('float32')\n",
        "\n",
        "#normalization of data\n",
        "X_train = X_train / 255.0\n",
        "X_test = X_test / 255.0"
      ],
      "execution_count": 0,
      "outputs": []
    },
    {
      "cell_type": "code",
      "metadata": {
        "id": "1zEgUAzomAD8",
        "colab_type": "code",
        "colab": {},
        "outputId": "7d3cf317-40ac-468b-c4fe-3f0f65beb426"
      },
      "source": [
        "X_train.shape"
      ],
      "execution_count": 0,
      "outputs": [
        {
          "output_type": "execute_result",
          "data": {
            "text/plain": [
              "(50000, 1024)"
            ]
          },
          "metadata": {
            "tags": []
          },
          "execution_count": 114
        }
      ]
    },
    {
      "cell_type": "code",
      "metadata": {
        "id": "N_wj0itKmAEC",
        "colab_type": "code",
        "colab": {}
      },
      "source": [
        "def simple_nn():\n",
        "    # initialize model\n",
        "    model = Sequential()\n",
        "    # add an input layer and a hidden layer\n",
        "    model.add(Dense(100, input_dim =img_rows*img_cols))\n",
        "    # add activation layer to add non-linearity\n",
        "    model.add(Activation('relu'))\n",
        "    model.add(Dense(100, input_dim =img_rows*img_cols))\n",
        "    # add activation layer to add non-linearity\n",
        "    model.add(Activation('relu'))\n",
        "    model.add(Dense(100, input_dim =img_rows*img_cols))\n",
        "    # add activation layer to add non-linearity\n",
        "    model.add(Activation('relu'))\n",
        "    model.add(Dense(100, input_dim =img_rows*img_cols))\n",
        "    # add activation layer to add non-linearity\n",
        "    model.add(Activation('relu'))\n",
        "    # to add ReLu instead of sigmoid: model.add(Activation('relu'))\n",
        "    # combine above 2 layers: model.add(Dense(100, input_dim=784),Activation('sigmoid'))\n",
        "    # add output layer\n",
        "    model.add(Dense(10))\n",
        "    # add softmax layer \n",
        "    model.add(Activation('softmax'))\n",
        "    return model\n"
      ],
      "execution_count": 0,
      "outputs": []
    },
    {
      "cell_type": "code",
      "metadata": {
        "id": "8txo0xBkmAEH",
        "colab_type": "code",
        "colab": {},
        "outputId": "25e6cef4-225f-4da1-dcad-d59446e6acd3"
      },
      "source": [
        "model = simple_nn()\n",
        "# define optimizer\n",
        "sgd = SGD(lr=0.01)\n",
        "model.compile(optimizer='adam', loss='mse', metrics=['accuracy'])\n",
        "# print model information\n",
        "model.summary()"
      ],
      "execution_count": 0,
      "outputs": [
        {
          "output_type": "stream",
          "text": [
            "_________________________________________________________________\n",
            "Layer (type)                 Output Shape              Param #   \n",
            "=================================================================\n",
            "dense_11 (Dense)             (None, 100)               102500    \n",
            "_________________________________________________________________\n",
            "activation_11 (Activation)   (None, 100)               0         \n",
            "_________________________________________________________________\n",
            "dense_12 (Dense)             (None, 100)               10100     \n",
            "_________________________________________________________________\n",
            "activation_12 (Activation)   (None, 100)               0         \n",
            "_________________________________________________________________\n",
            "dense_13 (Dense)             (None, 100)               10100     \n",
            "_________________________________________________________________\n",
            "activation_13 (Activation)   (None, 100)               0         \n",
            "_________________________________________________________________\n",
            "dense_14 (Dense)             (None, 100)               10100     \n",
            "_________________________________________________________________\n",
            "activation_14 (Activation)   (None, 100)               0         \n",
            "_________________________________________________________________\n",
            "dense_15 (Dense)             (None, 10)                1010      \n",
            "_________________________________________________________________\n",
            "activation_15 (Activation)   (None, 10)                0         \n",
            "=================================================================\n",
            "Total params: 133,810\n",
            "Trainable params: 133,810\n",
            "Non-trainable params: 0\n",
            "_________________________________________________________________\n"
          ],
          "name": "stdout"
        }
      ]
    },
    {
      "cell_type": "code",
      "metadata": {
        "id": "WvkTOcgomAEM",
        "colab_type": "code",
        "colab": {},
        "outputId": "da8d7f1e-8596-48ef-b627-15b996f7d63e"
      },
      "source": [
        "start = time.time()\n",
        "model_info = model.fit(X_train,Y_train, batch_size=32, \\\n",
        "                       epochs=50, verbose=2, validation_split=0.2)\n",
        "end = time.time()\n",
        "print(\"Model took %0.2f seconds to train\"%(end - start))"
      ],
      "execution_count": 0,
      "outputs": [
        {
          "output_type": "stream",
          "text": [
            "Train on 40000 samples, validate on 10000 samples\n",
            "Epoch 1/50\n",
            " - 3s - loss: 0.0846 - acc: 0.2419 - val_loss: 0.0813 - val_acc: 0.3002\n",
            "Epoch 2/50\n",
            " - 3s - loss: 0.0810 - acc: 0.3056 - val_loss: 0.0800 - val_acc: 0.3198\n",
            "Epoch 3/50\n",
            " - 3s - loss: 0.0795 - acc: 0.3234 - val_loss: 0.0798 - val_acc: 0.3161\n",
            "Epoch 4/50\n",
            " - 3s - loss: 0.0785 - acc: 0.3369 - val_loss: 0.0783 - val_acc: 0.3361\n",
            "Epoch 5/50\n",
            " - 3s - loss: 0.0776 - acc: 0.3510 - val_loss: 0.0782 - val_acc: 0.3371\n",
            "Epoch 6/50\n",
            " - 3s - loss: 0.0768 - acc: 0.3600 - val_loss: 0.0784 - val_acc: 0.3367\n",
            "Epoch 7/50\n",
            " - 3s - loss: 0.0762 - acc: 0.3684 - val_loss: 0.0768 - val_acc: 0.3574\n",
            "Epoch 8/50\n",
            " - 3s - loss: 0.0757 - acc: 0.3740 - val_loss: 0.0772 - val_acc: 0.3547\n",
            "Epoch 9/50\n",
            " - 3s - loss: 0.0752 - acc: 0.3798 - val_loss: 0.0766 - val_acc: 0.3642\n",
            "Epoch 10/50\n",
            " - 3s - loss: 0.0747 - acc: 0.3839 - val_loss: 0.0754 - val_acc: 0.3734\n",
            "Epoch 11/50\n",
            " - 3s - loss: 0.0742 - acc: 0.3908 - val_loss: 0.0759 - val_acc: 0.3706\n",
            "Epoch 12/50\n",
            " - 3s - loss: 0.0737 - acc: 0.3958 - val_loss: 0.0750 - val_acc: 0.3794\n",
            "Epoch 13/50\n",
            " - 3s - loss: 0.0733 - acc: 0.4008 - val_loss: 0.0761 - val_acc: 0.3706\n",
            "Epoch 14/50\n",
            " - 3s - loss: 0.0730 - acc: 0.4051 - val_loss: 0.0765 - val_acc: 0.3682\n",
            "Epoch 15/50\n",
            " - 3s - loss: 0.0726 - acc: 0.4084 - val_loss: 0.0752 - val_acc: 0.3757\n",
            "Epoch 16/50\n",
            " - 3s - loss: 0.0725 - acc: 0.4102 - val_loss: 0.0757 - val_acc: 0.3767\n",
            "Epoch 17/50\n",
            " - 3s - loss: 0.0720 - acc: 0.4178 - val_loss: 0.0752 - val_acc: 0.3780\n",
            "Epoch 18/50\n",
            " - 3s - loss: 0.0716 - acc: 0.4217 - val_loss: 0.0761 - val_acc: 0.3712\n",
            "Epoch 19/50\n",
            " - 3s - loss: 0.0712 - acc: 0.4280 - val_loss: 0.0748 - val_acc: 0.3879\n",
            "Epoch 20/50\n",
            " - 3s - loss: 0.0710 - acc: 0.4274 - val_loss: 0.0761 - val_acc: 0.3766\n",
            "Epoch 21/50\n",
            " - 3s - loss: 0.0705 - acc: 0.4348 - val_loss: 0.0762 - val_acc: 0.3828\n",
            "Epoch 22/50\n",
            " - 3s - loss: 0.0703 - acc: 0.4353 - val_loss: 0.0754 - val_acc: 0.3780\n",
            "Epoch 23/50\n",
            " - 3s - loss: 0.0699 - acc: 0.4425 - val_loss: 0.0747 - val_acc: 0.3930\n",
            "Epoch 24/50\n",
            " - 3s - loss: 0.0695 - acc: 0.4450 - val_loss: 0.0756 - val_acc: 0.3856\n",
            "Epoch 25/50\n",
            " - 3s - loss: 0.0693 - acc: 0.4457 - val_loss: 0.0749 - val_acc: 0.3916\n",
            "Epoch 26/50\n",
            " - 3s - loss: 0.0689 - acc: 0.4494 - val_loss: 0.0766 - val_acc: 0.3740\n",
            "Epoch 27/50\n",
            " - 3s - loss: 0.0688 - acc: 0.4505 - val_loss: 0.0749 - val_acc: 0.3915\n",
            "Epoch 28/50\n",
            " - 3s - loss: 0.0684 - acc: 0.4556 - val_loss: 0.0762 - val_acc: 0.3769\n",
            "Epoch 29/50\n",
            " - 3s - loss: 0.0682 - acc: 0.4584 - val_loss: 0.0756 - val_acc: 0.3823\n",
            "Epoch 30/50\n",
            " - 3s - loss: 0.0679 - acc: 0.4611 - val_loss: 0.0762 - val_acc: 0.3813\n",
            "Epoch 31/50\n",
            " - 3s - loss: 0.0677 - acc: 0.4628 - val_loss: 0.0769 - val_acc: 0.3734\n",
            "Epoch 32/50\n",
            " - 3s - loss: 0.0674 - acc: 0.4677 - val_loss: 0.0756 - val_acc: 0.3893\n",
            "Epoch 33/50\n",
            " - 3s - loss: 0.0672 - acc: 0.4708 - val_loss: 0.0764 - val_acc: 0.3877\n",
            "Epoch 34/50\n",
            " - 3s - loss: 0.0668 - acc: 0.4718 - val_loss: 0.0764 - val_acc: 0.3894\n",
            "Epoch 35/50\n",
            " - 4s - loss: 0.0664 - acc: 0.4776 - val_loss: 0.0767 - val_acc: 0.3828\n",
            "Epoch 36/50\n",
            " - 3s - loss: 0.0662 - acc: 0.4778 - val_loss: 0.0761 - val_acc: 0.3876\n",
            "Epoch 37/50\n",
            " - 3s - loss: 0.0661 - acc: 0.4800 - val_loss: 0.0762 - val_acc: 0.3859\n",
            "Epoch 38/50\n",
            " - 3s - loss: 0.0659 - acc: 0.4808 - val_loss: 0.0767 - val_acc: 0.3868\n",
            "Epoch 39/50\n",
            " - 3s - loss: 0.0656 - acc: 0.4859 - val_loss: 0.0783 - val_acc: 0.3722\n",
            "Epoch 40/50\n",
            " - 3s - loss: 0.0652 - acc: 0.4897 - val_loss: 0.0774 - val_acc: 0.3846\n",
            "Epoch 41/50\n",
            " - 3s - loss: 0.0651 - acc: 0.4892 - val_loss: 0.0770 - val_acc: 0.3858\n",
            "Epoch 42/50\n",
            " - 3s - loss: 0.0649 - acc: 0.4928 - val_loss: 0.0777 - val_acc: 0.3766\n",
            "Epoch 43/50\n"
          ],
          "name": "stdout"
        }
      ]
    },
    {
      "cell_type": "code",
      "metadata": {
        "id": "kuQJUnuDmAEQ",
        "colab_type": "code",
        "colab": {}
      },
      "source": [
        "def plot_model_history(model_history):\n",
        "    fig, axs = plt.subplots(1,2,figsize=(15,5))\n",
        "    # summarize history for accuracy\n",
        "    axs[0].plot(range(1,len(model_history.history['acc'])+1),model_history.history['acc'])\n",
        "    axs[0].plot(range(1,len(model_history.history['val_acc'])+1),model_history.history['val_acc'])\n",
        "    axs[0].set_title('Model Accuracy')\n",
        "    axs[0].set_ylabel('Accuracy')\n",
        "    axs[0].set_xlabel('Epoch')\n",
        "    axs[0].set_xticks(np.arange(1,len(model_history.history['acc'])+1),len(model_history.history['acc'])/10)\n",
        "    axs[0].legend(['train', 'val'], loc='best')\n",
        "    # summarize history for loss\n",
        "    axs[1].plot(range(1,len(model_history.history['loss'])+1),model_history.history['loss'])\n",
        "    axs[1].plot(range(1,len(model_history.history['val_loss'])+1),model_history.history['val_loss'])\n",
        "    axs[1].set_title('Model Loss')\n",
        "    axs[1].set_ylabel('Loss')\n",
        "    axs[1].set_xlabel('Epoch')\n",
        "    axs[1].set_xticks(np.arange(1,len(model_history.history['loss'])+1),len(model_history.history['loss'])/10)\n",
        "    axs[1].legend(['train', 'val'], loc='best')\n",
        "    plt.show()"
      ],
      "execution_count": 0,
      "outputs": []
    },
    {
      "cell_type": "code",
      "metadata": {
        "id": "IPJUyK69mAEU",
        "colab_type": "code",
        "colab": {},
        "outputId": "2ba9e874-7c85-422b-9777-8006dc475c85"
      },
      "source": [
        "plot_model_history(model_info)"
      ],
      "execution_count": 0,
      "outputs": [
        {
          "output_type": "display_data",
          "data": {
            "image/png": "[encoded data removed]",
            "text/plain": [
              "<Figure size 1080x360 with 2 Axes>"
            ]
          },
          "metadata": {
            "tags": []
          }
        }
      ]
    },
    {
      "cell_type": "code",
      "metadata": {
        "id": "P4PeAtwqmAEZ",
        "colab_type": "code",
        "colab": {}
      },
      "source": [
        "def accuracy(test_x, test_y, model):\n",
        "    result = model.predict(test_x)\n",
        "    predicted_class = np.argmax(result, axis=1)\n",
        "    true_class = np.argmax(test_y, axis=1)\n",
        "    num_correct = np.sum(predicted_class == true_class) \n",
        "    accuracy = float(num_correct)/result.shape[0]\n",
        "    return (accuracy * 100)"
      ],
      "execution_count": 0,
      "outputs": []
    },
    {
      "cell_type": "code",
      "metadata": {
        "id": "WLA3TTjZmAEi",
        "colab_type": "code",
        "colab": {},
        "outputId": "7883d91a-27b3-426e-d67b-ca84ae75f4dc"
      },
      "source": [
        "print(\"Accuracy on test data is: %0.2f\"%accuracy(X_train, Y_train, model)\n",
        "     )"
      ],
      "execution_count": 0,
      "outputs": [
        {
          "output_type": "stream",
          "text": [
            "Accuracy on test data is: 49.45\n"
          ],
          "name": "stdout"
        }
      ]
    },
    {
      "cell_type": "code",
      "metadata": {
        "id": "tk40EJO_mAEn",
        "colab_type": "code",
        "colab": {}
      },
      "source": [
        ""
      ],
      "execution_count": 0,
      "outputs": []
    }
  ]
}