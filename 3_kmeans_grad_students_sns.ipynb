{
  "nbformat": 4,
  "nbformat_minor": 0,
  "metadata": {
    "colab": {
      "name": "3_kmeans_grad_students_sns.ipynb",
      "provenance": [],
      "include_colab_link": true
    },
    "language_info": {
      "codemirror_mode": {
        "name": "ipython",
        "version": 3
      },
      "file_extension": ".py",
      "mimetype": "text/x-python",
      "name": "python",
      "nbconvert_exporter": "python",
      "pygments_lexer": "ipython3",
      "version": "3.6.8"
    },
    "kernelspec": {
      "display_name": "Python 3",
      "language": "python",
      "name": "python3"
    }
  },
  "cells": [
    {
      "cell_type": "markdown",
      "metadata": {
        "id": "view-in-github",
        "colab_type": "text"
      },
      "source": [
        "<a href=\"https://colab.research.google.com/github/shipra-saxena/miniature-potato/blob/master/3_kmeans_grad_students_sns.ipynb\" target=\"_parent\"><img src=\"https://colab.research.google.com/assets/colab-badge.svg\" alt=\"Open In Colab\"/></a>"
      ]
    },
    {
      "cell_type": "code",
      "metadata": {
        "id": "yCWg2Awc0cXZ",
        "colab_type": "code",
        "colab": {}
      },
      "source": [
        "# Python ≥3.5 is required\n",
        "import sys\n",
        "assert sys.version_info >= (3, 5)\n",
        "\n",
        "# Scikit-Learn ≥0.19 is required\n",
        "import sklearn\n",
        "assert sklearn.__version__ >= \"0.19\"\n",
        "\n",
        "# Common imports\n",
        "import numpy as np\n",
        "import os\n",
        "\n",
        "# to make this notebook's output stable across runs\n",
        "np.random.seed(42)\n",
        "\n",
        "# To plot pretty figures\n",
        "%matplotlib inline\n",
        "import matplotlib as mpl\n",
        "import matplotlib.pyplot as plt\n",
        "mpl.rc('axes', labelsize=14)\n",
        "mpl.rc('xtick', labelsize=12)\n",
        "mpl.rc('ytick', labelsize=12)\n",
        "\n",
        "# Where to save the figures\n",
        "PROJECT_ROOT_DIR = \".\"\n",
        "CHAPTER_ID = \"unsupervised_learning\"\n",
        "IMAGES_PATH = os.path.join(PROJECT_ROOT_DIR, \"images\", CHAPTER_ID)\n",
        "os.makedirs(IMAGES_PATH, exist_ok=True)\n",
        "\n",
        "def save_fig(fig_id, tight_layout=True, fig_extension=\"png\", resolution=300):\n",
        "    path = os.path.join(IMAGES_PATH, fig_id + \".\" + fig_extension)\n",
        "    print(\"Saving figure\", fig_id)\n",
        "    if tight_layout:\n",
        "        plt.tight_layout()\n",
        "    plt.savefig(path, format=fig_extension, dpi=resolution)\n",
        "\n",
        "# Ignore useless warnings (see SciPy issue #5998)\n",
        "import warnings\n",
        "warnings.filterwarnings(action=\"ignore\", message=\"^internal gelsd\")"
      ],
      "execution_count": 0,
      "outputs": []
    },
    {
      "cell_type": "markdown",
      "metadata": {
        "id": "2FtWUeDH0cXf",
        "colab_type": "text"
      },
      "source": [
        "# Clustering"
      ]
    },
    {
      "cell_type": "markdown",
      "metadata": {
        "id": "0whMXsUP0cXg",
        "colab_type": "text"
      },
      "source": [
        "### 1. Import data and understand by statistical analysis"
      ]
    },
    {
      "cell_type": "code",
      "metadata": {
        "id": "UYgsjMVK0cXh",
        "colab_type": "code",
        "outputId": "d292e65f-db66-40d9-d0e4-cd2a2c910b3a",
        "colab": {
          "base_uri": "https://localhost:8080/",
          "height": 408
        }
      },
      "source": [
        "import pandas as pd\n",
        "# load the CSV file as a dataframe\n",
        "input_file = \"snsdata.csv\"\n",
        "\n",
        "# comma delimited is the default\n",
        "df = pd.read_csv(input_file, header = 0, delimiter = \",\")"
      ],
      "execution_count": 0,
      "outputs": [
        {
          "output_type": "error",
          "ename": "FileNotFoundError",
          "evalue": "ignored",
          "traceback": [
            "\u001b[0;31m---------------------------------------------------------------------------\u001b[0m",
            "\u001b[0;31mFileNotFoundError\u001b[0m                         Traceback (most recent call last)",
            "\u001b[0;32m<ipython-input-2-f0d8b3365d5e>\u001b[0m in \u001b[0;36m<module>\u001b[0;34m()\u001b[0m\n\u001b[1;32m      4\u001b[0m \u001b[0;34m\u001b[0m\u001b[0m\n\u001b[1;32m      5\u001b[0m \u001b[0;31m# comma delimited is the default\u001b[0m\u001b[0;34m\u001b[0m\u001b[0;34m\u001b[0m\u001b[0;34m\u001b[0m\u001b[0m\n\u001b[0;32m----> 6\u001b[0;31m \u001b[0mdf\u001b[0m \u001b[0;34m=\u001b[0m \u001b[0mpd\u001b[0m\u001b[0;34m.\u001b[0m\u001b[0mread_csv\u001b[0m\u001b[0;34m(\u001b[0m\u001b[0minput_file\u001b[0m\u001b[0;34m,\u001b[0m \u001b[0mheader\u001b[0m \u001b[0;34m=\u001b[0m \u001b[0;36m0\u001b[0m\u001b[0;34m,\u001b[0m \u001b[0mdelimiter\u001b[0m \u001b[0;34m=\u001b[0m \u001b[0;34m\",\"\u001b[0m\u001b[0;34m)\u001b[0m\u001b[0;34m\u001b[0m\u001b[0;34m\u001b[0m\u001b[0m\n\u001b[0m",
            "\u001b[0;32m/usr/local/lib/python3.6/dist-packages/pandas/io/parsers.py\u001b[0m in \u001b[0;36mparser_f\u001b[0;34m(filepath_or_buffer, sep, delimiter, header, names, index_col, usecols, squeeze, prefix, mangle_dupe_cols, dtype, engine, converters, true_values, false_values, skipinitialspace, skiprows, skipfooter, nrows, na_values, keep_default_na, na_filter, verbose, skip_blank_lines, parse_dates, infer_datetime_format, keep_date_col, date_parser, dayfirst, iterator, chunksize, compression, thousands, decimal, lineterminator, quotechar, quoting, doublequote, escapechar, comment, encoding, dialect, tupleize_cols, error_bad_lines, warn_bad_lines, delim_whitespace, low_memory, memory_map, float_precision)\u001b[0m\n\u001b[1;32m    700\u001b[0m                     skip_blank_lines=skip_blank_lines)\n\u001b[1;32m    701\u001b[0m \u001b[0;34m\u001b[0m\u001b[0m\n\u001b[0;32m--> 702\u001b[0;31m         \u001b[0;32mreturn\u001b[0m \u001b[0m_read\u001b[0m\u001b[0;34m(\u001b[0m\u001b[0mfilepath_or_buffer\u001b[0m\u001b[0;34m,\u001b[0m \u001b[0mkwds\u001b[0m\u001b[0;34m)\u001b[0m\u001b[0;34m\u001b[0m\u001b[0;34m\u001b[0m\u001b[0m\n\u001b[0m\u001b[1;32m    703\u001b[0m \u001b[0;34m\u001b[0m\u001b[0m\n\u001b[1;32m    704\u001b[0m     \u001b[0mparser_f\u001b[0m\u001b[0;34m.\u001b[0m\u001b[0m__name__\u001b[0m \u001b[0;34m=\u001b[0m \u001b[0mname\u001b[0m\u001b[0;34m\u001b[0m\u001b[0;34m\u001b[0m\u001b[0m\n",
            "\u001b[0;32m/usr/local/lib/python3.6/dist-packages/pandas/io/parsers.py\u001b[0m in \u001b[0;36m_read\u001b[0;34m(filepath_or_buffer, kwds)\u001b[0m\n\u001b[1;32m    427\u001b[0m \u001b[0;34m\u001b[0m\u001b[0m\n\u001b[1;32m    428\u001b[0m     \u001b[0;31m# Create the parser.\u001b[0m\u001b[0;34m\u001b[0m\u001b[0;34m\u001b[0m\u001b[0;34m\u001b[0m\u001b[0m\n\u001b[0;32m--> 429\u001b[0;31m     \u001b[0mparser\u001b[0m \u001b[0;34m=\u001b[0m \u001b[0mTextFileReader\u001b[0m\u001b[0;34m(\u001b[0m\u001b[0mfilepath_or_buffer\u001b[0m\u001b[0;34m,\u001b[0m \u001b[0;34m**\u001b[0m\u001b[0mkwds\u001b[0m\u001b[0;34m)\u001b[0m\u001b[0;34m\u001b[0m\u001b[0;34m\u001b[0m\u001b[0m\n\u001b[0m\u001b[1;32m    430\u001b[0m \u001b[0;34m\u001b[0m\u001b[0m\n\u001b[1;32m    431\u001b[0m     \u001b[0;32mif\u001b[0m \u001b[0mchunksize\u001b[0m \u001b[0;32mor\u001b[0m \u001b[0miterator\u001b[0m\u001b[0;34m:\u001b[0m\u001b[0;34m\u001b[0m\u001b[0;34m\u001b[0m\u001b[0m\n",
            "\u001b[0;32m/usr/local/lib/python3.6/dist-packages/pandas/io/parsers.py\u001b[0m in \u001b[0;36m__init__\u001b[0;34m(self, f, engine, **kwds)\u001b[0m\n\u001b[1;32m    893\u001b[0m             \u001b[0mself\u001b[0m\u001b[0;34m.\u001b[0m\u001b[0moptions\u001b[0m\u001b[0;34m[\u001b[0m\u001b[0;34m'has_index_names'\u001b[0m\u001b[0;34m]\u001b[0m \u001b[0;34m=\u001b[0m \u001b[0mkwds\u001b[0m\u001b[0;34m[\u001b[0m\u001b[0;34m'has_index_names'\u001b[0m\u001b[0;34m]\u001b[0m\u001b[0;34m\u001b[0m\u001b[0;34m\u001b[0m\u001b[0m\n\u001b[1;32m    894\u001b[0m \u001b[0;34m\u001b[0m\u001b[0m\n\u001b[0;32m--> 895\u001b[0;31m         \u001b[0mself\u001b[0m\u001b[0;34m.\u001b[0m\u001b[0m_make_engine\u001b[0m\u001b[0;34m(\u001b[0m\u001b[0mself\u001b[0m\u001b[0;34m.\u001b[0m\u001b[0mengine\u001b[0m\u001b[0;34m)\u001b[0m\u001b[0;34m\u001b[0m\u001b[0;34m\u001b[0m\u001b[0m\n\u001b[0m\u001b[1;32m    896\u001b[0m \u001b[0;34m\u001b[0m\u001b[0m\n\u001b[1;32m    897\u001b[0m     \u001b[0;32mdef\u001b[0m \u001b[0mclose\u001b[0m\u001b[0;34m(\u001b[0m\u001b[0mself\u001b[0m\u001b[0;34m)\u001b[0m\u001b[0;34m:\u001b[0m\u001b[0;34m\u001b[0m\u001b[0;34m\u001b[0m\u001b[0m\n",
            "\u001b[0;32m/usr/local/lib/python3.6/dist-packages/pandas/io/parsers.py\u001b[0m in \u001b[0;36m_make_engine\u001b[0;34m(self, engine)\u001b[0m\n\u001b[1;32m   1120\u001b[0m     \u001b[0;32mdef\u001b[0m \u001b[0m_make_engine\u001b[0m\u001b[0;34m(\u001b[0m\u001b[0mself\u001b[0m\u001b[0;34m,\u001b[0m \u001b[0mengine\u001b[0m\u001b[0;34m=\u001b[0m\u001b[0;34m'c'\u001b[0m\u001b[0;34m)\u001b[0m\u001b[0;34m:\u001b[0m\u001b[0;34m\u001b[0m\u001b[0;34m\u001b[0m\u001b[0m\n\u001b[1;32m   1121\u001b[0m         \u001b[0;32mif\u001b[0m \u001b[0mengine\u001b[0m \u001b[0;34m==\u001b[0m \u001b[0;34m'c'\u001b[0m\u001b[0;34m:\u001b[0m\u001b[0;34m\u001b[0m\u001b[0;34m\u001b[0m\u001b[0m\n\u001b[0;32m-> 1122\u001b[0;31m             \u001b[0mself\u001b[0m\u001b[0;34m.\u001b[0m\u001b[0m_engine\u001b[0m \u001b[0;34m=\u001b[0m \u001b[0mCParserWrapper\u001b[0m\u001b[0;34m(\u001b[0m\u001b[0mself\u001b[0m\u001b[0;34m.\u001b[0m\u001b[0mf\u001b[0m\u001b[0;34m,\u001b[0m \u001b[0;34m**\u001b[0m\u001b[0mself\u001b[0m\u001b[0;34m.\u001b[0m\u001b[0moptions\u001b[0m\u001b[0;34m)\u001b[0m\u001b[0;34m\u001b[0m\u001b[0;34m\u001b[0m\u001b[0m\n\u001b[0m\u001b[1;32m   1123\u001b[0m         \u001b[0;32melse\u001b[0m\u001b[0;34m:\u001b[0m\u001b[0;34m\u001b[0m\u001b[0;34m\u001b[0m\u001b[0m\n\u001b[1;32m   1124\u001b[0m             \u001b[0;32mif\u001b[0m \u001b[0mengine\u001b[0m \u001b[0;34m==\u001b[0m \u001b[0;34m'python'\u001b[0m\u001b[0;34m:\u001b[0m\u001b[0;34m\u001b[0m\u001b[0;34m\u001b[0m\u001b[0m\n",
            "\u001b[0;32m/usr/local/lib/python3.6/dist-packages/pandas/io/parsers.py\u001b[0m in \u001b[0;36m__init__\u001b[0;34m(self, src, **kwds)\u001b[0m\n\u001b[1;32m   1851\u001b[0m         \u001b[0mkwds\u001b[0m\u001b[0;34m[\u001b[0m\u001b[0;34m'usecols'\u001b[0m\u001b[0;34m]\u001b[0m \u001b[0;34m=\u001b[0m \u001b[0mself\u001b[0m\u001b[0;34m.\u001b[0m\u001b[0musecols\u001b[0m\u001b[0;34m\u001b[0m\u001b[0;34m\u001b[0m\u001b[0m\n\u001b[1;32m   1852\u001b[0m \u001b[0;34m\u001b[0m\u001b[0m\n\u001b[0;32m-> 1853\u001b[0;31m         \u001b[0mself\u001b[0m\u001b[0;34m.\u001b[0m\u001b[0m_reader\u001b[0m \u001b[0;34m=\u001b[0m \u001b[0mparsers\u001b[0m\u001b[0;34m.\u001b[0m\u001b[0mTextReader\u001b[0m\u001b[0;34m(\u001b[0m\u001b[0msrc\u001b[0m\u001b[0;34m,\u001b[0m \u001b[0;34m**\u001b[0m\u001b[0mkwds\u001b[0m\u001b[0;34m)\u001b[0m\u001b[0;34m\u001b[0m\u001b[0;34m\u001b[0m\u001b[0m\n\u001b[0m\u001b[1;32m   1854\u001b[0m         \u001b[0mself\u001b[0m\u001b[0;34m.\u001b[0m\u001b[0munnamed_cols\u001b[0m \u001b[0;34m=\u001b[0m \u001b[0mself\u001b[0m\u001b[0;34m.\u001b[0m\u001b[0m_reader\u001b[0m\u001b[0;34m.\u001b[0m\u001b[0munnamed_cols\u001b[0m\u001b[0;34m\u001b[0m\u001b[0;34m\u001b[0m\u001b[0m\n\u001b[1;32m   1855\u001b[0m \u001b[0;34m\u001b[0m\u001b[0m\n",
            "\u001b[0;32mpandas/_libs/parsers.pyx\u001b[0m in \u001b[0;36mpandas._libs.parsers.TextReader.__cinit__\u001b[0;34m()\u001b[0m\n",
            "\u001b[0;32mpandas/_libs/parsers.pyx\u001b[0m in \u001b[0;36mpandas._libs.parsers.TextReader._setup_parser_source\u001b[0;34m()\u001b[0m\n",
            "\u001b[0;31mFileNotFoundError\u001b[0m: [Errno 2] File b'snsdata.csv' does not exist: b'snsdata.csv'"
          ]
        }
      ]
    },
    {
      "cell_type": "code",
      "metadata": {
        "id": "AOmqNJjS0cXm",
        "colab_type": "code",
        "outputId": "d84b0d15-fa0d-4313-beef-23a1665c952d",
        "colab": {}
      },
      "source": [
        "# Get the number of rows and columns\n",
        "df.shape"
      ],
      "execution_count": 0,
      "outputs": [
        {
          "output_type": "execute_result",
          "data": {
            "text/plain": [
              "(30000, 40)"
            ]
          },
          "metadata": {
            "tags": []
          },
          "execution_count": 5
        }
      ]
    },
    {
      "cell_type": "code",
      "metadata": {
        "id": "WaGWUthp0cXu",
        "colab_type": "code",
        "colab": {}
      },
      "source": [
        "# put the original column names in a python list\n",
        "attr_names = list(df.columns.values)\n",
        "#attr_names"
      ],
      "execution_count": 0,
      "outputs": []
    },
    {
      "cell_type": "code",
      "metadata": {
        "id": "74dIUSCe0cXy",
        "colab_type": "code",
        "colab": {}
      },
      "source": [
        "#df['gradyear']"
      ],
      "execution_count": 0,
      "outputs": []
    },
    {
      "cell_type": "code",
      "metadata": {
        "scrolled": true,
        "id": "_eEBSx8l0cX2",
        "colab_type": "code",
        "colab": {}
      },
      "source": [
        "# Get the summary statistics of the dataset\n",
        "#df.describe()"
      ],
      "execution_count": 0,
      "outputs": []
    },
    {
      "cell_type": "markdown",
      "metadata": {
        "id": "hUhK_If10cX7",
        "colab_type": "text"
      },
      "source": [
        "### 2. Preprocessing the data - Data imputation"
      ]
    },
    {
      "cell_type": "markdown",
      "metadata": {
        "id": "leSz1M1L0cX8",
        "colab_type": "text"
      },
      "source": [
        "#### 2. 1 Check for the column having missing/inappropriate values"
      ]
    },
    {
      "cell_type": "code",
      "metadata": {
        "id": "5sACjhX20cX9",
        "colab_type": "code",
        "outputId": "b63a1a32-c986-4f2e-8f50-307edf06670f",
        "colab": {}
      },
      "source": [
        "# check for the presence of missing values in any of the columns\n",
        "df.columns[df.isnull().any()]"
      ],
      "execution_count": 0,
      "outputs": [
        {
          "output_type": "execute_result",
          "data": {
            "text/plain": [
              "Index(['gender', 'age'], dtype='object')"
            ]
          },
          "metadata": {
            "tags": []
          },
          "execution_count": 8
        }
      ]
    },
    {
      "cell_type": "code",
      "metadata": {
        "id": "bJVrYXY-0cYE",
        "colab_type": "code",
        "colab": {}
      },
      "source": [
        "# How many missing values in each column?\n",
        "#df.isnull().sum()"
      ],
      "execution_count": 0,
      "outputs": []
    },
    {
      "cell_type": "code",
      "metadata": {
        "id": "DPoc3Gf00cYM",
        "colab_type": "code",
        "colab": {}
      },
      "source": [
        "# Check for outliers - Use box plots\n",
        "import seaborn as sns\n",
        "#sns.boxplot(x=df['age'])"
      ],
      "execution_count": 0,
      "outputs": []
    },
    {
      "cell_type": "code",
      "metadata": {
        "id": "NeB7xQgU0cYQ",
        "colab_type": "code",
        "outputId": "322fc3c2-87ec-499a-a6b3-0136abed5aab",
        "colab": {}
      },
      "source": [
        "df['age'].plot.hist(\n",
        "  bins = 100,\n",
        "  title = \"Histogram of the age variable\"\n",
        ")"
      ],
      "execution_count": 0,
      "outputs": [
        {
          "output_type": "execute_result",
          "data": {
            "text/plain": [
              "<matplotlib.axes._subplots.AxesSubplot at 0x1fa54583c88>"
            ]
          },
          "metadata": {
            "tags": []
          },
          "execution_count": 11
        },
        {
          "output_type": "display_data",
          "data": {
            "image/png": "[encoded data removed]",
            "text/plain": [
              "<Figure size 432x288 with 1 Axes>"
            ]
          },
          "metadata": {
            "tags": [],
            "needs_background": "light"
          }
        }
      ]
    },
    {
      "cell_type": "code",
      "metadata": {
        "id": "mJhjaPRY0cYV",
        "colab_type": "code",
        "outputId": "fc646f83-3fc7-4143-84a1-5f96b545389c",
        "colab": {}
      },
      "source": [
        "plt.figure(figsize=(15,8))\n",
        "sns.distplot(df.age, bins =30)"
      ],
      "execution_count": 0,
      "outputs": [
        {
          "output_type": "stream",
          "text": [
            "C:\\Users\\lavet\\Anaconda3\\lib\\site-packages\\numpy\\lib\\histograms.py:754: RuntimeWarning: invalid value encountered in greater_equal\n",
            "  keep = (tmp_a >= first_edge)\n",
            "C:\\Users\\lavet\\Anaconda3\\lib\\site-packages\\numpy\\lib\\histograms.py:755: RuntimeWarning: invalid value encountered in less_equal\n",
            "  keep &= (tmp_a <= last_edge)\n",
            "C:\\Users\\lavet\\Anaconda3\\lib\\site-packages\\statsmodels\\nonparametric\\kde.py:448: RuntimeWarning: invalid value encountered in greater\n",
            "  X = X[np.logical_and(X > clip[0], X < clip[1])] # won't work for two columns.\n",
            "C:\\Users\\lavet\\Anaconda3\\lib\\site-packages\\statsmodels\\nonparametric\\kde.py:448: RuntimeWarning: invalid value encountered in less\n",
            "  X = X[np.logical_and(X > clip[0], X < clip[1])] # won't work for two columns.\n"
          ],
          "name": "stderr"
        },
        {
          "output_type": "execute_result",
          "data": {
            "text/plain": [
              "<matplotlib.axes._subplots.AxesSubplot at 0x1fa54919f28>"
            ]
          },
          "metadata": {
            "tags": []
          },
          "execution_count": 12
        },
        {
          "output_type": "display_data",
          "data": {
            "image/png": "[encoded data removed]",
            "text/plain": [
              "<Figure size 1080x576 with 1 Axes>"
            ]
          },
          "metadata": {
            "tags": [],
            "needs_background": "light"
          }
        }
      ]
    },
    {
      "cell_type": "code",
      "metadata": {
        "id": "iTsSEnAa0cYa",
        "colab_type": "code",
        "outputId": "0368cf5a-746f-4a68-8b63-34c53c166d84",
        "colab": {}
      },
      "source": [
        "total = df.isnull().sum().sort_values(ascending=False)\n",
        "percent = (df.isnull().sum()/df.isnull().count()).sort_values(ascending=False)\n",
        "missing_data = pd.concat([total, percent], axis=1, keys=['Total', 'Percent'])\n",
        "f, ax = plt.subplots(figsize=(15, 6))\n",
        "plt.xticks(rotation='90')\n",
        "sns.barplot(x=missing_data.index, y=missing_data['Percent'])\n",
        "plt.xlabel('Features', fontsize=15)\n",
        "plt.ylabel('Percent of missing values', fontsize=15)\n",
        "plt.title('Percent missing data by feature', fontsize=15)\n",
        "missing_data.head()"
      ],
      "execution_count": 0,
      "outputs": [
        {
          "output_type": "execute_result",
          "data": {
            "text/html": [
              "<div>\n",
              "<style scoped>\n",
              "    .dataframe tbody tr th:only-of-type {\n",
              "        vertical-align: middle;\n",
              "    }\n",
              "\n",
              "    .dataframe tbody tr th {\n",
              "        vertical-align: top;\n",
              "    }\n",
              "\n",
              "    .dataframe thead th {\n",
              "        text-align: right;\n",
              "    }\n",
              "</style>\n",
              "<table border=\"1\" class=\"dataframe\">\n",
              "  <thead>\n",
              "    <tr style=\"text-align: right;\">\n",
              "      <th></th>\n",
              "      <th>Total</th>\n",
              "      <th>Percent</th>\n",
              "    </tr>\n",
              "  </thead>\n",
              "  <tbody>\n",
              "    <tr>\n",
              "      <th>age</th>\n",
              "      <td>5086</td>\n",
              "      <td>0.169533</td>\n",
              "    </tr>\n",
              "    <tr>\n",
              "      <th>gender</th>\n",
              "      <td>2724</td>\n",
              "      <td>0.090800</td>\n",
              "    </tr>\n",
              "    <tr>\n",
              "      <th>drugs</th>\n",
              "      <td>0</td>\n",
              "      <td>0.000000</td>\n",
              "    </tr>\n",
              "    <tr>\n",
              "      <th>cheerleading</th>\n",
              "      <td>0</td>\n",
              "      <td>0.000000</td>\n",
              "    </tr>\n",
              "    <tr>\n",
              "      <th>hot</th>\n",
              "      <td>0</td>\n",
              "      <td>0.000000</td>\n",
              "    </tr>\n",
              "  </tbody>\n",
              "</table>\n",
              "</div>"
            ],
            "text/plain": [
              "              Total   Percent\n",
              "age            5086  0.169533\n",
              "gender         2724  0.090800\n",
              "drugs             0  0.000000\n",
              "cheerleading      0  0.000000\n",
              "hot               0  0.000000"
            ]
          },
          "metadata": {
            "tags": []
          },
          "execution_count": 13
        },
        {
          "output_type": "display_data",
          "data": {
            "image/png": "[encoded data removed]",
            "text/plain": [
              "<Figure size 1080x432 with 1 Axes>"
            ]
          },
          "metadata": {
            "tags": [],
            "needs_background": "light"
          }
        }
      ]
    },
    {
      "cell_type": "markdown",
      "metadata": {
        "id": "l8Sywqww0cZA",
        "colab_type": "text"
      },
      "source": [
        "#### 2.3 Remove unnecessary columns, which we should not use in clustering"
      ]
    },
    {
      "cell_type": "code",
      "metadata": {
        "id": "qArmeE2I0cZD",
        "colab_type": "code",
        "outputId": "dcea249b-3b49-42d6-85f2-f33a38050ab1",
        "colab": {}
      },
      "source": [
        "df.columns"
      ],
      "execution_count": 0,
      "outputs": [
        {
          "output_type": "execute_result",
          "data": {
            "text/plain": [
              "Index(['gradyear', 'gender', 'age', 'friends', 'basketball', 'football',\n",
              "       'soccer', 'softball', 'volleyball', 'swimming', 'cheerleading',\n",
              "       'baseball', 'tennis', 'sports', 'cute', 'sex', 'sexy', 'hot', 'kissed',\n",
              "       'dance', 'band', 'marching', 'music', 'rock', 'god', 'church', 'jesus',\n",
              "       'bible', 'hair', 'dress', 'blonde', 'mall', 'shopping', 'clothes',\n",
              "       'hollister', 'abercrombie', 'die', 'death', 'drunk', 'drugs'],\n",
              "      dtype='object')"
            ]
          },
          "metadata": {
            "tags": []
          },
          "execution_count": 17
        }
      ]
    },
    {
      "cell_type": "code",
      "metadata": {
        "id": "ZQS9DCH40cZJ",
        "colab_type": "code",
        "colab": {}
      },
      "source": [
        "df = df.drop(['gradyear', 'gender', 'age'], axis=1)"
      ],
      "execution_count": 0,
      "outputs": []
    },
    {
      "cell_type": "code",
      "metadata": {
        "id": "uHULBhWt0cZR",
        "colab_type": "code",
        "colab": {}
      },
      "source": [
        "# Keep the copy of original data frame\n",
        "df_orig = df"
      ],
      "execution_count": 0,
      "outputs": []
    },
    {
      "cell_type": "markdown",
      "metadata": {
        "id": "Vvb9FTUV0cZU",
        "colab_type": "text"
      },
      "source": [
        "#### 2.4 Normalize the data"
      ]
    },
    {
      "cell_type": "code",
      "metadata": {
        "id": "Emg6IGDm0cZV",
        "colab_type": "code",
        "colab": {}
      },
      "source": [
        "def standardization(dataset):\n",
        "    \"\"\" Standardization of numeric fields, where all values will have mean of zero \n",
        "    and standard deviation of one. (z-score)\n",
        "    \n",
        "    Args:\n",
        "    dataset: A `Pandas.Dataframe` \n",
        "    \"\"\"\n",
        "    dtypes = list(zip(dataset.dtypes.index, map(str, dataset.dtypes)))\n",
        "    #print(dtypes)\n",
        "    # Normalize numeric columns.\n",
        "    for column, dtype in dtypes:\n",
        "        #if dtype == 'float32':\n",
        "        dataset[column] -= dataset[column].mean()\n",
        "        dataset[column] /= dataset[column].std()\n",
        "    return dataset\n",
        "df = standardization(df_orig)"
      ],
      "execution_count": 0,
      "outputs": []
    },
    {
      "cell_type": "code",
      "metadata": {
        "id": "DS8FPULH0cZb",
        "colab_type": "code",
        "outputId": "916c904d-e22c-48ab-d009-821b96879c9e",
        "colab": {}
      },
      "source": [
        "df.head()"
      ],
      "execution_count": 0,
      "outputs": [
        {
          "output_type": "execute_result",
          "data": {
            "text/html": [
              "<div>\n",
              "<style scoped>\n",
              "    .dataframe tbody tr th:only-of-type {\n",
              "        vertical-align: middle;\n",
              "    }\n",
              "\n",
              "    .dataframe tbody tr th {\n",
              "        vertical-align: top;\n",
              "    }\n",
              "\n",
              "    .dataframe thead th {\n",
              "        text-align: right;\n",
              "    }\n",
              "</style>\n",
              "<table border=\"1\" class=\"dataframe\">\n",
              "  <thead>\n",
              "    <tr style=\"text-align: right;\">\n",
              "      <th></th>\n",
              "      <th>friends</th>\n",
              "      <th>basketball</th>\n",
              "      <th>football</th>\n",
              "      <th>soccer</th>\n",
              "      <th>softball</th>\n",
              "      <th>volleyball</th>\n",
              "      <th>swimming</th>\n",
              "      <th>cheerleading</th>\n",
              "      <th>baseball</th>\n",
              "      <th>tennis</th>\n",
              "      <th>...</th>\n",
              "      <th>blonde</th>\n",
              "      <th>mall</th>\n",
              "      <th>shopping</th>\n",
              "      <th>clothes</th>\n",
              "      <th>hollister</th>\n",
              "      <th>abercrombie</th>\n",
              "      <th>die</th>\n",
              "      <th>death</th>\n",
              "      <th>drunk</th>\n",
              "      <th>drugs</th>\n",
              "    </tr>\n",
              "  </thead>\n",
              "  <tbody>\n",
              "    <tr>\n",
              "      <th>0</th>\n",
              "      <td>-0.643453</td>\n",
              "      <td>-0.338533</td>\n",
              "      <td>-0.365324</td>\n",
              "      <td>-0.245781</td>\n",
              "      <td>-0.222231</td>\n",
              "      <td>-0.224703</td>\n",
              "      <td>-0.263238</td>\n",
              "      <td>-0.209202</td>\n",
              "      <td>-0.204944</td>\n",
              "      <td>-0.170849</td>\n",
              "      <td>...</td>\n",
              "      <td>-0.05055</td>\n",
              "      <td>-0.373074</td>\n",
              "      <td>-0.495173</td>\n",
              "      <td>-0.318116</td>\n",
              "      <td>-0.201667</td>\n",
              "      <td>-0.184862</td>\n",
              "      <td>-0.304318</td>\n",
              "      <td>-0.264517</td>\n",
              "      <td>-0.223601</td>\n",
              "      <td>-0.177765</td>\n",
              "    </tr>\n",
              "    <tr>\n",
              "      <th>1</th>\n",
              "      <td>-0.834445</td>\n",
              "      <td>-0.338533</td>\n",
              "      <td>1.025018</td>\n",
              "      <td>-0.245781</td>\n",
              "      <td>-0.222231</td>\n",
              "      <td>-0.224703</td>\n",
              "      <td>-0.263238</td>\n",
              "      <td>-0.209202</td>\n",
              "      <td>-0.204944</td>\n",
              "      <td>-0.170849</td>\n",
              "      <td>...</td>\n",
              "      <td>-0.05055</td>\n",
              "      <td>1.053530</td>\n",
              "      <td>-0.495173</td>\n",
              "      <td>-0.318116</td>\n",
              "      <td>-0.201667</td>\n",
              "      <td>-0.184862</td>\n",
              "      <td>-0.304318</td>\n",
              "      <td>-0.264517</td>\n",
              "      <td>-0.223601</td>\n",
              "      <td>-0.177765</td>\n",
              "    </tr>\n",
              "    <tr>\n",
              "      <th>2</th>\n",
              "      <td>1.048195</td>\n",
              "      <td>-0.338533</td>\n",
              "      <td>1.025018</td>\n",
              "      <td>-0.245781</td>\n",
              "      <td>-0.222231</td>\n",
              "      <td>-0.224703</td>\n",
              "      <td>-0.263238</td>\n",
              "      <td>-0.209202</td>\n",
              "      <td>-0.204944</td>\n",
              "      <td>-0.170849</td>\n",
              "      <td>...</td>\n",
              "      <td>-0.05055</td>\n",
              "      <td>-0.373074</td>\n",
              "      <td>-0.495173</td>\n",
              "      <td>-0.318116</td>\n",
              "      <td>-0.201667</td>\n",
              "      <td>-0.184862</td>\n",
              "      <td>-0.304318</td>\n",
              "      <td>1.965769</td>\n",
              "      <td>-0.223601</td>\n",
              "      <td>-0.177765</td>\n",
              "    </tr>\n",
              "    <tr>\n",
              "      <th>3</th>\n",
              "      <td>-0.834445</td>\n",
              "      <td>-0.338533</td>\n",
              "      <td>-0.365324</td>\n",
              "      <td>-0.245781</td>\n",
              "      <td>-0.222231</td>\n",
              "      <td>-0.224703</td>\n",
              "      <td>-0.263238</td>\n",
              "      <td>-0.209202</td>\n",
              "      <td>-0.204944</td>\n",
              "      <td>-0.170849</td>\n",
              "      <td>...</td>\n",
              "      <td>-0.05055</td>\n",
              "      <td>-0.373074</td>\n",
              "      <td>-0.495173</td>\n",
              "      <td>-0.318116</td>\n",
              "      <td>-0.201667</td>\n",
              "      <td>-0.184862</td>\n",
              "      <td>-0.304318</td>\n",
              "      <td>-0.264517</td>\n",
              "      <td>-0.223601</td>\n",
              "      <td>-0.177765</td>\n",
              "    </tr>\n",
              "    <tr>\n",
              "      <th>5</th>\n",
              "      <td>3.039972</td>\n",
              "      <td>-0.338533</td>\n",
              "      <td>-0.365324</td>\n",
              "      <td>-0.245781</td>\n",
              "      <td>-0.222231</td>\n",
              "      <td>-0.224703</td>\n",
              "      <td>-0.263238</td>\n",
              "      <td>-0.209202</td>\n",
              "      <td>-0.204944</td>\n",
              "      <td>-0.170849</td>\n",
              "      <td>...</td>\n",
              "      <td>-0.05055</td>\n",
              "      <td>-0.373074</td>\n",
              "      <td>0.869380</td>\n",
              "      <td>-0.318116</td>\n",
              "      <td>-0.201667</td>\n",
              "      <td>-0.184862</td>\n",
              "      <td>-0.304318</td>\n",
              "      <td>-0.264517</td>\n",
              "      <td>2.244607</td>\n",
              "      <td>-0.177765</td>\n",
              "    </tr>\n",
              "  </tbody>\n",
              "</table>\n",
              "<p>5 rows × 37 columns</p>\n",
              "</div>"
            ],
            "text/plain": [
              "    friends  basketball  football    soccer  softball  volleyball  swimming  \\\n",
              "0 -0.643453   -0.338533 -0.365324 -0.245781 -0.222231   -0.224703 -0.263238   \n",
              "1 -0.834445   -0.338533  1.025018 -0.245781 -0.222231   -0.224703 -0.263238   \n",
              "2  1.048195   -0.338533  1.025018 -0.245781 -0.222231   -0.224703 -0.263238   \n",
              "3 -0.834445   -0.338533 -0.365324 -0.245781 -0.222231   -0.224703 -0.263238   \n",
              "5  3.039972   -0.338533 -0.365324 -0.245781 -0.222231   -0.224703 -0.263238   \n",
              "\n",
              "   cheerleading  baseball    tennis  ...   blonde      mall  shopping  \\\n",
              "0     -0.209202 -0.204944 -0.170849  ... -0.05055 -0.373074 -0.495173   \n",
              "1     -0.209202 -0.204944 -0.170849  ... -0.05055  1.053530 -0.495173   \n",
              "2     -0.209202 -0.204944 -0.170849  ... -0.05055 -0.373074 -0.495173   \n",
              "3     -0.209202 -0.204944 -0.170849  ... -0.05055 -0.373074 -0.495173   \n",
              "5     -0.209202 -0.204944 -0.170849  ... -0.05055 -0.373074  0.869380   \n",
              "\n",
              "    clothes  hollister  abercrombie       die     death     drunk     drugs  \n",
              "0 -0.318116  -0.201667    -0.184862 -0.304318 -0.264517 -0.223601 -0.177765  \n",
              "1 -0.318116  -0.201667    -0.184862 -0.304318 -0.264517 -0.223601 -0.177765  \n",
              "2 -0.318116  -0.201667    -0.184862 -0.304318  1.965769 -0.223601 -0.177765  \n",
              "3 -0.318116  -0.201667    -0.184862 -0.304318 -0.264517 -0.223601 -0.177765  \n",
              "5 -0.318116  -0.201667    -0.184862 -0.304318 -0.264517  2.244607 -0.177765  \n",
              "\n",
              "[5 rows x 37 columns]"
            ]
          },
          "metadata": {
            "tags": []
          },
          "execution_count": 21
        }
      ]
    },
    {
      "cell_type": "markdown",
      "metadata": {
        "id": "3bJYMc2s0cZh",
        "colab_type": "text"
      },
      "source": [
        "### 2 (B) Clsuter Tendency Aalysis\n",
        "- Before clustering a dataset we can test if there are actually clusters\n",
        "- We have to test the hypothesis of the existence of patterns in the data versus a dataset uniformly distributed (homogeneous distribution)"
      ]
    },
    {
      "cell_type": "markdown",
      "metadata": {
        "id": "z5azkpPk0cZi",
        "colab_type": "text"
      },
      "source": [
        "#### Methods: \n",
        "- Hopkins Statistic\n",
        "- Visual Analysis Technique"
      ]
    },
    {
      "cell_type": "markdown",
      "metadata": {
        "id": "DaJjo4Va0cZj",
        "colab_type": "text"
      },
      "source": [
        "#### 2b.1 Hopkins Statistic"
      ]
    },
    {
      "cell_type": "code",
      "metadata": {
        "id": "PoPCa0B40cZk",
        "colab_type": "code",
        "colab": {}
      },
      "source": [
        "import numpy as np\n",
        "from sklearn.neighbors import NearestNeighbors\n",
        "from sklearn import datasets\n",
        "\n",
        "from scipy.spatial import distance_matrix\n",
        "import seaborn as sns\n",
        "import matplotlib.pyplot as plt"
      ],
      "execution_count": 0,
      "outputs": []
    },
    {
      "cell_type": "code",
      "metadata": {
        "id": "mnF3pQqV0cZn",
        "colab_type": "code",
        "colab": {}
      },
      "source": [
        "# Very time consuming...Can any one optimize it or paralleize?\n",
        "\n",
        "def hopkins(x, n):\n",
        "    \"\"\"Hopkins Statistic\n",
        "       Measures the cluster tendency of a data set.  Returns the statistic value.\n",
        "\n",
        "       Parameters\n",
        "       ----------\n",
        "       x : array-like or sparse matrix, shape (n_samples, n_features). The data set\n",
        "\n",
        "       n : int, number of points to sample randomly from the data set\n",
        "\n",
        "    \"\"\"\n",
        "\n",
        "    d = len(x)\n",
        "    columns = x.shape[1]\n",
        "\n",
        "    for i in range(columns):\n",
        "        if np.max(x[:, i]) == np.min(x[:, i]) == 0:\n",
        "            pass\n",
        "        else:\n",
        "            x[:, i] = (x[:, i] - np.min(x[:, i])) / (np.max(x[:, i]) - np.min(x[:, i]))\n",
        "\n",
        "    s = np.random.choice(d, n, replace=False)\n",
        "    nns = NearestNeighbors(n_neighbors=1).fit(x)\n",
        "\n",
        "    u, w = 0, 0\n",
        "    for i in s:\n",
        "        ran_point = [np.random.uniform(size=columns)]\n",
        "        u += nns.kneighbors(ran_point)[0][0][0]\n",
        "        w += nns.kneighbors([x[i]], 2)[0][0][1]\n",
        "\n",
        "    return u / (u + w)"
      ],
      "execution_count": 0,
      "outputs": []
    },
    {
      "cell_type": "code",
      "metadata": {
        "id": "SQhcpjnC0cZs",
        "colab_type": "code",
        "outputId": "c8271df5-9d51-4207-8ce0-24c0720f499c",
        "colab": {}
      },
      "source": [
        "# hopkins method requires the data as a numpy array\n",
        "# Convert the data frame to a numpy array\n",
        "# df_npy.shape[0] - Number of samples (rows) in the data set\n",
        "\n",
        "df_npy = df.to_numpy(copy=True)\n",
        "hs = hopkins(df_npy, df_npy.shape[0])\n",
        "\n",
        "# print Hopkins statistic\n",
        "print(hs)"
      ],
      "execution_count": 0,
      "outputs": [
        {
          "output_type": "stream",
          "text": [
            "0.9751492319068206\n"
          ],
          "name": "stdout"
        }
      ]
    },
    {
      "cell_type": "markdown",
      "metadata": {
        "id": "UjD6Okkm0cZx",
        "colab_type": "text"
      },
      "source": [
        "### 3. Apply K-Means"
      ]
    },
    {
      "cell_type": "markdown",
      "metadata": {
        "id": "ECxxh4tq0cZz",
        "colab_type": "text"
      },
      "source": [
        "#### 3.1 Fit and Predict"
      ]
    },
    {
      "cell_type": "code",
      "metadata": {
        "id": "iwVY-wv80cZ0",
        "colab_type": "code",
        "colab": {}
      },
      "source": [
        "from sklearn.cluster import KMeans"
      ],
      "execution_count": 0,
      "outputs": []
    },
    {
      "cell_type": "code",
      "metadata": {
        "id": "zVC8JnY40cZ3",
        "colab_type": "code",
        "colab": {}
      },
      "source": [
        "kmeans = KMeans(n_clusters=5, random_state=42)\n",
        "y_pred = kmeans.fit_predict(df)"
      ],
      "execution_count": 0,
      "outputs": []
    },
    {
      "cell_type": "markdown",
      "metadata": {
        "id": "2rJwJShx0cZ6",
        "colab_type": "text"
      },
      "source": [
        "Each instance was assigned to one of the 5 clusters:"
      ]
    },
    {
      "cell_type": "code",
      "metadata": {
        "id": "E4V7XdH90cZ7",
        "colab_type": "code",
        "outputId": "71de24db-d3f4-4cc9-b03a-0c02fbcfc1af",
        "colab": {}
      },
      "source": [
        "y_pred"
      ],
      "execution_count": 0,
      "outputs": [
        {
          "output_type": "execute_result",
          "data": {
            "text/plain": [
              "array([4, 3, 4, ..., 4, 4, 4])"
            ]
          },
          "metadata": {
            "tags": []
          },
          "execution_count": 26
        }
      ]
    },
    {
      "cell_type": "code",
      "metadata": {
        "id": "wHEJ2Uho0caC",
        "colab_type": "code",
        "outputId": "06b6ffa8-ad5b-4309-d564-b44ead41af1f",
        "colab": {}
      },
      "source": [
        "y_pred is kmeans.labels_"
      ],
      "execution_count": 0,
      "outputs": [
        {
          "output_type": "execute_result",
          "data": {
            "text/plain": [
              "True"
            ]
          },
          "metadata": {
            "tags": []
          },
          "execution_count": 27
        }
      ]
    },
    {
      "cell_type": "markdown",
      "metadata": {
        "id": "q8a4G0rh0caG",
        "colab_type": "text"
      },
      "source": [
        "And the following 5 _centroids_ (i.e., cluster centers) were estimated:"
      ]
    },
    {
      "cell_type": "code",
      "metadata": {
        "id": "_O9LTNKR0caH",
        "colab_type": "code",
        "colab": {}
      },
      "source": [
        "# kmeans.cluster_centers_"
      ],
      "execution_count": 0,
      "outputs": []
    },
    {
      "cell_type": "markdown",
      "metadata": {
        "id": "uewXVfBd0caK",
        "colab_type": "text"
      },
      "source": [
        "Note that the `KMeans` instance preserves the labels of the instances it was trained on. Somewhat confusingly, in this context, the _label_ of an instance is the index of the cluster that instance gets assigned to:"
      ]
    },
    {
      "cell_type": "code",
      "metadata": {
        "id": "7-Qj7_K00caL",
        "colab_type": "code",
        "outputId": "0e843f04-9bb0-43ba-832b-6a5452b1988b",
        "colab": {}
      },
      "source": [
        "kmeans.labels_"
      ],
      "execution_count": 0,
      "outputs": [
        {
          "output_type": "execute_result",
          "data": {
            "text/plain": [
              "array([4, 3, 4, ..., 4, 4, 4])"
            ]
          },
          "metadata": {
            "tags": []
          },
          "execution_count": 29
        }
      ]
    },
    {
      "cell_type": "markdown",
      "metadata": {
        "id": "EJwWL9HM0caR",
        "colab_type": "text"
      },
      "source": [
        "#### 3.2 predict the labels of new instances:"
      ]
    },
    {
      "cell_type": "code",
      "metadata": {
        "id": "Z2GXX7370caS",
        "colab_type": "code",
        "outputId": "6edf8fef-0252-4c9e-e928-d51014301514",
        "colab": {}
      },
      "source": [
        "test = df.iloc[1:5,:]\n",
        "kmeans.predict(test)"
      ],
      "execution_count": 0,
      "outputs": [
        {
          "output_type": "execute_result",
          "data": {
            "text/plain": [
              "array([3, 4, 4, 4])"
            ]
          },
          "metadata": {
            "tags": []
          },
          "execution_count": 30
        }
      ]
    },
    {
      "cell_type": "markdown",
      "metadata": {
        "id": "UZVChdR60caX",
        "colab_type": "text"
      },
      "source": [
        "### 4. Decision Boundaries - Cluster Visualization"
      ]
    },
    {
      "cell_type": "markdown",
      "metadata": {
        "id": "v52hE65G0caY",
        "colab_type": "text"
      },
      "source": [
        "Plot based on random attributes with cluster IDs..."
      ]
    },
    {
      "cell_type": "code",
      "metadata": {
        "id": "9Xh5fKGN0caZ",
        "colab_type": "code",
        "colab": {}
      },
      "source": [
        "labels = kmeans.fit_predict(df)"
      ],
      "execution_count": 0,
      "outputs": []
    },
    {
      "cell_type": "code",
      "metadata": {
        "id": "CBQxRQfG0cad",
        "colab_type": "code",
        "outputId": "384ad1d1-be26-4b29-cd69-a9fbe6efbb81",
        "colab": {}
      },
      "source": [
        "# Plot the clusters with first two attributes - clusters are not clear - use better method\n",
        "plt.scatter(df.iloc[:, 0], df.iloc[:, 1], c=labels,\n",
        "            s=50, cmap='viridis');"
      ],
      "execution_count": 0,
      "outputs": [
        {
          "output_type": "display_data",
          "data": {
            "image/png": "[encoded data removed]",
            "text/plain": [
              "<Figure size 432x288 with 1 Axes>"
            ]
          },
          "metadata": {
            "tags": [],
            "needs_background": "light"
          }
        }
      ]
    },
    {
      "cell_type": "markdown",
      "metadata": {
        "id": "dkTFB61o0cas",
        "colab_type": "text"
      },
      "source": [
        "Let's plot the model's two principal components and the centroids:"
      ]
    },
    {
      "cell_type": "code",
      "metadata": {
        "id": "mej3rmQ70cau",
        "colab_type": "code",
        "colab": {}
      },
      "source": [
        "from sklearn.decomposition import PCA\n",
        "pca = PCA(n_components=2)\n",
        "pcs = pca.fit_transform(df)"
      ],
      "execution_count": 0,
      "outputs": []
    },
    {
      "cell_type": "code",
      "metadata": {
        "id": "XM6PzrX10caz",
        "colab_type": "code",
        "outputId": "b6431625-5b32-42e1-f206-00d2f96f4386",
        "colab": {}
      },
      "source": [
        "pcs.shape"
      ],
      "execution_count": 0,
      "outputs": [
        {
          "output_type": "execute_result",
          "data": {
            "text/plain": [
              "(27276, 2)"
            ]
          },
          "metadata": {
            "tags": []
          },
          "execution_count": 39
        }
      ]
    },
    {
      "cell_type": "code",
      "metadata": {
        "id": "M3WSDWWn0ca7",
        "colab_type": "code",
        "outputId": "7fb16857-353b-41bf-fdc6-0fc27923ce30",
        "colab": {}
      },
      "source": [
        "plt.scatter(pcs[:, 0], pcs[:, 1], c=labels,\n",
        "            s=50, cmap='viridis');"
      ],
      "execution_count": 0,
      "outputs": [
        {
          "output_type": "display_data",
          "data": {
            "image/png": "[encoded data removed]",
            "text/plain": [
              "<Figure size 432x288 with 1 Axes>"
            ]
          },
          "metadata": {
            "tags": [],
            "needs_background": "light"
          }
        }
      ]
    },
    {
      "cell_type": "code",
      "metadata": {
        "id": "CLC5Sjpr0cbD",
        "colab_type": "code",
        "outputId": "18a8077c-11a2-4985-8b8f-6b320ac84bc5",
        "colab": {}
      },
      "source": [
        "# Different approach to plot the clusters\n",
        "colors = ['black', 'blue', 'purple', 'yellow', 'red', 'lime', 'cyan', 'orange', 'gray']\n",
        "clus_ids = np.unique(labels)\n",
        "\n",
        "k = 5\n",
        "for i in range(k):\n",
        "    x = pcs[:, 0][labels == i]\n",
        "    y = pcs[:, 1][labels == i]\n",
        "    plt.scatter(x, y, c=colors[i])\n",
        "plt.legend(clus_ids, bbox_to_anchor=(1.05, 1), loc=2, borderaxespad=0.)\n",
        "plt.xlabel('First Principal Component')\n",
        "plt.ylabel('Second Principal Component')\n",
        "plt.title(\"PCA Scatter Plot\")\n",
        "plt.show()"
      ],
      "execution_count": 0,
      "outputs": [
        {
          "output_type": "display_data",
          "data": {
            "image/png": "[encoded data removed]",
            "text/plain": [
              "<Figure size 432x288 with 1 Axes>"
            ]
          },
          "metadata": {
            "tags": [],
            "needs_background": "light"
          }
        }
      ]
    },
    {
      "cell_type": "markdown",
      "metadata": {
        "id": "jHYpKtTo0cbH",
        "colab_type": "text"
      },
      "source": [
        "### K-Means Variability"
      ]
    },
    {
      "cell_type": "markdown",
      "metadata": {
        "id": "1SiGM23C0cbI",
        "colab_type": "text"
      },
      "source": [
        "### Inertia"
      ]
    },
    {
      "cell_type": "markdown",
      "metadata": {
        "id": "C745jsxD0cbI",
        "colab_type": "text"
      },
      "source": [
        "To select the best model, we will need a way to evaluate a K-Mean model's performance. Unfortunately, clustering is an unsupervised task, so we do not have the targets. But at least we can measure the distance between each instance and its centroid. This is the idea behind the _inertia_ metric:"
      ]
    },
    {
      "cell_type": "code",
      "metadata": {
        "id": "oIvwyzro0cbJ",
        "colab_type": "code",
        "outputId": "271c1cad-3fbb-4d66-851e-94fd6e182c2d",
        "colab": {}
      },
      "source": [
        "kmeans.inertia_"
      ],
      "execution_count": 0,
      "outputs": [
        {
          "output_type": "execute_result",
          "data": {
            "text/plain": [
              "884389.3499174347"
            ]
          },
          "metadata": {
            "tags": []
          },
          "execution_count": 43
        }
      ]
    },
    {
      "cell_type": "markdown",
      "metadata": {
        "id": "vjInbbLf0cbN",
        "colab_type": "text"
      },
      "source": [
        "As you can easily verify, inertia is the sum of the squared distances between each training instance and its closest centroid:"
      ]
    },
    {
      "cell_type": "markdown",
      "metadata": {
        "id": "vm9oUD_Z0cbO",
        "colab_type": "text"
      },
      "source": [
        "### Multiple Initializations"
      ]
    },
    {
      "cell_type": "markdown",
      "metadata": {
        "id": "AZ5XOSor0cbP",
        "colab_type": "text"
      },
      "source": [
        "So one approach to solve the variability issue is to simply run the K-Means algorithm multiple times with different random initializations, and select the solution that minimizes the inertia. For example, here are the inertias of the two \"bad\" models shown in the previous figure:"
      ]
    },
    {
      "cell_type": "markdown",
      "metadata": {
        "id": "dh9DaDp10cbQ",
        "colab_type": "text"
      },
      "source": [
        "When you set the `n_init` hyperparameter, Scikit-Learn runs the original algorithm `n_init` times, and selects the solution that minimizes the inertia. By default, Scikit-Learn sets `n_init=10`."
      ]
    },
    {
      "cell_type": "code",
      "metadata": {
        "id": "z7c8gw7w0cbQ",
        "colab_type": "code",
        "outputId": "e0ed4f18-95e5-4396-de4d-217f274c5718",
        "colab": {}
      },
      "source": [
        "kmeans_rnd_10_inits = KMeans(n_clusters=5, init=\"random\", n_init=10,\n",
        "                              algorithm=\"full\", random_state=11)\n",
        "kmeans_rnd_10_inits.fit(df)"
      ],
      "execution_count": 0,
      "outputs": [
        {
          "output_type": "execute_result",
          "data": {
            "text/plain": [
              "KMeans(algorithm='full', copy_x=True, init='random', max_iter=300,\n",
              "    n_clusters=5, n_init=10, n_jobs=None, precompute_distances='auto',\n",
              "    random_state=11, tol=0.0001, verbose=0)"
            ]
          },
          "metadata": {
            "tags": []
          },
          "execution_count": 44
        }
      ]
    },
    {
      "cell_type": "markdown",
      "metadata": {
        "id": "Ln0ctue30cbU",
        "colab_type": "text"
      },
      "source": [
        "### TODO - USe K-Means++ for initialization and observe the results"
      ]
    },
    {
      "cell_type": "markdown",
      "metadata": {
        "id": "3hyOuIB80cbU",
        "colab_type": "text"
      },
      "source": [
        "Instead of initializing the centroids entirely randomly, it is preferable to initialize them using the following algorithm, proposed in a [2006 paper](https://goo.gl/eNUPw6) by David Arthur and Sergei Vassilvitskii:\n",
        "* Take one centroid $c_1$, chosen uniformly at random from the dataset.\n",
        "* Take a new center $c_i$, choosing an instance $\\mathbf{x}_i$ with probability: $D(\\mathbf{x}_i)^2$ / $\\sum\\limits_{j=1}^{m}{D(\\mathbf{x}_j)}^2$ where $D(\\mathbf{x}_i)$ is the distance between the instance $\\mathbf{x}_i$ and the closest centroid that was already chosen. This probability distribution ensures that instances that are further away from already chosen centroids are much more likely be selected as centroids.\n",
        "* Repeat the previous step until all $k$ centroids have been chosen."
      ]
    },
    {
      "cell_type": "markdown",
      "metadata": {
        "id": "LUx90MBW0cbV",
        "colab_type": "text"
      },
      "source": [
        "The rest of the K-Means++ algorithm is just regular K-Means. With this initialization, the K-Means algorithm is much less likely to converge to a suboptimal solution, so it is possible to reduce `n_init` considerably. Most of the time, this largely compensates for the additional complexity of the initialization process."
      ]
    },
    {
      "cell_type": "markdown",
      "metadata": {
        "id": "cv419a1C0cbW",
        "colab_type": "text"
      },
      "source": [
        "To set the initialization to K-Means++, simply set `init=\"k-means++\"` (this is actually the default):"
      ]
    },
    {
      "cell_type": "code",
      "metadata": {
        "id": "k_ZiF8B30cbX",
        "colab_type": "code",
        "outputId": "3f40dd3c-34e4-4bc0-ddfb-343797062779",
        "colab": {}
      },
      "source": [
        "KMeans()"
      ],
      "execution_count": 0,
      "outputs": [
        {
          "output_type": "execute_result",
          "data": {
            "text/plain": [
              "KMeans(algorithm='auto', copy_x=True, init='k-means++', max_iter=300,\n",
              "    n_clusters=8, n_init=10, n_jobs=None, precompute_distances='auto',\n",
              "    random_state=None, tol=0.0001, verbose=0)"
            ]
          },
          "metadata": {
            "tags": []
          },
          "execution_count": 45
        }
      ]
    },
    {
      "cell_type": "markdown",
      "metadata": {
        "id": "60SwxfVq0cba",
        "colab_type": "text"
      },
      "source": [
        "### How to speedup clustering? - Accelerated K-Means"
      ]
    },
    {
      "cell_type": "markdown",
      "metadata": {
        "id": "w2kgD4F00cbc",
        "colab_type": "text"
      },
      "source": [
        "The K-Means algorithm can be significantly accelerated by avoiding many unnecessary distance calculations: this is achieved by exploiting the triangle inequality (given three points A, B and C, the distance AC is always such that AC ≤ AB + BC) and by keeping track of lower and upper bounds for distances between instances and centroids (see this [2003 paper](https://www.aaai.org/Papers/ICML/2003/ICML03-022.pdf) by Charles Elkan for more details)."
      ]
    },
    {
      "cell_type": "markdown",
      "metadata": {
        "id": "svWLXoq50cbd",
        "colab_type": "text"
      },
      "source": [
        "To use Elkan's variant of K-Means, just set `algorithm=\"elkan\"`. Note that it does not support sparse data, so by default, Scikit-Learn uses `\"elkan\"` for dense data, and `\"full\"` (the regular K-Means algorithm) for sparse data."
      ]
    },
    {
      "cell_type": "code",
      "metadata": {
        "id": "qoCmMkbz0cbe",
        "colab_type": "code",
        "outputId": "685eb2ee-5276-4832-bb24-0caecf2f3970",
        "colab": {}
      },
      "source": [
        "%timeit KMeans(algorithm=\"elkan\").fit(df)"
      ],
      "execution_count": 0,
      "outputs": [
        {
          "output_type": "stream",
          "text": [
            "4.24 s ± 236 ms per loop (mean ± std. dev. of 7 runs, 1 loop each)\n"
          ],
          "name": "stdout"
        }
      ]
    },
    {
      "cell_type": "code",
      "metadata": {
        "scrolled": true,
        "id": "mdQVQO520cbm",
        "colab_type": "code",
        "outputId": "813a2b89-e915-4447-ae1f-6fce335389e3",
        "colab": {}
      },
      "source": [
        "%timeit KMeans(algorithm=\"full\").fit(df)"
      ],
      "execution_count": 0,
      "outputs": [
        {
          "output_type": "stream",
          "text": [
            "2.18 s ± 226 ms per loop (mean ± std. dev. of 7 runs, 1 loop each)\n"
          ],
          "name": "stdout"
        }
      ]
    },
    {
      "cell_type": "markdown",
      "metadata": {
        "id": "nFJvWNJ30cbq",
        "colab_type": "text"
      },
      "source": [
        "### EXERCISE - Which one is accuate?  elkan or full?"
      ]
    },
    {
      "cell_type": "code",
      "metadata": {
        "id": "Ii8oe7p80cbr",
        "colab_type": "code",
        "colab": {}
      },
      "source": [
        ""
      ],
      "execution_count": 0,
      "outputs": []
    },
    {
      "cell_type": "markdown",
      "metadata": {
        "id": "s1m6fxGL0cbt",
        "colab_type": "text"
      },
      "source": [
        "### EXERCISE - Finding the optimal number of clusters - K\n",
        "- Using Inertia\n",
        "- Using BIC\n",
        "- Using AIC\n",
        "- Using Silhouette score"
      ]
    },
    {
      "cell_type": "code",
      "metadata": {
        "id": "IbQuO3_V0cbu",
        "colab_type": "code",
        "colab": {}
      },
      "source": [
        ""
      ],
      "execution_count": 0,
      "outputs": []
    },
    {
      "cell_type": "markdown",
      "metadata": {
        "id": "zDR26g0t0cbw",
        "colab_type": "text"
      },
      "source": [
        "What if the number of clusters was set to a lower or greater value than 5?\n",
        "How inertia changes as we inrease K?"
      ]
    },
    {
      "cell_type": "code",
      "metadata": {
        "id": "8GNv9ZcL0cbx",
        "colab_type": "code",
        "outputId": "2c579a75-9757-4f5b-8989-dc0af06d4b9e",
        "colab": {}
      },
      "source": [
        "kmeans_k3 = KMeans(n_clusters=3, random_state=42)\n",
        "kmeans_k3.fit(df)"
      ],
      "execution_count": 0,
      "outputs": [
        {
          "output_type": "execute_result",
          "data": {
            "text/plain": [
              "KMeans(algorithm='auto', copy_x=True, init='k-means++', max_iter=300,\n",
              "    n_clusters=3, n_init=10, n_jobs=None, precompute_distances='auto',\n",
              "    random_state=42, tol=0.0001, verbose=0)"
            ]
          },
          "metadata": {
            "tags": []
          },
          "execution_count": 82
        }
      ]
    },
    {
      "cell_type": "code",
      "metadata": {
        "id": "ncGQc0jH0cb1",
        "colab_type": "code",
        "outputId": "8855e80e-08f6-4f92-c8ad-b13a60bddda4",
        "colab": {}
      },
      "source": [
        "kmeans_k8 = KMeans(n_clusters=8, random_state=42)\n",
        "kmeans_k8.fit(df)"
      ],
      "execution_count": 0,
      "outputs": [
        {
          "output_type": "execute_result",
          "data": {
            "text/plain": [
              "KMeans(algorithm='auto', copy_x=True, init='k-means++', max_iter=300,\n",
              "    n_clusters=8, n_init=10, n_jobs=None, precompute_distances='auto',\n",
              "    random_state=42, tol=0.0001, verbose=0)"
            ]
          },
          "metadata": {
            "tags": []
          },
          "execution_count": 83
        }
      ]
    },
    {
      "cell_type": "markdown",
      "metadata": {
        "id": "R__AZjLy0cb5",
        "colab_type": "text"
      },
      "source": [
        "Ouch, these two models don't look great. What about their inertias?"
      ]
    },
    {
      "cell_type": "code",
      "metadata": {
        "id": "-qhxN7bz0cb8",
        "colab_type": "code",
        "outputId": "2979433a-93a5-43bd-a3da-7bc1dfa05326",
        "colab": {}
      },
      "source": [
        "kmeans_k3.inertia_"
      ],
      "execution_count": 0,
      "outputs": [
        {
          "output_type": "execute_result",
          "data": {
            "text/plain": [
              "9033682.937035345"
            ]
          },
          "metadata": {
            "tags": []
          },
          "execution_count": 84
        }
      ]
    },
    {
      "cell_type": "code",
      "metadata": {
        "id": "FqRts-Et0ccA",
        "colab_type": "code",
        "outputId": "57faf8f2-3f55-474a-afff-fdd8b80db099",
        "colab": {}
      },
      "source": [
        "kmeans_k8.inertia_"
      ],
      "execution_count": 0,
      "outputs": [
        {
          "output_type": "execute_result",
          "data": {
            "text/plain": [
              "2084086.9007630532"
            ]
          },
          "metadata": {
            "tags": []
          },
          "execution_count": 85
        }
      ]
    },
    {
      "cell_type": "markdown",
      "metadata": {
        "id": "7Ysh3BiZ0ccF",
        "colab_type": "text"
      },
      "source": [
        "No, we cannot simply take the value of $k$ that minimizes the inertia, since it keeps getting lower as we increase $k$. Indeed, the more clusters there are, the closer each instance will be to its closest centroid, and therefore the lower the inertia will be. However, we can plot the inertia as a function of $k$ and analyze the resulting curve:"
      ]
    },
    {
      "cell_type": "code",
      "metadata": {
        "id": "J7k8d8Ha0ccG",
        "colab_type": "code",
        "colab": {}
      },
      "source": [
        "kmeans_per_k = [KMeans(n_clusters=k, random_state=42).fit(df)\n",
        "                for k in range(1, 10)]\n",
        "inertias = [model.inertia_ for model in kmeans_per_k]"
      ],
      "execution_count": 0,
      "outputs": []
    },
    {
      "cell_type": "markdown",
      "metadata": {
        "id": "u4NiQ1fb0ccI",
        "colab_type": "text"
      },
      "source": [
        "### EXERCISE\n",
        "Find out best K and repeat modeling and visualization"
      ]
    },
    {
      "cell_type": "code",
      "metadata": {
        "id": "ZSuI_VZA0ccJ",
        "colab_type": "code",
        "colab": {}
      },
      "source": [
        ""
      ],
      "execution_count": 0,
      "outputs": []
    }
  ]
}