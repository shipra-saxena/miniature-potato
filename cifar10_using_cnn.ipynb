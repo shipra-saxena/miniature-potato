{
  "nbformat": 4,
  "nbformat_minor": 0,
  "metadata": {
    "kernelspec": {
      "display_name": "Python 3",
      "language": "python",
      "name": "python3"
    },
    "language_info": {
      "codemirror_mode": {
        "name": "ipython",
        "version": 3
      },
      "file_extension": ".py",
      "mimetype": "text/x-python",
      "name": "python",
      "nbconvert_exporter": "python",
      "pygments_lexer": "ipython3",
      "version": "3.6.5"
    },
    "colab": {
      "name": "cifar10 using cnn.ipynb",
      "provenance": [],
      "include_colab_link": true
    }
  },
  "cells": [
    {
      "cell_type": "markdown",
      "metadata": {
        "id": "view-in-github",
        "colab_type": "text"
      },
      "source": [
        "<a href=\"https://colab.research.google.com/github/shipra-saxena/miniature-potato/blob/master/cifar10_using_cnn.ipynb\" target=\"_parent\"><img src=\"https://colab.research.google.com/assets/colab-badge.svg\" alt=\"Open In Colab\"/></a>"
      ]
    },
    {
      "cell_type": "code",
      "metadata": {
        "id": "DhQp9xUtmQb7",
        "colab_type": "code",
        "colab": {}
      },
      "source": [
        "from IPython.display import Image, SVG\n",
        "import matplotlib.pyplot as plt\n",
        "\n",
        "from keras.models import Sequential\n",
        "from keras import optimizers\n",
        "from keras.layers import Dense, Activation, Flatten, Conv2D, MaxPooling2D\n",
        "%matplotlib inline\n",
        "import time\n",
        "import matplotlib.pyplot as plt\n",
        "import numpy as np\n",
        "from keras.models import Sequential\n",
        "from keras.layers.core import Dense, Activation\n",
        "from keras.optimizers import SGD\n",
        "from keras.utils import np_utils\n",
        "% matplotlib inline\n",
        "np.random.seed(2019) \n",
        "import numpy as np\n",
        "import keras\n",
        "from keras.datasets import cifar10\n",
        "from keras.utils import np_utils\n",
        "from keras.models import Sequential\n",
        "from keras.layers import Dense\n",
        "import numpy as np\n",
        "import matplotlib.pyplot as plt\n",
        "\n",
        "from keras.datasets import mnist\n",
        "from keras.utils.np_utils import to_categorical\n",
        "from keras.utils.vis_utils import model_to_dot"
      ],
      "execution_count": 0,
      "outputs": []
    },
    {
      "cell_type": "code",
      "metadata": {
        "id": "Qv_5BqSRmQcE",
        "colab_type": "code",
        "colab": {}
      },
      "source": [
        "(X_train, Y_train), (X_test, Y_test) = cifar10.load_data()\n"
      ],
      "execution_count": 0,
      "outputs": []
    },
    {
      "cell_type": "code",
      "metadata": {
        "id": "TZUulEP9mQcK",
        "colab_type": "code",
        "colab": {}
      },
      "source": [
        "from tensorflow.image import rgb_to_grayscale \n",
        "from tensorflow import Session as sess\n",
        "X_train=rgb_to_grayscale(X_train)\n",
        "X_test=rgb_to_grayscale(X_test)"
      ],
      "execution_count": 0,
      "outputs": []
    },
    {
      "cell_type": "code",
      "metadata": {
        "id": "ICBn7SQymQcO",
        "colab_type": "code",
        "colab": {},
        "outputId": "0cd6e99f-8ed0-4f85-db7d-9b4b39ff95c4"
      },
      "source": [
        "from tensorflow import InteractiveSession\n",
        "sess = InteractiveSession()"
      ],
      "execution_count": 0,
      "outputs": [
        {
          "output_type": "stream",
          "text": [
            "/home/dbda/anaconda3/lib/python3.6/site-packages/tensorflow/python/client/session.py:1702: UserWarning: An interactive session is already active. This can cause out-of-memory errors in some cases. You must explicitly call `InteractiveSession.close()` to release resources held by the other session(s).\n",
            "  warnings.warn('An interactive session is already active. This can '\n"
          ],
          "name": "stderr"
        }
      ]
    },
    {
      "cell_type": "code",
      "metadata": {
        "id": "5ll7z2pYmQcV",
        "colab_type": "code",
        "colab": {}
      },
      "source": [
        "X_train = X_train.eval()\n",
        "X_test = X_test.eval()\n"
      ],
      "execution_count": 0,
      "outputs": []
    },
    {
      "cell_type": "code",
      "metadata": {
        "id": "HfG7y24xmQcZ",
        "colab_type": "code",
        "colab": {}
      },
      "source": [
        "img_rows, img_cols=  X_train.shape[1],X_train.shape[2]"
      ],
      "execution_count": 0,
      "outputs": []
    },
    {
      "cell_type": "code",
      "metadata": {
        "id": "-VDcgRpImQcd",
        "colab_type": "code",
        "colab": {}
      },
      "source": [
        "X_train = X_train.reshape((X_train.shape[0], X_train.shape[1], X_train.shape[2], 1))\n",
        "X_test = X_test.reshape((X_test.shape[0], X_test.shape[1], X_test.shape[2], 1))\n",
        "#hotone encoding\n",
        "Y_train = np_utils.to_categorical(Y_train)\n",
        "Y_test = np_utils.to_categorical(Y_test)\n",
        "\n",
        "X_train = X_train.astype('float32')\n",
        "X_test = X_test.astype('float32')\n",
        "\n",
        "#normalization of data\n",
        "X_train = X_train / 255.0\n",
        "X_test = X_test / 255.0"
      ],
      "execution_count": 0,
      "outputs": []
    },
    {
      "cell_type": "code",
      "metadata": {
        "id": "YH5zF0-cmQch",
        "colab_type": "code",
        "colab": {}
      },
      "source": [
        "def deep_cnn():\n",
        "    model = Sequential()\n",
        "    \n",
        "    model.add(Conv2D(input_shape = (X_train.shape[1], X_train.shape[2], X_train.shape[3]), filters = 50, kernel_size = (3,3), strides = (1,1), padding = 'same'))\n",
        "    model.add(Activation('relu'))\n",
        "    model.add(Conv2D(filters = 50, kernel_size = (3,3), strides = (1,1), padding = 'same'))\n",
        "    model.add(Activation('relu'))\n",
        "    model.add(MaxPooling2D(pool_size = (2,2)))\n",
        "    model.add(Conv2D(filters = 50, kernel_size = (3,3), strides = (1,1), padding = 'same'))\n",
        "    model.add(Activation('relu'))\n",
        "    model.add(Conv2D(filters = 50, kernel_size = (3,3), strides = (1,1), padding = 'same'))\n",
        "    model.add(Activation('relu'))\n",
        "    model.add(MaxPooling2D(pool_size = (2,2)))\n",
        "    model.add(Conv2D(filters = 50, kernel_size = (3,3), strides = (1,1), padding = 'same'))\n",
        "    model.add(Activation('relu'))\n",
        "    model.add(Conv2D(filters = 50, kernel_size = (3,3), strides = (1,1), padding = 'same'))\n",
        "    model.add(Activation('relu'))\n",
        "    model.add(MaxPooling2D(pool_size = (2,2)))\n",
        "    \n",
        "    # prior layer should be flattend to be connected to dense layers\n",
        "    model.add(Flatten())\n",
        "    # dense layer with 50 neurons\n",
        "    model.add(Dense(50, activation = 'relu'))\n",
        "    # final layer with 10 neurons to classify the instances\n",
        "    model.add(Dense(10, activation = 'softmax'))\n",
        "    \n",
        "    adam = optimizers.Adam(lr = 0.001)\n",
        "    model.compile(loss = 'categorical_crossentropy', optimizer = adam, metrics = ['accuracy'])\n",
        "    \n",
        "    return model    "
      ],
      "execution_count": 0,
      "outputs": []
    },
    {
      "cell_type": "code",
      "metadata": {
        "id": "Mi2QiMVwmQcl",
        "colab_type": "code",
        "colab": {}
      },
      "source": [
        "model = deep_cnn()"
      ],
      "execution_count": 0,
      "outputs": []
    },
    {
      "cell_type": "code",
      "metadata": {
        "id": "SDKotdEKmQcq",
        "colab_type": "code",
        "colab": {},
        "outputId": "80d7cde1-bbd3-4943-f848-b65b484d1f86"
      },
      "source": [
        "model.summary()"
      ],
      "execution_count": 0,
      "outputs": [
        {
          "output_type": "stream",
          "text": [
            "_________________________________________________________________\n",
            "Layer (type)                 Output Shape              Param #   \n",
            "=================================================================\n",
            "conv2d_7 (Conv2D)            (None, 32, 32, 50)        500       \n",
            "_________________________________________________________________\n",
            "activation_7 (Activation)    (None, 32, 32, 50)        0         \n",
            "_________________________________________________________________\n",
            "conv2d_8 (Conv2D)            (None, 32, 32, 50)        22550     \n",
            "_________________________________________________________________\n",
            "activation_8 (Activation)    (None, 32, 32, 50)        0         \n",
            "_________________________________________________________________\n",
            "max_pooling2d_4 (MaxPooling2 (None, 16, 16, 50)        0         \n",
            "_________________________________________________________________\n",
            "conv2d_9 (Conv2D)            (None, 16, 16, 50)        22550     \n",
            "_________________________________________________________________\n",
            "activation_9 (Activation)    (None, 16, 16, 50)        0         \n",
            "_________________________________________________________________\n",
            "conv2d_10 (Conv2D)           (None, 16, 16, 50)        22550     \n",
            "_________________________________________________________________\n",
            "activation_10 (Activation)   (None, 16, 16, 50)        0         \n",
            "_________________________________________________________________\n",
            "max_pooling2d_5 (MaxPooling2 (None, 8, 8, 50)          0         \n",
            "_________________________________________________________________\n",
            "conv2d_11 (Conv2D)           (None, 8, 8, 50)          22550     \n",
            "_________________________________________________________________\n",
            "activation_11 (Activation)   (None, 8, 8, 50)          0         \n",
            "_________________________________________________________________\n",
            "conv2d_12 (Conv2D)           (None, 8, 8, 50)          22550     \n",
            "_________________________________________________________________\n",
            "activation_12 (Activation)   (None, 8, 8, 50)          0         \n",
            "_________________________________________________________________\n",
            "max_pooling2d_6 (MaxPooling2 (None, 4, 4, 50)          0         \n",
            "_________________________________________________________________\n",
            "flatten_2 (Flatten)          (None, 800)               0         \n",
            "_________________________________________________________________\n",
            "dense_3 (Dense)              (None, 50)                40050     \n",
            "_________________________________________________________________\n",
            "dense_4 (Dense)              (None, 10)                510       \n",
            "=================================================================\n",
            "Total params: 153,810\n",
            "Trainable params: 153,810\n",
            "Non-trainable params: 0\n",
            "_________________________________________________________________\n"
          ],
          "name": "stdout"
        }
      ]
    },
    {
      "cell_type": "code",
      "metadata": {
        "id": "xbbjTggOmQcv",
        "colab_type": "code",
        "colab": {},
        "outputId": "bf668454-847e-489f-c5c9-e2f04b27d2f8"
      },
      "source": [
        "%%time\n",
        "history = model.fit(X_train, Y_train, batch_size = 50, validation_split = 0.2, epochs = 10, verbose =1)"
      ],
      "execution_count": 0,
      "outputs": [
        {
          "output_type": "stream",
          "text": [
            "Train on 40000 samples, validate on 10000 samples\n",
            "Epoch 1/10\n",
            "40000/40000 [==============================] - 246s 6ms/step - loss: 1.5536 - acc: 0.4367 - val_loss: 1.3308 - val_acc: 0.5312\n",
            "Epoch 2/10\n",
            "40000/40000 [==============================] - 246s 6ms/step - loss: 1.1686 - acc: 0.5911 - val_loss: 1.0818 - val_acc: 0.6212\n",
            "Epoch 3/10\n",
            "40000/40000 [==============================] - 249s 6ms/step - loss: 0.9616 - acc: 0.6655 - val_loss: 1.0402 - val_acc: 0.6370\n",
            "Epoch 4/10\n",
            "40000/40000 [==============================] - 251s 6ms/step - loss: 0.8367 - acc: 0.7108 - val_loss: 0.8577 - val_acc: 0.7021\n",
            "Epoch 5/10\n",
            "40000/40000 [==============================] - 253s 6ms/step - loss: 0.7517 - acc: 0.7427 - val_loss: 0.8397 - val_acc: 0.7112\n",
            "Epoch 6/10\n",
            "40000/40000 [==============================] - 253s 6ms/step - loss: 0.6768 - acc: 0.7682 - val_loss: 0.8255 - val_acc: 0.7218\n",
            "Epoch 7/10\n",
            "40000/40000 [==============================] - 253s 6ms/step - loss: 0.6177 - acc: 0.7879 - val_loss: 0.7953 - val_acc: 0.7314\n",
            "Epoch 8/10\n",
            "40000/40000 [==============================] - 256s 6ms/step - loss: 0.5615 - acc: 0.8039 - val_loss: 0.7918 - val_acc: 0.7383\n",
            "Epoch 9/10\n",
            "40000/40000 [==============================] - 262s 7ms/step - loss: 0.5058 - acc: 0.8243 - val_loss: 0.8301 - val_acc: 0.7267\n",
            "Epoch 10/10\n",
            "40000/40000 [==============================] - 262s 7ms/step - loss: 0.4597 - acc: 0.8391 - val_loss: 0.8472 - val_acc: 0.7353\n",
            "CPU times: user 2h 10min 2s, sys: 22min 20s, total: 2h 32min 22s\n",
            "Wall time: 42min 12s\n"
          ],
          "name": "stdout"
        }
      ]
    },
    {
      "cell_type": "code",
      "metadata": {
        "id": "pCJtWOe2mQcz",
        "colab_type": "code",
        "colab": {},
        "outputId": "cb5ec847-a2e6-43be-9fe5-9c2eed2ebaa6"
      },
      "source": [
        "plt.plot(history.history['acc'])\n",
        "plt.plot(history.history['val_acc'])\n",
        "plt.legend(['training', 'validation'], loc = 'upper left')\n",
        "plt.show()"
      ],
      "execution_count": 0,
      "outputs": [
        {
          "output_type": "display_data",
          "data": {
            "image/png": "[encoded data removed]",
            "text/plain": [
              "<Figure size 432x288 with 1 Axes>"
            ]
          },
          "metadata": {
            "tags": []
          }
        }
      ]
    },
    {
      "cell_type": "code",
      "metadata": {
        "id": "AEjkr25PmQc4",
        "colab_type": "code",
        "colab": {}
      },
      "source": [
        ""
      ],
      "execution_count": 0,
      "outputs": []
    }
  ]
}