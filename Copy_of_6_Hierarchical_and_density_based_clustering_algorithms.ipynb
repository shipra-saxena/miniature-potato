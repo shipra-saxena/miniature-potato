{
  "nbformat": 4,
  "nbformat_minor": 0,
  "metadata": {
    "colab": {
      "name": "Copy of 6_Hierarchical_and_density-based_clustering_algorithms.ipynb",
      "provenance": [],
      "collapsed_sections": [],
      "include_colab_link": true
    },
    "language_info": {
      "codemirror_mode": {
        "name": "ipython",
        "version": 3
      },
      "file_extension": ".py",
      "mimetype": "text/x-python",
      "name": "python",
      "nbconvert_exporter": "python",
      "pygments_lexer": "ipython3",
      "version": "3.6.8"
    },
    "kernelspec": {
      "display_name": "Python 3",
      "language": "python",
      "name": "python3"
    }
  },
  "cells": [
    {
      "cell_type": "markdown",
      "metadata": {
        "id": "view-in-github",
        "colab_type": "text"
      },
      "source": [
        "<a href=\"https://colab.research.google.com/github/shipra-saxena/miniature-potato/blob/master/Copy_of_6_Hierarchical_and_density_based_clustering_algorithms.ipynb\" target=\"_parent\"><img src=\"https://colab.research.google.com/assets/colab-badge.svg\" alt=\"Open In Colab\"/></a>"
      ]
    },
    {
      "cell_type": "markdown",
      "metadata": {
        "nbpresent": {
          "id": "4a9d75ee-def8-451e-836f-707a63d8ea90"
        },
        "id": "RMLNZ4p35i_C",
        "colab_type": "text"
      },
      "source": [
        "# Unsupervised learning: Hierarchical and density-based clustering algorithms"
      ]
    },
    {
      "cell_type": "code",
      "metadata": {
        "nbpresent": {
          "id": "2de13356-e9ae-466c-89d1-50618945c658"
        },
        "id": "dFADtyHi5i_E",
        "colab_type": "code",
        "colab": {}
      },
      "source": [
        "%matplotlib inline\n",
        "import numpy as np\n",
        "from matplotlib import pyplot as plt"
      ],
      "execution_count": 0,
      "outputs": []
    },
    {
      "cell_type": "code",
      "metadata": {
        "nbpresent": {
          "id": "b552a94c-9dc1-4c76-9d9b-90a47cd7811a"
        },
        "id": "j_TmyUNH5i_W",
        "colab_type": "code",
        "outputId": "f3b584f6-c93e-48d1-a6ef-7775c5518279",
        "colab": {}
      },
      "source": [
        "from sklearn.datasets import load_iris\n",
        "\n",
        "iris = load_iris()\n",
        "X = iris.data[:, [2, 3]] # Take only two columns out of 4 columns\n",
        "y = iris.target\n",
        "n_samples, n_features = X.shape\n",
        "print(n_samples, n_features)\n",
        "print(y) # There are three classes/three clusters should be there"
      ],
      "execution_count": 0,
      "outputs": [
        {
          "output_type": "stream",
          "text": [
            "150 2\n",
            "[0 0 0 0 0 0 0 0 0 0 0 0 0 0 0 0 0 0 0 0 0 0 0 0 0 0 0 0 0 0 0 0 0 0 0 0 0\n",
            " 0 0 0 0 0 0 0 0 0 0 0 0 0 1 1 1 1 1 1 1 1 1 1 1 1 1 1 1 1 1 1 1 1 1 1 1 1\n",
            " 1 1 1 1 1 1 1 1 1 1 1 1 1 1 1 1 1 1 1 1 1 1 1 1 1 1 2 2 2 2 2 2 2 2 2 2 2\n",
            " 2 2 2 2 2 2 2 2 2 2 2 2 2 2 2 2 2 2 2 2 2 2 2 2 2 2 2 2 2 2 2 2 2 2 2 2 2\n",
            " 2 2]\n"
          ],
          "name": "stdout"
        }
      ]
    },
    {
      "cell_type": "code",
      "metadata": {
        "id": "HtG2i9Zi5i_f",
        "colab_type": "code",
        "outputId": "d1b8f19b-0da5-4060-e33e-672054213e3e",
        "colab": {}
      },
      "source": [
        "# Visulaize the data\n",
        "plt.scatter(X[:, 0], X[:, 1], c=y)"
      ],
      "execution_count": 0,
      "outputs": [
        {
          "output_type": "execute_result",
          "data": {
            "text/plain": [
              "<matplotlib.collections.PathCollection at 0x24329d1f7b8>"
            ]
          },
          "metadata": {
            "tags": []
          },
          "execution_count": 6
        },
        {
          "output_type": "display_data",
          "data": {
            "image/png": "[encoded data removed]",
            "text/plain": [
              "<Figure size 432x288 with 1 Axes>"
            ]
          },
          "metadata": {
            "tags": [],
            "needs_background": "light"
          }
        }
      ]
    },
    {
      "cell_type": "markdown",
      "metadata": {
        "id": "WJMMkXEp5i_m",
        "colab_type": "text"
      },
      "source": [
        "## 2. Compute linkage (complete)"
      ]
    },
    {
      "cell_type": "code",
      "metadata": {
        "nbpresent": {
          "id": "d7f4a0e0-5b4f-4e08-9c77-fd1b1d13c877"
        },
        "id": "IM4uHSNR5i_n",
        "colab_type": "code",
        "colab": {}
      },
      "source": [
        "from scipy.cluster.hierarchy import linkage\n",
        "from scipy.cluster.hierarchy import dendrogram\n",
        "\n",
        "clusters = linkage(X, \n",
        "                   metric='euclidean',\n",
        "                   method='complete')"
      ],
      "execution_count": 0,
      "outputs": []
    },
    {
      "cell_type": "markdown",
      "metadata": {
        "id": "2LGv_q4s5i_t",
        "colab_type": "text"
      },
      "source": [
        "## 3. Create dendrogram"
      ]
    },
    {
      "cell_type": "code",
      "metadata": {
        "id": "PjbyzYzb5i_u",
        "colab_type": "code",
        "outputId": "632e3c76-4f53-4ab9-d1f9-f0ae342d33c2",
        "colab": {}
      },
      "source": [
        "dendr = dendrogram(clusters)\n",
        "\n",
        "plt.ylabel('Euclidean Distance')"
      ],
      "execution_count": 0,
      "outputs": [
        {
          "output_type": "execute_result",
          "data": {
            "text/plain": [
              "Text(0, 0.5, 'Euclidean Distance')"
            ]
          },
          "metadata": {
            "tags": []
          },
          "execution_count": 8
        },
        {
          "output_type": "display_data",
          "data": {
            "image/png": "[encoded data removed]",
            "text/plain": [
              "<Figure size 432x288 with 1 Axes>"
            ]
          },
          "metadata": {
            "tags": [],
            "needs_background": "light"
          }
        }
      ]
    },
    {
      "cell_type": "markdown",
      "metadata": {
        "id": "OOBtHEdc5i_0",
        "colab_type": "text"
      },
      "source": [
        "## 4. Perform Agglomertive clustering"
      ]
    },
    {
      "cell_type": "markdown",
      "metadata": {
        "nbpresent": {
          "id": "68cb3270-9d4b-450f-9372-58989fe93a3d"
        },
        "id": "h0XKzXdr5i_2",
        "colab_type": "text"
      },
      "source": [
        "Next, let's use the `AgglomerativeClustering` estimator from scikit-learn and divide the dataset into 3 clusters. Can you guess which 3 clusters from the dendrogram it will reproduce?"
      ]
    },
    {
      "cell_type": "code",
      "metadata": {
        "nbpresent": {
          "id": "4746ea9e-3206-4e5a-bf06-8e2cd49c48d1"
        },
        "id": "qO0taPgz5i_3",
        "colab_type": "code",
        "outputId": "20238832-b279-4178-e78d-1606ac51b112",
        "colab": {}
      },
      "source": [
        "from sklearn.cluster import AgglomerativeClustering\n",
        "\n",
        "# Create agglomerative cluster object\n",
        "ac = AgglomerativeClustering(n_clusters=3,\n",
        "                             affinity='euclidean',\n",
        "                             linkage='complete')\n",
        "\n",
        "# Perform clustering\n",
        "prediction = ac.fit_predict(X)\n",
        "print('Cluster labels: %s\\n' % prediction)"
      ],
      "execution_count": 0,
      "outputs": [
        {
          "output_type": "stream",
          "text": [
            "Cluster labels: [2 2 2 2 2 2 2 2 2 2 2 2 2 2 2 2 2 2 2 2 2 2 2 2 2 2 2 2 2 2 2 2 2 2 2 2 2\n",
            " 2 2 2 2 2 2 2 2 2 2 2 2 2 1 1 0 1 1 1 1 1 1 1 1 1 1 1 1 1 1 1 1 1 0 1 0 1\n",
            " 1 1 1 0 1 1 1 1 1 0 1 1 1 1 1 1 1 1 1 1 1 1 1 1 1 1 0 0 0 0 0 0 1 0 0 0 0\n",
            " 0 0 0 0 0 0 0 0 0 0 0 0 0 0 0 0 0 0 0 0 0 0 0 0 0 0 0 0 0 0 0 0 0 0 0 0 0\n",
            " 0 0]\n",
            "\n"
          ],
          "name": "stdout"
        }
      ]
    },
    {
      "cell_type": "code",
      "metadata": {
        "nbpresent": {
          "id": "a4e419ac-a735-442e-96bd-b90e60691f97"
        },
        "id": "VW0kzpk35i_-",
        "colab_type": "code",
        "outputId": "47ae43b8-aa04-4b13-b107-1ea58dcb0969",
        "colab": {}
      },
      "source": [
        "plt.scatter(X[:, 0], X[:, 1], c=prediction)"
      ],
      "execution_count": 0,
      "outputs": [
        {
          "output_type": "execute_result",
          "data": {
            "text/plain": [
              "<matplotlib.collections.PathCollection at 0x2432b3bb748>"
            ]
          },
          "metadata": {
            "tags": []
          },
          "execution_count": 10
        },
        {
          "output_type": "display_data",
          "data": {
            "image/png": "[encoded data removed]",
            "text/plain": [
              "<Figure size 432x288 with 1 Axes>"
            ]
          },
          "metadata": {
            "tags": [],
            "needs_background": "light"
          }
        }
      ]
    },
    {
      "cell_type": "code",
      "metadata": {
        "id": "LswY-QLD5jAE",
        "colab_type": "code",
        "outputId": "7b4b14b7-e4b5-4328-e766-97e0b0f7692d",
        "colab": {}
      },
      "source": [
        "plt.scatter(X[:, 0], X[:, 1], c=y)"
      ],
      "execution_count": 0,
      "outputs": [
        {
          "output_type": "execute_result",
          "data": {
            "text/plain": [
              "<matplotlib.collections.PathCollection at 0x2432b4177b8>"
            ]
          },
          "metadata": {
            "tags": []
          },
          "execution_count": 11
        },
        {
          "output_type": "display_data",
          "data": {
            "image/png": "[encoded data removed]",
            "text/plain": [
              "<Figure size 432x288 with 1 Axes>"
            ]
          },
          "metadata": {
            "tags": [],
            "needs_background": "light"
          }
        }
      ]
    },
    {
      "cell_type": "markdown",
      "metadata": {
        "nbpresent": {
          "id": "84c2fb5c-a984-4a8e-baff-0eee2cbf0184"
        },
        "id": "MJlfUJlU5jAL",
        "colab_type": "text"
      },
      "source": [
        "# Exercise"
      ]
    },
    {
      "cell_type": "markdown",
      "metadata": {
        "nbpresent": {
          "id": "6881939d-0bfe-4768-9342-1fc68a0b8dbc"
        },
        "id": "QP4-GZXY5jAM",
        "colab_type": "text"
      },
      "source": [
        "<div class=\"alert alert-success\">\n",
        "    <b>EXERCISE</b>:\n",
        "     <ul>\n",
        "      <li>\n",
        "Given the text of teenagers' Social Networking Service (SNS) pages, identify groups that share common interests such as sports, religion, or music.\n",
        "The data include:\n",
        "   - 30,000 teenagers \n",
        "   - 4 variables indicating personal characteristics - gradyear, gender, age and friends \n",
        "   - 36 words indicating interests (basketball, football, soccer, etc).\n",
        "Perform Agglomerative clustering and compare the results with the results of K-Means clustering.\n",
        "      </li>\n",
        "    </ul>\n",
        "</div>"
      ]
    },
    {
      "cell_type": "code",
      "metadata": {
        "id": "NuN_ahPv5jAO",
        "colab_type": "code",
        "colab": {}
      },
      "source": [
        "import pandas as pd\n",
        "# load the CSV file as a dataframe\n",
        "input_file = \"snsdata.csv\"\n",
        "\n",
        "# comma delimited is the default\n",
        "df = pd.read_csv(input_file, header = 0, delimiter = \",\")"
      ],
      "execution_count": 0,
      "outputs": []
    },
    {
      "cell_type": "code",
      "metadata": {
        "id": "CgPz6OBK7XFy",
        "colab_type": "code",
        "colab": {}
      },
      "source": [
        "df.shape"
      ],
      "execution_count": 0,
      "outputs": []
    },
    {
      "cell_type": "code",
      "metadata": {
        "id": "9kz49CVu7beW",
        "colab_type": "code",
        "colab": {}
      },
      "source": [
        "df = df.dropna(subset=['gender'])\n",
        "df.shape"
      ],
      "execution_count": 0,
      "outputs": []
    },
    {
      "cell_type": "code",
      "metadata": {
        "id": "1fsTowc272b2",
        "colab_type": "code",
        "colab": {}
      },
      "source": [
        "df = df.drop(['gradyear', 'gender', 'age'], axis=1)"
      ],
      "execution_count": 0,
      "outputs": []
    },
    {
      "cell_type": "code",
      "metadata": {
        "id": "hdA5r-ow73Z1",
        "colab_type": "code",
        "colab": {}
      },
      "source": [
        "df_orig = df"
      ],
      "execution_count": 0,
      "outputs": []
    },
    {
      "cell_type": "code",
      "metadata": {
        "id": "MIzyD-Gr7_nN",
        "colab_type": "code",
        "colab": {}
      },
      "source": [
        "def standardization(dataset):\n",
        "    \"\"\" Standardization of numeric fields, where all values will have mean of zero \n",
        "    and standard deviation of one. (z-score)\n",
        "    \n",
        "    Args:\n",
        "    dataset: A `Pandas.Dataframe` \n",
        "    \"\"\"\n",
        "    dtypes = list(zip(dataset.dtypes.index, map(str, dataset.dtypes)))\n",
        "    #print(dtypes)\n",
        "    # Normalize numeric columns.\n",
        "    for column, dtype in dtypes:\n",
        "        #if dtype == 'float32':\n",
        "        dataset[column] -= dataset[column].mean()\n",
        "        dataset[column] /= dataset[column].std()\n",
        "    return dataset\n",
        "df = standardization(df_orig)"
      ],
      "execution_count": 0,
      "outputs": []
    },
    {
      "cell_type": "code",
      "metadata": {
        "id": "ADSJEqYn8BuL",
        "colab_type": "code",
        "colab": {}
      },
      "source": [
        "df.head()"
      ],
      "execution_count": 0,
      "outputs": []
    },
    {
      "cell_type": "code",
      "metadata": {
        "id": "9bHxPHm58E7_",
        "colab_type": "code",
        "colab": {}
      },
      "source": [
        ""
      ],
      "execution_count": 0,
      "outputs": []
    }
  ]
}