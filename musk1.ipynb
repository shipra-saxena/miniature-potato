{
  "nbformat": 4,
  "nbformat_minor": 0,
  "metadata": {
    "colab": {
      "name": "musk1.ipynb",
      "provenance": [],
      "collapsed_sections": [],
      "include_colab_link": true
    },
    "kernelspec": {
      "name": "python3",
      "display_name": "Python 3"
    }
  },
  "cells": [
    {
      "cell_type": "markdown",
      "metadata": {
        "id": "view-in-github",
        "colab_type": "text"
      },
      "source": [
        "<a href=\"https://colab.research.google.com/github/shipra-saxena/miniature-potato/blob/master/musk1.ipynb\" target=\"_parent\"><img src=\"https://colab.research.google.com/assets/colab-badge.svg\" alt=\"Open In Colab\"/></a>"
      ]
    },
    {
      "cell_type": "markdown",
      "metadata": {
        "id": "i2HKPNbmPl4X",
        "colab_type": "text"
      },
      "source": [
        "Important liberary imports"
      ]
    },
    {
      "cell_type": "code",
      "metadata": {
        "id": "YUvbNWMWYg0a",
        "colab_type": "code",
        "colab": {}
      },
      "source": [
        "import numpy as np\n",
        "import pandas as pd\n",
        "from sklearn.model_selection import train_test_split\n",
        "from sklearn import preprocessing\n",
        "from keras.models import Sequential\n",
        "from keras.layers import Dense , Activation\n",
        "from sklearn.metrics import accuracy_score\n",
        "from sklearn.metrics import precision_score\n",
        "from sklearn.metrics import recall_score\n",
        "from sklearn.metrics import f1_score\n",
        "from sklearn.metrics import cohen_kappa_score\n",
        "from sklearn.metrics import roc_auc_score\n",
        "from sklearn.metrics import confusion_matrix\n",
        "import matplotlib.pyplot as plt \n",
        "from keras.optimizers import SGD,RMSprop"
      ],
      "execution_count": 0,
      "outputs": []
    },
    {
      "cell_type": "markdown",
      "metadata": {
        "id": "X8PP3DZ-P3dB",
        "colab_type": "text"
      },
      "source": [
        "Reading and understanding data"
      ]
    },
    {
      "cell_type": "code",
      "metadata": {
        "id": "rbPbu6AqajqD",
        "colab_type": "code",
        "colab": {}
      },
      "source": [
        "df=pd.read_csv('musk_csv.csv')"
      ],
      "execution_count": 0,
      "outputs": []
    },
    {
      "cell_type": "code",
      "metadata": {
        "id": "yGSAb8ckasGG",
        "colab_type": "code",
        "colab": {
          "base_uri": "https://localhost:8080/",
          "height": 34
        },
        "outputId": "04abf0a1-776c-474d-baac-e8dbc2a0e893"
      },
      "source": [
        "df.shape"
      ],
      "execution_count": 3,
      "outputs": [
        {
          "output_type": "execute_result",
          "data": {
            "text/plain": [
              "(6598, 170)"
            ]
          },
          "metadata": {
            "tags": []
          },
          "execution_count": 3
        }
      ]
    },
    {
      "cell_type": "code",
      "metadata": {
        "id": "Foax2zLxbH_b",
        "colab_type": "code",
        "colab": {
          "base_uri": "https://localhost:8080/",
          "height": 119
        },
        "outputId": "4daa4a5d-b4ed-4f09-edc7-47054a4a61aa"
      },
      "source": [
        "df.columns"
      ],
      "execution_count": 4,
      "outputs": [
        {
          "output_type": "execute_result",
          "data": {
            "text/plain": [
              "Index(['ID', 'molecule_name', 'conformation_name', 'f1', 'f2', 'f3', 'f4',\n",
              "       'f5', 'f6', 'f7',\n",
              "       ...\n",
              "       'f158', 'f159', 'f160', 'f161', 'f162', 'f163', 'f164', 'f165', 'f166',\n",
              "       'class'],\n",
              "      dtype='object', length=170)"
            ]
          },
          "metadata": {
            "tags": []
          },
          "execution_count": 4
        }
      ]
    },
    {
      "cell_type": "code",
      "metadata": {
        "id": "qQtocuzqeAvc",
        "colab_type": "code",
        "outputId": "67eb4405-be1a-465e-f97b-2f477c2f947d",
        "colab": {
          "base_uri": "https://localhost:8080/",
          "height": 191
        }
      },
      "source": [
        "df.groupby('class').agg('count') #understanding class distribution of data\n"
      ],
      "execution_count": 5,
      "outputs": [
        {
          "output_type": "execute_result",
          "data": {
            "text/html": [
              "<div>\n",
              "<style scoped>\n",
              "    .dataframe tbody tr th:only-of-type {\n",
              "        vertical-align: middle;\n",
              "    }\n",
              "\n",
              "    .dataframe tbody tr th {\n",
              "        vertical-align: top;\n",
              "    }\n",
              "\n",
              "    .dataframe thead th {\n",
              "        text-align: right;\n",
              "    }\n",
              "</style>\n",
              "<table border=\"1\" class=\"dataframe\">\n",
              "  <thead>\n",
              "    <tr style=\"text-align: right;\">\n",
              "      <th></th>\n",
              "      <th>ID</th>\n",
              "      <th>molecule_name</th>\n",
              "      <th>conformation_name</th>\n",
              "      <th>f1</th>\n",
              "      <th>f2</th>\n",
              "      <th>f3</th>\n",
              "      <th>f4</th>\n",
              "      <th>f5</th>\n",
              "      <th>f6</th>\n",
              "      <th>f7</th>\n",
              "      <th>f8</th>\n",
              "      <th>f9</th>\n",
              "      <th>f10</th>\n",
              "      <th>f11</th>\n",
              "      <th>f12</th>\n",
              "      <th>f13</th>\n",
              "      <th>f14</th>\n",
              "      <th>f15</th>\n",
              "      <th>f16</th>\n",
              "      <th>f17</th>\n",
              "      <th>f18</th>\n",
              "      <th>f19</th>\n",
              "      <th>f20</th>\n",
              "      <th>f21</th>\n",
              "      <th>f22</th>\n",
              "      <th>f23</th>\n",
              "      <th>f24</th>\n",
              "      <th>f25</th>\n",
              "      <th>f26</th>\n",
              "      <th>f27</th>\n",
              "      <th>f28</th>\n",
              "      <th>f29</th>\n",
              "      <th>f30</th>\n",
              "      <th>f31</th>\n",
              "      <th>f32</th>\n",
              "      <th>f33</th>\n",
              "      <th>f34</th>\n",
              "      <th>f35</th>\n",
              "      <th>f36</th>\n",
              "      <th>f37</th>\n",
              "      <th>...</th>\n",
              "      <th>f127</th>\n",
              "      <th>f128</th>\n",
              "      <th>f129</th>\n",
              "      <th>f130</th>\n",
              "      <th>f131</th>\n",
              "      <th>f132</th>\n",
              "      <th>f133</th>\n",
              "      <th>f134</th>\n",
              "      <th>f135</th>\n",
              "      <th>f136</th>\n",
              "      <th>f137</th>\n",
              "      <th>f138</th>\n",
              "      <th>f139</th>\n",
              "      <th>f140</th>\n",
              "      <th>f141</th>\n",
              "      <th>f142</th>\n",
              "      <th>f143</th>\n",
              "      <th>f144</th>\n",
              "      <th>f145</th>\n",
              "      <th>f146</th>\n",
              "      <th>f147</th>\n",
              "      <th>f148</th>\n",
              "      <th>f149</th>\n",
              "      <th>f150</th>\n",
              "      <th>f151</th>\n",
              "      <th>f152</th>\n",
              "      <th>f153</th>\n",
              "      <th>f154</th>\n",
              "      <th>f155</th>\n",
              "      <th>f156</th>\n",
              "      <th>f157</th>\n",
              "      <th>f158</th>\n",
              "      <th>f159</th>\n",
              "      <th>f160</th>\n",
              "      <th>f161</th>\n",
              "      <th>f162</th>\n",
              "      <th>f163</th>\n",
              "      <th>f164</th>\n",
              "      <th>f165</th>\n",
              "      <th>f166</th>\n",
              "    </tr>\n",
              "    <tr>\n",
              "      <th>class</th>\n",
              "      <th></th>\n",
              "      <th></th>\n",
              "      <th></th>\n",
              "      <th></th>\n",
              "      <th></th>\n",
              "      <th></th>\n",
              "      <th></th>\n",
              "      <th></th>\n",
              "      <th></th>\n",
              "      <th></th>\n",
              "      <th></th>\n",
              "      <th></th>\n",
              "      <th></th>\n",
              "      <th></th>\n",
              "      <th></th>\n",
              "      <th></th>\n",
              "      <th></th>\n",
              "      <th></th>\n",
              "      <th></th>\n",
              "      <th></th>\n",
              "      <th></th>\n",
              "      <th></th>\n",
              "      <th></th>\n",
              "      <th></th>\n",
              "      <th></th>\n",
              "      <th></th>\n",
              "      <th></th>\n",
              "      <th></th>\n",
              "      <th></th>\n",
              "      <th></th>\n",
              "      <th></th>\n",
              "      <th></th>\n",
              "      <th></th>\n",
              "      <th></th>\n",
              "      <th></th>\n",
              "      <th></th>\n",
              "      <th></th>\n",
              "      <th></th>\n",
              "      <th></th>\n",
              "      <th></th>\n",
              "      <th></th>\n",
              "      <th></th>\n",
              "      <th></th>\n",
              "      <th></th>\n",
              "      <th></th>\n",
              "      <th></th>\n",
              "      <th></th>\n",
              "      <th></th>\n",
              "      <th></th>\n",
              "      <th></th>\n",
              "      <th></th>\n",
              "      <th></th>\n",
              "      <th></th>\n",
              "      <th></th>\n",
              "      <th></th>\n",
              "      <th></th>\n",
              "      <th></th>\n",
              "      <th></th>\n",
              "      <th></th>\n",
              "      <th></th>\n",
              "      <th></th>\n",
              "      <th></th>\n",
              "      <th></th>\n",
              "      <th></th>\n",
              "      <th></th>\n",
              "      <th></th>\n",
              "      <th></th>\n",
              "      <th></th>\n",
              "      <th></th>\n",
              "      <th></th>\n",
              "      <th></th>\n",
              "      <th></th>\n",
              "      <th></th>\n",
              "      <th></th>\n",
              "      <th></th>\n",
              "      <th></th>\n",
              "      <th></th>\n",
              "      <th></th>\n",
              "      <th></th>\n",
              "      <th></th>\n",
              "      <th></th>\n",
              "    </tr>\n",
              "  </thead>\n",
              "  <tbody>\n",
              "    <tr>\n",
              "      <th>0</th>\n",
              "      <td>5581</td>\n",
              "      <td>5581</td>\n",
              "      <td>5581</td>\n",
              "      <td>5581</td>\n",
              "      <td>5581</td>\n",
              "      <td>5581</td>\n",
              "      <td>5581</td>\n",
              "      <td>5581</td>\n",
              "      <td>5581</td>\n",
              "      <td>5581</td>\n",
              "      <td>5581</td>\n",
              "      <td>5581</td>\n",
              "      <td>5581</td>\n",
              "      <td>5581</td>\n",
              "      <td>5581</td>\n",
              "      <td>5581</td>\n",
              "      <td>5581</td>\n",
              "      <td>5581</td>\n",
              "      <td>5581</td>\n",
              "      <td>5581</td>\n",
              "      <td>5581</td>\n",
              "      <td>5581</td>\n",
              "      <td>5581</td>\n",
              "      <td>5581</td>\n",
              "      <td>5581</td>\n",
              "      <td>5581</td>\n",
              "      <td>5581</td>\n",
              "      <td>5581</td>\n",
              "      <td>5581</td>\n",
              "      <td>5581</td>\n",
              "      <td>5581</td>\n",
              "      <td>5581</td>\n",
              "      <td>5581</td>\n",
              "      <td>5581</td>\n",
              "      <td>5581</td>\n",
              "      <td>5581</td>\n",
              "      <td>5581</td>\n",
              "      <td>5581</td>\n",
              "      <td>5581</td>\n",
              "      <td>5581</td>\n",
              "      <td>...</td>\n",
              "      <td>5581</td>\n",
              "      <td>5581</td>\n",
              "      <td>5581</td>\n",
              "      <td>5581</td>\n",
              "      <td>5581</td>\n",
              "      <td>5581</td>\n",
              "      <td>5581</td>\n",
              "      <td>5581</td>\n",
              "      <td>5581</td>\n",
              "      <td>5581</td>\n",
              "      <td>5581</td>\n",
              "      <td>5581</td>\n",
              "      <td>5581</td>\n",
              "      <td>5581</td>\n",
              "      <td>5581</td>\n",
              "      <td>5581</td>\n",
              "      <td>5581</td>\n",
              "      <td>5581</td>\n",
              "      <td>5581</td>\n",
              "      <td>5581</td>\n",
              "      <td>5581</td>\n",
              "      <td>5581</td>\n",
              "      <td>5581</td>\n",
              "      <td>5581</td>\n",
              "      <td>5581</td>\n",
              "      <td>5581</td>\n",
              "      <td>5581</td>\n",
              "      <td>5581</td>\n",
              "      <td>5581</td>\n",
              "      <td>5581</td>\n",
              "      <td>5581</td>\n",
              "      <td>5581</td>\n",
              "      <td>5581</td>\n",
              "      <td>5581</td>\n",
              "      <td>5581</td>\n",
              "      <td>5581</td>\n",
              "      <td>5581</td>\n",
              "      <td>5581</td>\n",
              "      <td>5581</td>\n",
              "      <td>5581</td>\n",
              "    </tr>\n",
              "    <tr>\n",
              "      <th>1</th>\n",
              "      <td>1017</td>\n",
              "      <td>1017</td>\n",
              "      <td>1017</td>\n",
              "      <td>1017</td>\n",
              "      <td>1017</td>\n",
              "      <td>1017</td>\n",
              "      <td>1017</td>\n",
              "      <td>1017</td>\n",
              "      <td>1017</td>\n",
              "      <td>1017</td>\n",
              "      <td>1017</td>\n",
              "      <td>1017</td>\n",
              "      <td>1017</td>\n",
              "      <td>1017</td>\n",
              "      <td>1017</td>\n",
              "      <td>1017</td>\n",
              "      <td>1017</td>\n",
              "      <td>1017</td>\n",
              "      <td>1017</td>\n",
              "      <td>1017</td>\n",
              "      <td>1017</td>\n",
              "      <td>1017</td>\n",
              "      <td>1017</td>\n",
              "      <td>1017</td>\n",
              "      <td>1017</td>\n",
              "      <td>1017</td>\n",
              "      <td>1017</td>\n",
              "      <td>1017</td>\n",
              "      <td>1017</td>\n",
              "      <td>1017</td>\n",
              "      <td>1017</td>\n",
              "      <td>1017</td>\n",
              "      <td>1017</td>\n",
              "      <td>1017</td>\n",
              "      <td>1017</td>\n",
              "      <td>1017</td>\n",
              "      <td>1017</td>\n",
              "      <td>1017</td>\n",
              "      <td>1017</td>\n",
              "      <td>1017</td>\n",
              "      <td>...</td>\n",
              "      <td>1017</td>\n",
              "      <td>1017</td>\n",
              "      <td>1017</td>\n",
              "      <td>1017</td>\n",
              "      <td>1017</td>\n",
              "      <td>1017</td>\n",
              "      <td>1017</td>\n",
              "      <td>1017</td>\n",
              "      <td>1017</td>\n",
              "      <td>1017</td>\n",
              "      <td>1017</td>\n",
              "      <td>1017</td>\n",
              "      <td>1017</td>\n",
              "      <td>1017</td>\n",
              "      <td>1017</td>\n",
              "      <td>1017</td>\n",
              "      <td>1017</td>\n",
              "      <td>1017</td>\n",
              "      <td>1017</td>\n",
              "      <td>1017</td>\n",
              "      <td>1017</td>\n",
              "      <td>1017</td>\n",
              "      <td>1017</td>\n",
              "      <td>1017</td>\n",
              "      <td>1017</td>\n",
              "      <td>1017</td>\n",
              "      <td>1017</td>\n",
              "      <td>1017</td>\n",
              "      <td>1017</td>\n",
              "      <td>1017</td>\n",
              "      <td>1017</td>\n",
              "      <td>1017</td>\n",
              "      <td>1017</td>\n",
              "      <td>1017</td>\n",
              "      <td>1017</td>\n",
              "      <td>1017</td>\n",
              "      <td>1017</td>\n",
              "      <td>1017</td>\n",
              "      <td>1017</td>\n",
              "      <td>1017</td>\n",
              "    </tr>\n",
              "  </tbody>\n",
              "</table>\n",
              "<p>2 rows × 169 columns</p>\n",
              "</div>"
            ],
            "text/plain": [
              "         ID  molecule_name  conformation_name    f1  ...  f163  f164  f165  f166\n",
              "class                                                ...                        \n",
              "0      5581           5581               5581  5581  ...  5581  5581  5581  5581\n",
              "1      1017           1017               1017  1017  ...  1017  1017  1017  1017\n",
              "\n",
              "[2 rows x 169 columns]"
            ]
          },
          "metadata": {
            "tags": []
          },
          "execution_count": 5
        }
      ]
    },
    {
      "cell_type": "code",
      "metadata": {
        "id": "3aaLWPEQzQw2",
        "colab_type": "code",
        "outputId": "55ce526b-0a6a-4264-990a-acb603a31542",
        "colab": {
          "base_uri": "https://localhost:8080/",
          "height": 221
        }
      },
      "source": [
        "df.isna().count()   #looking for any missing value but no missing values found"
      ],
      "execution_count": 6,
      "outputs": [
        {
          "output_type": "execute_result",
          "data": {
            "text/plain": [
              "ID                   6598\n",
              "molecule_name        6598\n",
              "conformation_name    6598\n",
              "f1                   6598\n",
              "f2                   6598\n",
              "                     ... \n",
              "f163                 6598\n",
              "f164                 6598\n",
              "f165                 6598\n",
              "f166                 6598\n",
              "class                6598\n",
              "Length: 170, dtype: int64"
            ]
          },
          "metadata": {
            "tags": []
          },
          "execution_count": 6
        }
      ]
    },
    {
      "cell_type": "markdown",
      "metadata": {
        "id": "7THkm760QXHL",
        "colab_type": "text"
      },
      "source": [
        "Removing unwanted columns"
      ]
    },
    {
      "cell_type": "code",
      "metadata": {
        "id": "zeLG-4Doy6mF",
        "colab_type": "code",
        "colab": {}
      },
      "source": [
        "df=df.drop(['ID',\t'molecule_name',\t'conformation_name'\t],axis=1)"
      ],
      "execution_count": 0,
      "outputs": []
    },
    {
      "cell_type": "code",
      "metadata": {
        "id": "MCz736-LuRXk",
        "colab_type": "code",
        "outputId": "28947c97-5fd9-4eb2-9e7c-168090d69f1e",
        "colab": {
          "base_uri": "https://localhost:8080/",
          "height": 34
        }
      },
      "source": [
        "df.shape"
      ],
      "execution_count": 8,
      "outputs": [
        {
          "output_type": "execute_result",
          "data": {
            "text/plain": [
              "(6598, 167)"
            ]
          },
          "metadata": {
            "tags": []
          },
          "execution_count": 8
        }
      ]
    },
    {
      "cell_type": "code",
      "metadata": {
        "id": "UMGgyd2y1C7a",
        "colab_type": "code",
        "colab": {
          "base_uri": "https://localhost:8080/",
          "height": 255
        },
        "outputId": "f5cfbaf4-0f9b-4dc1-af34-990b7a863cb2"
      },
      "source": [
        "df.head"
      ],
      "execution_count": 9,
      "outputs": [
        {
          "output_type": "execute_result",
          "data": {
            "text/plain": [
              "<bound method NDFrame.head of       f1   f2   f3   f4   f5   f6  ...  f162  f163  f164  f165  f166  class\n",
              "0     46 -108  -60  -69 -117   49  ...   126   156   -50  -112    96      1\n",
              "1     41 -188 -145   22 -117   -6  ...   136   169   -61  -136    79      1\n",
              "2     46 -194 -145   28 -117   73  ...   142   165   -67  -145    39      1\n",
              "3     41 -188 -145   22 -117   -7  ...   136   168   -60  -135    80      1\n",
              "4     41 -188 -145   22 -117   -7  ...   137   168   -60  -135    80      1\n",
              "...   ..  ...  ...  ...  ...  ...  ...   ...   ...   ...   ...   ...    ...\n",
              "6593  51 -123  -23 -108 -117  134  ...   107   171   -44  -115   118      0\n",
              "6594  44 -104  -19 -105 -117  142  ...   129   158   -66  -144    -5      0\n",
              "6595  44 -102  -19 -104 -117   72  ...   130   159   -66  -144    -6      0\n",
              "6596  51 -121  -23 -106 -117   63  ...   106   171   -44  -116   117      0\n",
              "6597  51 -122  -23 -106 -117  190  ...   107   171   -44  -115   118      0\n",
              "\n",
              "[6598 rows x 167 columns]>"
            ]
          },
          "metadata": {
            "tags": []
          },
          "execution_count": 9
        }
      ]
    },
    {
      "cell_type": "markdown",
      "metadata": {
        "id": "jIkpd5_QQfAz",
        "colab_type": "text"
      },
      "source": [
        "Dividing data in 80:20 train test split"
      ]
    },
    {
      "cell_type": "code",
      "metadata": {
        "id": "rZn9vTEr1Ppt",
        "colab_type": "code",
        "colab": {}
      },
      "source": [
        "\n",
        "train,test=train_test_split(df,test_size=0.2)"
      ],
      "execution_count": 0,
      "outputs": []
    },
    {
      "cell_type": "code",
      "metadata": {
        "id": "NRINF66L1Cvt",
        "colab_type": "code",
        "outputId": "00f12282-d7e4-439f-8bea-05a4ca054333",
        "colab": {
          "base_uri": "https://localhost:8080/",
          "height": 34
        }
      },
      "source": [
        "train.shape"
      ],
      "execution_count": 10,
      "outputs": [
        {
          "output_type": "execute_result",
          "data": {
            "text/plain": [
              "(5278, 167)"
            ]
          },
          "metadata": {
            "tags": []
          },
          "execution_count": 10
        }
      ]
    },
    {
      "cell_type": "markdown",
      "metadata": {
        "id": "RFcevk6GQoUk",
        "colab_type": "text"
      },
      "source": [
        "Seperating labels from features"
      ]
    },
    {
      "cell_type": "code",
      "metadata": {
        "id": "D9yKL_mv2XMP",
        "colab_type": "code",
        "colab": {}
      },
      "source": [
        "train_label=train['class']\n",
        "test_label=test['class']"
      ],
      "execution_count": 0,
      "outputs": []
    },
    {
      "cell_type": "code",
      "metadata": {
        "id": "D0jMgb0R2iy6",
        "colab_type": "code",
        "colab": {}
      },
      "source": [
        "train=train.drop(['class'],axis=1)\n",
        "test=test.drop(['class'],axis=1)"
      ],
      "execution_count": 0,
      "outputs": []
    },
    {
      "cell_type": "code",
      "metadata": {
        "id": "Ey3rN3yA5s1K",
        "colab_type": "code",
        "outputId": "57acd178-aff4-46d5-dc65-b995f256511c",
        "colab": {
          "base_uri": "https://localhost:8080/",
          "height": 34
        }
      },
      "source": [
        "train.shape"
      ],
      "execution_count": 13,
      "outputs": [
        {
          "output_type": "execute_result",
          "data": {
            "text/plain": [
              "(5278, 166)"
            ]
          },
          "metadata": {
            "tags": []
          },
          "execution_count": 13
        }
      ]
    },
    {
      "cell_type": "markdown",
      "metadata": {
        "id": "MnMGe6NJQwq9",
        "colab_type": "text"
      },
      "source": [
        "Normalizing data i.e scale data in range of 0 to 1"
      ]
    },
    {
      "cell_type": "code",
      "metadata": {
        "id": "2BZnwoJt9Ow4",
        "colab_type": "code",
        "colab": {}
      },
      "source": [
        "\n",
        "train = pd.DataFrame(preprocessing.normalize(train, norm='l2'))\n",
        "test=pd.DataFrame(preprocessing.normalize(test,norm='l2'))\n"
      ],
      "execution_count": 0,
      "outputs": []
    },
    {
      "cell_type": "code",
      "metadata": {
        "id": "UHsqJFBx9uKN",
        "colab_type": "code",
        "outputId": "4b7c3638-87d5-405f-b790-854da2a8321a",
        "colab": {
          "base_uri": "https://localhost:8080/",
          "height": 253
        }
      },
      "source": [
        "train.head()"
      ],
      "execution_count": 16,
      "outputs": [
        {
          "output_type": "execute_result",
          "data": {
            "text/html": [
              "<div>\n",
              "<style scoped>\n",
              "    .dataframe tbody tr th:only-of-type {\n",
              "        vertical-align: middle;\n",
              "    }\n",
              "\n",
              "    .dataframe tbody tr th {\n",
              "        vertical-align: top;\n",
              "    }\n",
              "\n",
              "    .dataframe thead th {\n",
              "        text-align: right;\n",
              "    }\n",
              "</style>\n",
              "<table border=\"1\" class=\"dataframe\">\n",
              "  <thead>\n",
              "    <tr style=\"text-align: right;\">\n",
              "      <th></th>\n",
              "      <th>0</th>\n",
              "      <th>1</th>\n",
              "      <th>2</th>\n",
              "      <th>3</th>\n",
              "      <th>4</th>\n",
              "      <th>5</th>\n",
              "      <th>6</th>\n",
              "      <th>7</th>\n",
              "      <th>8</th>\n",
              "      <th>9</th>\n",
              "      <th>10</th>\n",
              "      <th>11</th>\n",
              "      <th>12</th>\n",
              "      <th>13</th>\n",
              "      <th>14</th>\n",
              "      <th>15</th>\n",
              "      <th>16</th>\n",
              "      <th>17</th>\n",
              "      <th>18</th>\n",
              "      <th>19</th>\n",
              "      <th>20</th>\n",
              "      <th>21</th>\n",
              "      <th>22</th>\n",
              "      <th>23</th>\n",
              "      <th>24</th>\n",
              "      <th>25</th>\n",
              "      <th>26</th>\n",
              "      <th>27</th>\n",
              "      <th>28</th>\n",
              "      <th>29</th>\n",
              "      <th>30</th>\n",
              "      <th>31</th>\n",
              "      <th>32</th>\n",
              "      <th>33</th>\n",
              "      <th>34</th>\n",
              "      <th>35</th>\n",
              "      <th>36</th>\n",
              "      <th>37</th>\n",
              "      <th>38</th>\n",
              "      <th>39</th>\n",
              "      <th>...</th>\n",
              "      <th>126</th>\n",
              "      <th>127</th>\n",
              "      <th>128</th>\n",
              "      <th>129</th>\n",
              "      <th>130</th>\n",
              "      <th>131</th>\n",
              "      <th>132</th>\n",
              "      <th>133</th>\n",
              "      <th>134</th>\n",
              "      <th>135</th>\n",
              "      <th>136</th>\n",
              "      <th>137</th>\n",
              "      <th>138</th>\n",
              "      <th>139</th>\n",
              "      <th>140</th>\n",
              "      <th>141</th>\n",
              "      <th>142</th>\n",
              "      <th>143</th>\n",
              "      <th>144</th>\n",
              "      <th>145</th>\n",
              "      <th>146</th>\n",
              "      <th>147</th>\n",
              "      <th>148</th>\n",
              "      <th>149</th>\n",
              "      <th>150</th>\n",
              "      <th>151</th>\n",
              "      <th>152</th>\n",
              "      <th>153</th>\n",
              "      <th>154</th>\n",
              "      <th>155</th>\n",
              "      <th>156</th>\n",
              "      <th>157</th>\n",
              "      <th>158</th>\n",
              "      <th>159</th>\n",
              "      <th>160</th>\n",
              "      <th>161</th>\n",
              "      <th>162</th>\n",
              "      <th>163</th>\n",
              "      <th>164</th>\n",
              "      <th>165</th>\n",
              "    </tr>\n",
              "  </thead>\n",
              "  <tbody>\n",
              "    <tr>\n",
              "      <th>0</th>\n",
              "      <td>0.027556</td>\n",
              "      <td>-0.064697</td>\n",
              "      <td>-0.035943</td>\n",
              "      <td>-0.067692</td>\n",
              "      <td>-0.070088</td>\n",
              "      <td>-0.079074</td>\n",
              "      <td>0.022764</td>\n",
              "      <td>-0.096446</td>\n",
              "      <td>-0.004792</td>\n",
              "      <td>-0.013778</td>\n",
              "      <td>-0.163540</td>\n",
              "      <td>-0.131790</td>\n",
              "      <td>-0.047325</td>\n",
              "      <td>-0.179115</td>\n",
              "      <td>-0.170728</td>\n",
              "      <td>-0.183308</td>\n",
              "      <td>-0.018570</td>\n",
              "      <td>-0.063499</td>\n",
              "      <td>-0.135983</td>\n",
              "      <td>-0.119210</td>\n",
              "      <td>-0.035344</td>\n",
              "      <td>-0.013179</td>\n",
              "      <td>-0.040136</td>\n",
              "      <td>0.073683</td>\n",
              "      <td>0.014377</td>\n",
              "      <td>0.010184</td>\n",
              "      <td>-0.016174</td>\n",
              "      <td>-0.053315</td>\n",
              "      <td>-0.058706</td>\n",
              "      <td>0.042532</td>\n",
              "      <td>-0.069489</td>\n",
              "      <td>0.074282</td>\n",
              "      <td>-0.064098</td>\n",
              "      <td>0.008986</td>\n",
              "      <td>-0.071886</td>\n",
              "      <td>0.037740</td>\n",
              "      <td>-0.104833</td>\n",
              "      <td>0.024561</td>\n",
              "      <td>-0.016174</td>\n",
              "      <td>0.040735</td>\n",
              "      <td>...</td>\n",
              "      <td>0.025160</td>\n",
              "      <td>0.037141</td>\n",
              "      <td>0.007189</td>\n",
              "      <td>-0.112022</td>\n",
              "      <td>0.026957</td>\n",
              "      <td>-0.070687</td>\n",
              "      <td>-0.044928</td>\n",
              "      <td>-0.109026</td>\n",
              "      <td>-0.140776</td>\n",
              "      <td>-0.010783</td>\n",
              "      <td>0.007189</td>\n",
              "      <td>-0.007788</td>\n",
              "      <td>-0.024561</td>\n",
              "      <td>-0.071886</td>\n",
              "      <td>-0.089258</td>\n",
              "      <td>0.041933</td>\n",
              "      <td>0.010783</td>\n",
              "      <td>-0.011382</td>\n",
              "      <td>-0.106031</td>\n",
              "      <td>-0.061103</td>\n",
              "      <td>-0.069489</td>\n",
              "      <td>-0.008387</td>\n",
              "      <td>-0.029952</td>\n",
              "      <td>0.014377</td>\n",
              "      <td>-0.048523</td>\n",
              "      <td>-0.074881</td>\n",
              "      <td>-0.068291</td>\n",
              "      <td>-0.026358</td>\n",
              "      <td>0.077277</td>\n",
              "      <td>0.001797</td>\n",
              "      <td>-0.145568</td>\n",
              "      <td>-0.052716</td>\n",
              "      <td>-0.080272</td>\n",
              "      <td>-0.004193</td>\n",
              "      <td>0.023363</td>\n",
              "      <td>0.075480</td>\n",
              "      <td>0.093451</td>\n",
              "      <td>-0.029952</td>\n",
              "      <td>-0.067692</td>\n",
              "      <td>0.057508</td>\n",
              "    </tr>\n",
              "    <tr>\n",
              "      <th>1</th>\n",
              "      <td>0.022892</td>\n",
              "      <td>-0.076660</td>\n",
              "      <td>0.016503</td>\n",
              "      <td>-0.042057</td>\n",
              "      <td>-0.062286</td>\n",
              "      <td>0.040992</td>\n",
              "      <td>-0.079322</td>\n",
              "      <td>-0.061754</td>\n",
              "      <td>-0.124041</td>\n",
              "      <td>0.000000</td>\n",
              "      <td>-0.096890</td>\n",
              "      <td>-0.116055</td>\n",
              "      <td>-0.041524</td>\n",
              "      <td>-0.102214</td>\n",
              "      <td>-0.064948</td>\n",
              "      <td>-0.158112</td>\n",
              "      <td>-0.113926</td>\n",
              "      <td>-0.130429</td>\n",
              "      <td>-0.070804</td>\n",
              "      <td>-0.004259</td>\n",
              "      <td>-0.142141</td>\n",
              "      <td>-0.096890</td>\n",
              "      <td>-0.122976</td>\n",
              "      <td>0.104343</td>\n",
              "      <td>0.043654</td>\n",
              "      <td>-0.125638</td>\n",
              "      <td>0.023424</td>\n",
              "      <td>-0.085178</td>\n",
              "      <td>-0.017568</td>\n",
              "      <td>0.052704</td>\n",
              "      <td>-0.062286</td>\n",
              "      <td>-0.048445</td>\n",
              "      <td>-0.009583</td>\n",
              "      <td>-0.019165</td>\n",
              "      <td>-0.083049</td>\n",
              "      <td>0.077193</td>\n",
              "      <td>-0.088372</td>\n",
              "      <td>0.023424</td>\n",
              "      <td>-0.017036</td>\n",
              "      <td>0.050574</td>\n",
              "      <td>...</td>\n",
              "      <td>-0.013841</td>\n",
              "      <td>0.034071</td>\n",
              "      <td>-0.019697</td>\n",
              "      <td>-0.100084</td>\n",
              "      <td>-0.046848</td>\n",
              "      <td>-0.059092</td>\n",
              "      <td>-0.145335</td>\n",
              "      <td>-0.138414</td>\n",
              "      <td>-0.094761</td>\n",
              "      <td>0.028748</td>\n",
              "      <td>-0.029280</td>\n",
              "      <td>-0.024489</td>\n",
              "      <td>-0.122976</td>\n",
              "      <td>-0.109667</td>\n",
              "      <td>-0.115523</td>\n",
              "      <td>0.042057</td>\n",
              "      <td>-0.012777</td>\n",
              "      <td>-0.058028</td>\n",
              "      <td>-0.094761</td>\n",
              "      <td>-0.054833</td>\n",
              "      <td>-0.065481</td>\n",
              "      <td>0.046316</td>\n",
              "      <td>0.026086</td>\n",
              "      <td>0.044719</td>\n",
              "      <td>-0.053769</td>\n",
              "      <td>-0.066013</td>\n",
              "      <td>-0.059625</td>\n",
              "      <td>-0.022359</td>\n",
              "      <td>-0.021827</td>\n",
              "      <td>-0.026086</td>\n",
              "      <td>-0.124573</td>\n",
              "      <td>-0.162903</td>\n",
              "      <td>0.026086</td>\n",
              "      <td>-0.017036</td>\n",
              "      <td>0.078257</td>\n",
              "      <td>0.067078</td>\n",
              "      <td>0.086243</td>\n",
              "      <td>-0.035136</td>\n",
              "      <td>-0.078257</td>\n",
              "      <td>-0.004791</td>\n",
              "    </tr>\n",
              "    <tr>\n",
              "      <th>2</th>\n",
              "      <td>0.019186</td>\n",
              "      <td>-0.107444</td>\n",
              "      <td>-0.060848</td>\n",
              "      <td>-0.030698</td>\n",
              "      <td>-0.064137</td>\n",
              "      <td>0.029054</td>\n",
              "      <td>0.014253</td>\n",
              "      <td>-0.056463</td>\n",
              "      <td>-0.011512</td>\n",
              "      <td>0.003837</td>\n",
              "      <td>-0.168292</td>\n",
              "      <td>-0.117311</td>\n",
              "      <td>-0.058656</td>\n",
              "      <td>-0.155136</td>\n",
              "      <td>-0.155136</td>\n",
              "      <td>-0.165003</td>\n",
              "      <td>-0.030698</td>\n",
              "      <td>-0.041662</td>\n",
              "      <td>-0.104703</td>\n",
              "      <td>-0.025216</td>\n",
              "      <td>-0.033987</td>\n",
              "      <td>-0.008223</td>\n",
              "      <td>-0.023572</td>\n",
              "      <td>0.103058</td>\n",
              "      <td>0.043855</td>\n",
              "      <td>0.012608</td>\n",
              "      <td>-0.010415</td>\n",
              "      <td>-0.072908</td>\n",
              "      <td>-0.035084</td>\n",
              "      <td>0.057011</td>\n",
              "      <td>0.141431</td>\n",
              "      <td>0.067975</td>\n",
              "      <td>-0.012060</td>\n",
              "      <td>0.001645</td>\n",
              "      <td>-0.075101</td>\n",
              "      <td>0.015897</td>\n",
              "      <td>-0.089354</td>\n",
              "      <td>0.040017</td>\n",
              "      <td>-0.079487</td>\n",
              "      <td>0.038373</td>\n",
              "      <td>...</td>\n",
              "      <td>-0.013156</td>\n",
              "      <td>0.043855</td>\n",
              "      <td>-0.058656</td>\n",
              "      <td>-0.102510</td>\n",
              "      <td>-0.001645</td>\n",
              "      <td>-0.074553</td>\n",
              "      <td>-0.035632</td>\n",
              "      <td>-0.090450</td>\n",
              "      <td>-0.112926</td>\n",
              "      <td>-0.010964</td>\n",
              "      <td>0.025216</td>\n",
              "      <td>-0.063589</td>\n",
              "      <td>-0.001645</td>\n",
              "      <td>-0.018090</td>\n",
              "      <td>-0.052077</td>\n",
              "      <td>0.041662</td>\n",
              "      <td>0.043306</td>\n",
              "      <td>0.032891</td>\n",
              "      <td>-0.097577</td>\n",
              "      <td>-0.056463</td>\n",
              "      <td>-0.065782</td>\n",
              "      <td>-0.018638</td>\n",
              "      <td>-0.055915</td>\n",
              "      <td>0.021927</td>\n",
              "      <td>-0.054270</td>\n",
              "      <td>-0.069071</td>\n",
              "      <td>-0.061945</td>\n",
              "      <td>-0.083324</td>\n",
              "      <td>0.006578</td>\n",
              "      <td>-0.043306</td>\n",
              "      <td>-0.131016</td>\n",
              "      <td>-0.166099</td>\n",
              "      <td>0.030150</td>\n",
              "      <td>-0.071264</td>\n",
              "      <td>0.001645</td>\n",
              "      <td>0.011512</td>\n",
              "      <td>0.219273</td>\n",
              "      <td>0.079487</td>\n",
              "      <td>0.003837</td>\n",
              "      <td>-0.204472</td>\n",
              "    </tr>\n",
              "    <tr>\n",
              "      <th>3</th>\n",
              "      <td>0.026506</td>\n",
              "      <td>-0.109409</td>\n",
              "      <td>-0.081774</td>\n",
              "      <td>-0.042861</td>\n",
              "      <td>-0.065984</td>\n",
              "      <td>0.005640</td>\n",
              "      <td>0.032146</td>\n",
              "      <td>-0.094746</td>\n",
              "      <td>-0.022558</td>\n",
              "      <td>-0.013535</td>\n",
              "      <td>-0.163549</td>\n",
              "      <td>-0.063164</td>\n",
              "      <td>-0.039477</td>\n",
              "      <td>-0.155090</td>\n",
              "      <td>-0.160165</td>\n",
              "      <td>-0.170317</td>\n",
              "      <td>0.029890</td>\n",
              "      <td>-0.084594</td>\n",
              "      <td>-0.056396</td>\n",
              "      <td>-0.102641</td>\n",
              "      <td>-0.015791</td>\n",
              "      <td>-0.012407</td>\n",
              "      <td>0.001128</td>\n",
              "      <td>0.056396</td>\n",
              "      <td>0.062600</td>\n",
              "      <td>-0.019175</td>\n",
              "      <td>0.026506</td>\n",
              "      <td>-0.050193</td>\n",
              "      <td>0.014663</td>\n",
              "      <td>0.038913</td>\n",
              "      <td>-0.065420</td>\n",
              "      <td>-0.011279</td>\n",
              "      <td>-0.034402</td>\n",
              "      <td>0.007895</td>\n",
              "      <td>-0.074443</td>\n",
              "      <td>0.181032</td>\n",
              "      <td>-0.098693</td>\n",
              "      <td>0.002256</td>\n",
              "      <td>-0.081774</td>\n",
              "      <td>0.021431</td>\n",
              "      <td>...</td>\n",
              "      <td>0.023122</td>\n",
              "      <td>0.032710</td>\n",
              "      <td>0.007895</td>\n",
              "      <td>-0.087414</td>\n",
              "      <td>-0.007895</td>\n",
              "      <td>0.054140</td>\n",
              "      <td>-0.041169</td>\n",
              "      <td>-0.071059</td>\n",
              "      <td>-0.122944</td>\n",
              "      <td>-0.051885</td>\n",
              "      <td>0.029890</td>\n",
              "      <td>-0.043425</td>\n",
              "      <td>-0.011279</td>\n",
              "      <td>-0.019739</td>\n",
              "      <td>-0.015791</td>\n",
              "      <td>0.002820</td>\n",
              "      <td>0.027634</td>\n",
              "      <td>0.009023</td>\n",
              "      <td>-0.100385</td>\n",
              "      <td>-0.058088</td>\n",
              "      <td>-0.067675</td>\n",
              "      <td>-0.036658</td>\n",
              "      <td>-0.045117</td>\n",
              "      <td>0.029326</td>\n",
              "      <td>-0.063728</td>\n",
              "      <td>-0.068239</td>\n",
              "      <td>-0.063164</td>\n",
              "      <td>-0.095310</td>\n",
              "      <td>-0.009023</td>\n",
              "      <td>-0.106025</td>\n",
              "      <td>-0.134223</td>\n",
              "      <td>-0.043425</td>\n",
              "      <td>-0.073315</td>\n",
              "      <td>-0.072751</td>\n",
              "      <td>-0.016355</td>\n",
              "      <td>0.116740</td>\n",
              "      <td>0.156781</td>\n",
              "      <td>0.023122</td>\n",
              "      <td>0.040605</td>\n",
              "      <td>0.149450</td>\n",
              "    </tr>\n",
              "    <tr>\n",
              "      <th>4</th>\n",
              "      <td>0.025903</td>\n",
              "      <td>-0.087951</td>\n",
              "      <td>0.020482</td>\n",
              "      <td>-0.015060</td>\n",
              "      <td>-0.070481</td>\n",
              "      <td>-0.090360</td>\n",
              "      <td>-0.086144</td>\n",
              "      <td>0.007831</td>\n",
              "      <td>-0.138553</td>\n",
              "      <td>-0.024699</td>\n",
              "      <td>-0.023494</td>\n",
              "      <td>-0.048192</td>\n",
              "      <td>-0.048192</td>\n",
              "      <td>-0.059035</td>\n",
              "      <td>-0.066867</td>\n",
              "      <td>-0.146986</td>\n",
              "      <td>-0.127709</td>\n",
              "      <td>-0.086746</td>\n",
              "      <td>-0.001807</td>\n",
              "      <td>-0.021084</td>\n",
              "      <td>-0.123493</td>\n",
              "      <td>-0.107830</td>\n",
              "      <td>-0.109035</td>\n",
              "      <td>0.162046</td>\n",
              "      <td>0.158432</td>\n",
              "      <td>-0.119276</td>\n",
              "      <td>0.027108</td>\n",
              "      <td>-0.087348</td>\n",
              "      <td>-0.028313</td>\n",
              "      <td>0.086746</td>\n",
              "      <td>-0.070481</td>\n",
              "      <td>-0.055421</td>\n",
              "      <td>-0.010241</td>\n",
              "      <td>-0.066867</td>\n",
              "      <td>-0.093975</td>\n",
              "      <td>0.087348</td>\n",
              "      <td>-0.105420</td>\n",
              "      <td>0.025903</td>\n",
              "      <td>-0.018674</td>\n",
              "      <td>0.057228</td>\n",
              "      <td>...</td>\n",
              "      <td>-0.054216</td>\n",
              "      <td>-0.023494</td>\n",
              "      <td>-0.069276</td>\n",
              "      <td>-0.112649</td>\n",
              "      <td>-0.051807</td>\n",
              "      <td>-0.065662</td>\n",
              "      <td>-0.136745</td>\n",
              "      <td>-0.084939</td>\n",
              "      <td>-0.051204</td>\n",
              "      <td>0.033132</td>\n",
              "      <td>-0.036747</td>\n",
              "      <td>-0.028313</td>\n",
              "      <td>-0.116264</td>\n",
              "      <td>-0.042168</td>\n",
              "      <td>-0.045783</td>\n",
              "      <td>0.047590</td>\n",
              "      <td>-0.017470</td>\n",
              "      <td>-0.067469</td>\n",
              "      <td>-0.101204</td>\n",
              "      <td>-0.036144</td>\n",
              "      <td>0.034939</td>\n",
              "      <td>0.054216</td>\n",
              "      <td>0.031325</td>\n",
              "      <td>0.051204</td>\n",
              "      <td>-0.060240</td>\n",
              "      <td>-0.074698</td>\n",
              "      <td>-0.067469</td>\n",
              "      <td>-0.024699</td>\n",
              "      <td>-0.025903</td>\n",
              "      <td>-0.028915</td>\n",
              "      <td>-0.140360</td>\n",
              "      <td>-0.130119</td>\n",
              "      <td>-0.120481</td>\n",
              "      <td>-0.019277</td>\n",
              "      <td>0.087951</td>\n",
              "      <td>0.074698</td>\n",
              "      <td>0.095782</td>\n",
              "      <td>-0.039759</td>\n",
              "      <td>-0.086746</td>\n",
              "      <td>-0.003614</td>\n",
              "    </tr>\n",
              "  </tbody>\n",
              "</table>\n",
              "<p>5 rows × 166 columns</p>\n",
              "</div>"
            ],
            "text/plain": [
              "        0         1         2    ...       163       164       165\n",
              "0  0.027556 -0.064697 -0.035943  ... -0.029952 -0.067692  0.057508\n",
              "1  0.022892 -0.076660  0.016503  ... -0.035136 -0.078257 -0.004791\n",
              "2  0.019186 -0.107444 -0.060848  ...  0.079487  0.003837 -0.204472\n",
              "3  0.026506 -0.109409 -0.081774  ...  0.023122  0.040605  0.149450\n",
              "4  0.025903 -0.087951  0.020482  ... -0.039759 -0.086746 -0.003614\n",
              "\n",
              "[5 rows x 166 columns]"
            ]
          },
          "metadata": {
            "tags": []
          },
          "execution_count": 16
        }
      ]
    },
    {
      "cell_type": "markdown",
      "metadata": {
        "id": "7Eh9aJP9CVOt",
        "colab_type": "text"
      },
      "source": [
        "Deep learning solution Using MLPClassifier "
      ]
    },
    {
      "cell_type": "code",
      "metadata": {
        "id": "5adEhekKCjZz",
        "colab_type": "code",
        "colab": {
          "base_uri": "https://localhost:8080/",
          "height": 153
        },
        "outputId": "b134f2d0-4e22-449a-b81f-e181612bad88"
      },
      "source": [
        "from sklearn.neural_network import MLPClassifier\n",
        "num_epoch=10\n",
        "train_score=[]\n",
        " \n",
        "mlp = MLPClassifier(hidden_layer_sizes=(10,10),solver='sgd',activation='relu',\n",
        "                      learning_rate_init=0.01,max_iter=500,validation_fraction=0.2,early_stopping=True,)\n",
        "\n",
        "mlp.fit(train,train_label)\n",
        " "
      ],
      "execution_count": 67,
      "outputs": [
        {
          "output_type": "execute_result",
          "data": {
            "text/plain": [
              "MLPClassifier(activation='relu', alpha=0.0001, batch_size='auto', beta_1=0.9,\n",
              "              beta_2=0.999, early_stopping=True, epsilon=1e-08,\n",
              "              hidden_layer_sizes=(10, 10), learning_rate='constant',\n",
              "              learning_rate_init=0.01, max_fun=15000, max_iter=500,\n",
              "              momentum=0.9, n_iter_no_change=10, nesterovs_momentum=True,\n",
              "              power_t=0.5, random_state=None, shuffle=True, solver='sgd',\n",
              "              tol=0.0001, validation_fraction=0.2, verbose=False,\n",
              "              warm_start=False)"
            ]
          },
          "metadata": {
            "tags": []
          },
          "execution_count": 67
        }
      ]
    },
    {
      "cell_type": "code",
      "metadata": {
        "id": "ERV2D8dPzfJT",
        "colab_type": "code",
        "colab": {}
      },
      "source": [
        "y_pred=mlp.predict(test)"
      ],
      "execution_count": 0,
      "outputs": []
    },
    {
      "cell_type": "markdown",
      "metadata": {
        "id": "NdbPgmoARRT2",
        "colab_type": "text"
      },
      "source": [
        "Deep learning solution using Sequential MLP model of keras"
      ]
    },
    {
      "cell_type": "code",
      "metadata": {
        "id": "AstCizz-xJrF",
        "colab_type": "code",
        "colab": {}
      },
      "source": [
        "model=Sequential()\n",
        "model.add(Dense(20,input_dim=(166),activation='relu'))\n",
        "model.add(Dense(10,activation='relu'))\n",
        "model.add(Dense(20,activation='relu'))\n",
        "model.add(Dense(1,activation='sigmoid'))\n",
        "\n",
        "\n"
      ],
      "execution_count": 0,
      "outputs": []
    },
    {
      "cell_type": "code",
      "metadata": {
        "id": "4tsup-ef_j7o",
        "colab_type": "code",
        "colab": {}
      },
      "source": [
        "opt=RMSprop(lr=0.01)\n",
        "model.compile(optimizer=opt,\n",
        "              loss='binary_crossentropy',\n",
        "              metrics=['accuracy'])"
      ],
      "execution_count": 0,
      "outputs": []
    },
    {
      "cell_type": "code",
      "metadata": {
        "id": "7iPNgtqSyToE",
        "colab_type": "code",
        "outputId": "e22d3e03-dd83-4b79-a65f-10d0ef3172e1",
        "colab": {
          "base_uri": "https://localhost:8080/",
          "height": 289
        }
      },
      "source": [
        "model.summary()"
      ],
      "execution_count": 129,
      "outputs": [
        {
          "output_type": "stream",
          "text": [
            "Model: \"sequential_13\"\n",
            "_________________________________________________________________\n",
            "Layer (type)                 Output Shape              Param #   \n",
            "=================================================================\n",
            "dense_51 (Dense)             (None, 20)                3340      \n",
            "_________________________________________________________________\n",
            "dense_52 (Dense)             (None, 10)                210       \n",
            "_________________________________________________________________\n",
            "dense_53 (Dense)             (None, 20)                220       \n",
            "_________________________________________________________________\n",
            "dense_54 (Dense)             (None, 1)                 21        \n",
            "=================================================================\n",
            "Total params: 3,791\n",
            "Trainable params: 3,791\n",
            "Non-trainable params: 0\n",
            "_________________________________________________________________\n"
          ],
          "name": "stdout"
        }
      ]
    },
    {
      "cell_type": "markdown",
      "metadata": {
        "id": "BlHg_1c4RixX",
        "colab_type": "text"
      },
      "source": [
        "Training the model with 80% training and 20% validation"
      ]
    },
    {
      "cell_type": "code",
      "metadata": {
        "id": "gwIjApWUxtyx",
        "colab_type": "code",
        "outputId": "b2b1ee78-984f-4705-e069-952b4af8e62f",
        "colab": {
          "base_uri": "https://localhost:8080/",
          "height": 904
        }
      },
      "source": [
        "history=model.fit(train,train_label,epochs=25,batch_size=100,validation_split=0.2)"
      ],
      "execution_count": 130,
      "outputs": [
        {
          "output_type": "stream",
          "text": [
            "Train on 4222 samples, validate on 1056 samples\n",
            "Epoch 1/25\n",
            "4222/4222 [==============================] - 1s 262us/step - loss: 0.3668 - acc: 0.8392 - val_loss: 0.3723 - val_acc: 0.8513\n",
            "Epoch 2/25\n",
            "4222/4222 [==============================] - 0s 21us/step - loss: 0.2519 - acc: 0.9053 - val_loss: 0.2188 - val_acc: 0.9261\n",
            "Epoch 3/25\n",
            "4222/4222 [==============================] - 0s 21us/step - loss: 0.1954 - acc: 0.9275 - val_loss: 0.2368 - val_acc: 0.9214\n",
            "Epoch 4/25\n",
            "4222/4222 [==============================] - 0s 21us/step - loss: 0.1724 - acc: 0.9363 - val_loss: 0.1709 - val_acc: 0.9261\n",
            "Epoch 5/25\n",
            "4222/4222 [==============================] - 0s 20us/step - loss: 0.1474 - acc: 0.9420 - val_loss: 0.5056 - val_acc: 0.8750\n",
            "Epoch 6/25\n",
            "4222/4222 [==============================] - 0s 20us/step - loss: 0.1357 - acc: 0.9510 - val_loss: 0.1470 - val_acc: 0.9366\n",
            "Epoch 7/25\n",
            "4222/4222 [==============================] - 0s 22us/step - loss: 0.1164 - acc: 0.9538 - val_loss: 0.3858 - val_acc: 0.8390\n",
            "Epoch 8/25\n",
            "4222/4222 [==============================] - 0s 20us/step - loss: 0.1196 - acc: 0.9588 - val_loss: 0.1117 - val_acc: 0.9536\n",
            "Epoch 9/25\n",
            "4222/4222 [==============================] - 0s 21us/step - loss: 0.0953 - acc: 0.9642 - val_loss: 0.1531 - val_acc: 0.9422\n",
            "Epoch 10/25\n",
            "4222/4222 [==============================] - 0s 21us/step - loss: 0.1039 - acc: 0.9619 - val_loss: 0.1113 - val_acc: 0.9574\n",
            "Epoch 11/25\n",
            "4222/4222 [==============================] - 0s 21us/step - loss: 0.0927 - acc: 0.9654 - val_loss: 0.1013 - val_acc: 0.9612\n",
            "Epoch 12/25\n",
            "4222/4222 [==============================] - 0s 20us/step - loss: 0.0736 - acc: 0.9751 - val_loss: 0.1069 - val_acc: 0.9545\n",
            "Epoch 13/25\n",
            "4222/4222 [==============================] - 0s 21us/step - loss: 0.0707 - acc: 0.9735 - val_loss: 0.1297 - val_acc: 0.9527\n",
            "Epoch 14/25\n",
            "4222/4222 [==============================] - 0s 22us/step - loss: 0.0707 - acc: 0.9735 - val_loss: 0.1509 - val_acc: 0.9356\n",
            "Epoch 15/25\n",
            "4222/4222 [==============================] - 0s 21us/step - loss: 0.0752 - acc: 0.9716 - val_loss: 0.1122 - val_acc: 0.9508\n",
            "Epoch 16/25\n",
            "4222/4222 [==============================] - 0s 21us/step - loss: 0.0571 - acc: 0.9780 - val_loss: 0.0731 - val_acc: 0.9754\n",
            "Epoch 17/25\n",
            "4222/4222 [==============================] - 0s 21us/step - loss: 0.0563 - acc: 0.9782 - val_loss: 0.0788 - val_acc: 0.9697\n",
            "Epoch 18/25\n",
            "4222/4222 [==============================] - 0s 21us/step - loss: 0.0558 - acc: 0.9811 - val_loss: 0.0888 - val_acc: 0.9678\n",
            "Epoch 19/25\n",
            "4222/4222 [==============================] - 0s 21us/step - loss: 0.0641 - acc: 0.9787 - val_loss: 0.1293 - val_acc: 0.9621\n",
            "Epoch 20/25\n",
            "4222/4222 [==============================] - 0s 22us/step - loss: 0.0583 - acc: 0.9782 - val_loss: 0.1343 - val_acc: 0.9470\n",
            "Epoch 21/25\n",
            "4222/4222 [==============================] - 0s 20us/step - loss: 0.0562 - acc: 0.9794 - val_loss: 0.0987 - val_acc: 0.9602\n",
            "Epoch 22/25\n",
            "4222/4222 [==============================] - 0s 20us/step - loss: 0.0464 - acc: 0.9822 - val_loss: 0.0746 - val_acc: 0.9735\n",
            "Epoch 23/25\n",
            "4222/4222 [==============================] - 0s 21us/step - loss: 0.0389 - acc: 0.9848 - val_loss: 0.0695 - val_acc: 0.9773\n",
            "Epoch 24/25\n",
            "4222/4222 [==============================] - 0s 21us/step - loss: 0.0487 - acc: 0.9827 - val_loss: 0.0821 - val_acc: 0.9725\n",
            "Epoch 25/25\n",
            "4222/4222 [==============================] - 0s 22us/step - loss: 0.0695 - acc: 0.9796 - val_loss: 0.0584 - val_acc: 0.9782\n"
          ],
          "name": "stdout"
        }
      ]
    },
    {
      "cell_type": "markdown",
      "metadata": {
        "id": "40qBueZnRvCE",
        "colab_type": "text"
      },
      "source": [
        "Plotting train validation loss"
      ]
    },
    {
      "cell_type": "code",
      "metadata": {
        "id": "aOvRy3S20Nw_",
        "colab_type": "code",
        "outputId": "224425ea-9d87-430a-9090-cd15fc39a55f",
        "colab": {
          "base_uri": "https://localhost:8080/",
          "height": 295
        }
      },
      "source": [
        "plt.plot(history.history['loss'])\n",
        "plt.plot(history.history['val_loss'])\n",
        "plt.title('model loss')\n",
        "plt.ylabel('loss')\n",
        "plt.xlabel('epoch')\n",
        "plt.legend(['train', 'validation'], loc='upper left')\n",
        "plt.show()"
      ],
      "execution_count": 131,
      "outputs": [
        {
          "output_type": "display_data",
          "data": {
            "image/png": "[encoded data removed]",
            "text/plain": [
              "<Figure size 432x288 with 1 Axes>"
            ]
          },
          "metadata": {
            "tags": []
          }
        }
      ]
    },
    {
      "cell_type": "code",
      "metadata": {
        "id": "cvMvDW-oTQzj",
        "colab_type": "code",
        "outputId": "27969217-127b-4942-8040-c551c38a30e9",
        "colab": {
          "base_uri": "https://localhost:8080/",
          "height": 295
        }
      },
      "source": [
        "plt.plot(history.history['acc'])\n",
        "plt.plot(history.history['val_acc'])\n",
        "plt.title('model accuracy')\n",
        "plt.ylabel('accuracy')\n",
        "plt.xlabel('epoch')\n",
        "plt.legend(['train', 'validation'], loc='upper left')\n",
        "plt.show()"
      ],
      "execution_count": 132,
      "outputs": [
        {
          "output_type": "display_data",
          "data": {
            "image/png": "[encoded data removed]",
            "text/plain": [
              "<Figure size 432x288 with 1 Axes>"
            ]
          },
          "metadata": {
            "tags": []
          }
        }
      ]
    },
    {
      "cell_type": "markdown",
      "metadata": {
        "id": "86R1ykfeR2I6",
        "colab_type": "text"
      },
      "source": [
        "Using trained model to predict test data"
      ]
    },
    {
      "cell_type": "code",
      "metadata": {
        "id": "P2IH6NQqyKiF",
        "colab_type": "code",
        "colab": {}
      },
      "source": [
        "\n",
        "\n",
        "y_pred=model.predict_classes(test)\n",
        "y_pred=y_pred[:,0]\n"
      ],
      "execution_count": 0,
      "outputs": []
    },
    {
      "cell_type": "markdown",
      "metadata": {
        "id": "SvuRKuuLzc3A",
        "colab_type": "text"
      },
      "source": [
        "calculating accuracy_score"
      ]
    },
    {
      "cell_type": "code",
      "metadata": {
        "id": "6MJSZF80zVyv",
        "colab_type": "code",
        "outputId": "40bd8474-852b-486d-91e8-0ee552a47cfc",
        "colab": {
          "base_uri": "https://localhost:8080/",
          "height": 34
        }
      },
      "source": [
        "accuracy = accuracy_score(test_label, y_pred)\n",
        "print('Accuracy: %f' % accuracy)"
      ],
      "execution_count": 134,
      "outputs": [
        {
          "output_type": "stream",
          "text": [
            "Accuracy: 0.986364\n"
          ],
          "name": "stdout"
        }
      ]
    },
    {
      "cell_type": "markdown",
      "metadata": {
        "id": "sQ8cdzuPGxiw",
        "colab_type": "text"
      },
      "source": [
        "calculating precision"
      ]
    },
    {
      "cell_type": "code",
      "metadata": {
        "id": "nZ1vOmQ7G29y",
        "colab_type": "code",
        "outputId": "874899ce-c3e3-46e7-f24c-7da14910a772",
        "colab": {
          "base_uri": "https://localhost:8080/",
          "height": 34
        }
      },
      "source": [
        "precision = precision_score(test_label, y_pred)\n",
        "print('Precision: %f' % precision)"
      ],
      "execution_count": 135,
      "outputs": [
        {
          "output_type": "stream",
          "text": [
            "Precision: 0.989529\n"
          ],
          "name": "stdout"
        }
      ]
    },
    {
      "cell_type": "markdown",
      "metadata": {
        "id": "UCoRApk0HBY8",
        "colab_type": "text"
      },
      "source": [
        "calculating Recall"
      ]
    },
    {
      "cell_type": "code",
      "metadata": {
        "id": "3mCciIMgHAQQ",
        "colab_type": "code",
        "outputId": "8c35d5cc-b41a-4f27-c117-83b3384bfb33",
        "colab": {
          "base_uri": "https://localhost:8080/",
          "height": 34
        }
      },
      "source": [
        "recall = recall_score(test_label, y_pred)\n",
        "print('Recall: %f' % recall)"
      ],
      "execution_count": 136,
      "outputs": [
        {
          "output_type": "stream",
          "text": [
            "Recall: 0.921951\n"
          ],
          "name": "stdout"
        }
      ]
    },
    {
      "cell_type": "markdown",
      "metadata": {
        "id": "13zqQPuOHQBQ",
        "colab_type": "text"
      },
      "source": [
        "calculating f1 score"
      ]
    },
    {
      "cell_type": "code",
      "metadata": {
        "id": "BPbdHAW4HX8N",
        "colab_type": "code",
        "outputId": "9e4ee2a3-4b75-41a6-fa4f-9314c8ddad58",
        "colab": {
          "base_uri": "https://localhost:8080/",
          "height": 34
        }
      },
      "source": [
        "f1 = f1_score(test_label, y_pred)\n",
        "print('F1 score: %f' % f1)"
      ],
      "execution_count": 137,
      "outputs": [
        {
          "output_type": "stream",
          "text": [
            "F1 score: 0.954545\n"
          ],
          "name": "stdout"
        }
      ]
    },
    {
      "cell_type": "markdown",
      "metadata": {
        "id": "7qStb0f6Hdyz",
        "colab_type": "text"
      },
      "source": [
        "confusion matrix"
      ]
    },
    {
      "cell_type": "code",
      "metadata": {
        "id": "zYpH9iWGHoaB",
        "colab_type": "code",
        "outputId": "5ecf2d73-f851-49c0-e22b-4afd2560c173",
        "colab": {
          "base_uri": "https://localhost:8080/",
          "height": 51
        }
      },
      "source": [
        "matrix = confusion_matrix(test_label, y_pred)\n",
        "print(matrix)"
      ],
      "execution_count": 138,
      "outputs": [
        {
          "output_type": "stream",
          "text": [
            "[[1113    2]\n",
            " [  16  189]]\n"
          ],
          "name": "stdout"
        }
      ]
    },
    {
      "cell_type": "markdown",
      "metadata": {
        "id": "xJ2FiBc7HwW0",
        "colab_type": "text"
      },
      "source": [
        "saving the model in h5"
      ]
    },
    {
      "cell_type": "code",
      "metadata": {
        "id": "gxTvLpSLHvd2",
        "colab_type": "code",
        "colab": {}
      },
      "source": [
        "model.save(\"model.h5\")"
      ],
      "execution_count": 0,
      "outputs": []
    },
    {
      "cell_type": "code",
      "metadata": {
        "id": "XXwAJG-CJBJc",
        "colab_type": "code",
        "outputId": "166d5cb8-067f-4fd0-915e-5bb50a2f25d8",
        "colab": {
          "base_uri": "https://localhost:8080/",
          "height": 34
        }
      },
      "source": [
        "score = model.evaluate(test,test_label, verbose=0)\n",
        "print(\"%s: %.2f%%\" % (model.metrics_names[1], score[1]*100))"
      ],
      "execution_count": 140,
      "outputs": [
        {
          "output_type": "stream",
          "text": [
            "acc: 98.64%\n"
          ],
          "name": "stdout"
        }
      ]
    }
  ]
}